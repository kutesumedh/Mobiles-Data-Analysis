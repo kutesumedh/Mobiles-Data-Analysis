{
 "cells": [
  {
   "cell_type": "markdown",
   "id": "5b38f620",
   "metadata": {},
   "source": [
    "## Import Necessary Libraries\n",
    "* **numpy** : `numpy` is a fundamental Python library for numerical computing, providing support for large, multi-dimensional arrays and matrices, along with a wide range of mathematical functions to operate on them.\n",
    "* **pandas** : `pandas` is a powerful Python library for data manipulation and analysis, providing data structures like DataFrames and Series to efficiently handle and analyze structured data.\n",
    "* **re** : The `re` module in Python provides support for regular expressions, allowing for pattern matching, searching, and manipulating strings.\n"
   ]
  },
  {
   "cell_type": "code",
   "execution_count": 2,
   "id": "a4d163ce",
   "metadata": {},
   "outputs": [],
   "source": [
    "import numpy as np\n",
    "import pandas as pd\n",
    "import re"
   ]
  },
  {
   "cell_type": "markdown",
   "id": "9756318f",
   "metadata": {},
   "source": [
    "## Importing the scraped data (*mobiles_data*) which is stored in csv file"
   ]
  },
  {
   "cell_type": "code",
   "execution_count": 2,
   "id": "f729cbd9",
   "metadata": {},
   "outputs": [],
   "source": [
    "data = pd.read_csv(r\"C:\\Users\\DELL\\Desktop\\Shashank_DataScience_Project\\mobiles_data.csv\")"
   ]
  },
  {
   "cell_type": "markdown",
   "id": "b4c2f329",
   "metadata": {},
   "source": [
    "## Basic inspection of data\n",
    "* The basic inspection is done so that we can get the information about tha data like its shape, columns, data types, etc."
   ]
  },
  {
   "cell_type": "markdown",
   "id": "41e0c956",
   "metadata": {},
   "source": [
    "### Display the first few rows of the DataFrame using the head() method"
   ]
  },
  {
   "cell_type": "code",
   "execution_count": 3,
   "id": "35be3e09",
   "metadata": {
    "scrolled": false
   },
   "outputs": [
    {
     "data": {
      "text/html": [
       "<div>\n",
       "<style scoped>\n",
       "    .dataframe tbody tr th:only-of-type {\n",
       "        vertical-align: middle;\n",
       "    }\n",
       "\n",
       "    .dataframe tbody tr th {\n",
       "        vertical-align: top;\n",
       "    }\n",
       "\n",
       "    .dataframe thead th {\n",
       "        text-align: right;\n",
       "    }\n",
       "</style>\n",
       "<table border=\"1\" class=\"dataframe\">\n",
       "  <thead>\n",
       "    <tr style=\"text-align: right;\">\n",
       "      <th></th>\n",
       "      <th>Name</th>\n",
       "      <th>Specs Score</th>\n",
       "      <th>Rating</th>\n",
       "      <th>Price</th>\n",
       "      <th>RAM</th>\n",
       "      <th>RAM Type</th>\n",
       "      <th>Resolution</th>\n",
       "      <th>Refresh Rate</th>\n",
       "      <th>Display Type</th>\n",
       "      <th>Screen Size</th>\n",
       "      <th>...</th>\n",
       "      <th>Internal Memory</th>\n",
       "      <th>Expandable Memory</th>\n",
       "      <th>SIM Slot</th>\n",
       "      <th>WiFi</th>\n",
       "      <th>WiFi Features</th>\n",
       "      <th>Bluetooth</th>\n",
       "      <th>GPS</th>\n",
       "      <th>NFC</th>\n",
       "      <th>Radio</th>\n",
       "      <th>Fingerprint Sensor</th>\n",
       "    </tr>\n",
       "  </thead>\n",
       "  <tbody>\n",
       "    <tr>\n",
       "      <th>0</th>\n",
       "      <td>realme GT 6T</td>\n",
       "      <td>88%</td>\n",
       "      <td>8.0 / 10</td>\n",
       "      <td>30,999</td>\n",
       "      <td>8 GB</td>\n",
       "      <td>LPDDR5X</td>\n",
       "      <td>1264x2780 px (FHD+)</td>\n",
       "      <td>120 Hz</td>\n",
       "      <td>LTPO AMOLED</td>\n",
       "      <td>6.78 inches (17.22 cm)</td>\n",
       "      <td>...</td>\n",
       "      <td>128 GBBest in Class▾</td>\n",
       "      <td>No</td>\n",
       "      <td>Dual SIM, GSM+GSM</td>\n",
       "      <td>Yes, Wi-Fi 6E (802.11 a/b/g/n/ac/ax) 5GHz 6GHz</td>\n",
       "      <td>Mobile Hotspot</td>\n",
       "      <td>Yes, v5.4</td>\n",
       "      <td>Yes with A-GPS, Glonass</td>\n",
       "      <td>Yes</td>\n",
       "      <td>No</td>\n",
       "      <td>Yes</td>\n",
       "    </tr>\n",
       "    <tr>\n",
       "      <th>1</th>\n",
       "      <td>OnePlus Nord CE 4 5G</td>\n",
       "      <td>86%</td>\n",
       "      <td>4.3 / 5</td>\n",
       "      <td>24,998</td>\n",
       "      <td>8 GB</td>\n",
       "      <td>LPDDR4X</td>\n",
       "      <td>1080x2412 px (FHD+)</td>\n",
       "      <td>120 Hz</td>\n",
       "      <td>AMOLED</td>\n",
       "      <td>6.7 inches (17.02 cm)</td>\n",
       "      <td>...</td>\n",
       "      <td>128 GBBest in Class▾</td>\n",
       "      <td>Yes, Up to 1 TB</td>\n",
       "      <td>Dual SIM, GSM+GSM</td>\n",
       "      <td>Yes, Wi-Fi 6E (802.11 a/b/g/n/ac/ax) 5GHz 6GHz...</td>\n",
       "      <td>Mobile Hotspot</td>\n",
       "      <td>Yes, v5.4</td>\n",
       "      <td>Yes with A-GPS, Glonass</td>\n",
       "      <td>NaN</td>\n",
       "      <td>No</td>\n",
       "      <td>Yes</td>\n",
       "    </tr>\n",
       "    <tr>\n",
       "      <th>2</th>\n",
       "      <td>Samsung Galaxy F55 5G</td>\n",
       "      <td>89%</td>\n",
       "      <td>3.4 / 5</td>\n",
       "      <td>26,999</td>\n",
       "      <td>8 GB</td>\n",
       "      <td>NaN</td>\n",
       "      <td>1080x2400 px (FHD+)</td>\n",
       "      <td>120 Hz</td>\n",
       "      <td>Super AMOLED Plus</td>\n",
       "      <td>6.7 inches (17.02 cm)</td>\n",
       "      <td>...</td>\n",
       "      <td>128 GBBest in Class▾</td>\n",
       "      <td>Yes, Up to 1 TB</td>\n",
       "      <td>Dual SIM, GSM+GSM</td>\n",
       "      <td>Yes, Wi-Fi 6E (802.11 a/b/g/n/ac/ax) 5GHz 6GHz...</td>\n",
       "      <td>Wi-Fi Direct, Mobile Hotspot</td>\n",
       "      <td>Yes, v5.2</td>\n",
       "      <td>Yes with Glonass</td>\n",
       "      <td>Yes</td>\n",
       "      <td>No</td>\n",
       "      <td>Yes</td>\n",
       "    </tr>\n",
       "    <tr>\n",
       "      <th>3</th>\n",
       "      <td>Infinix GT 20 Pro 5G</td>\n",
       "      <td>89%</td>\n",
       "      <td>4.4 / 5</td>\n",
       "      <td>24,999</td>\n",
       "      <td>8 GB</td>\n",
       "      <td>LPDDR5X</td>\n",
       "      <td>1080x2436 px (FHD+)</td>\n",
       "      <td>144 Hz</td>\n",
       "      <td>AMOLED</td>\n",
       "      <td>6.78 inches (17.22 cm)</td>\n",
       "      <td>...</td>\n",
       "      <td>256 GBBest in Class▾</td>\n",
       "      <td>No</td>\n",
       "      <td>Dual SIM, GSM+GSM</td>\n",
       "      <td>Yes, Wi-Fi 6E (802.11 a/b/g/n/ac/ax) 5GHz 6GHz</td>\n",
       "      <td>Mobile Hotspot</td>\n",
       "      <td>Yes</td>\n",
       "      <td>Yes with A-GPS</td>\n",
       "      <td>Yes</td>\n",
       "      <td>NaN</td>\n",
       "      <td>Yes</td>\n",
       "    </tr>\n",
       "    <tr>\n",
       "      <th>4</th>\n",
       "      <td>Motorola Edge 50 Pro 5G</td>\n",
       "      <td>90%</td>\n",
       "      <td>4.4 / 5</td>\n",
       "      <td>31,142</td>\n",
       "      <td>8 GB</td>\n",
       "      <td>NaN</td>\n",
       "      <td>1220x2712 px (FHD+)</td>\n",
       "      <td>144 Hz</td>\n",
       "      <td>P-OLED</td>\n",
       "      <td>6.7 inches (17.02 cm)</td>\n",
       "      <td>...</td>\n",
       "      <td>256 GBBest in Class▾</td>\n",
       "      <td>No</td>\n",
       "      <td>Dual SIM, GSM+GSM</td>\n",
       "      <td>Yes, Wi-Fi 6E (802.11 a/b/g/n/ac/ax) 5GHz 6GHz</td>\n",
       "      <td>Mobile Hotspot</td>\n",
       "      <td>Yes, v5.4</td>\n",
       "      <td>Yes with A-GPS, Glonass</td>\n",
       "      <td>Yes</td>\n",
       "      <td>No</td>\n",
       "      <td>Yes</td>\n",
       "    </tr>\n",
       "  </tbody>\n",
       "</table>\n",
       "<p>5 rows × 28 columns</p>\n",
       "</div>"
      ],
      "text/plain": [
       "                      Name Specs Score    Rating   Price   RAM RAM Type  \\\n",
       "0             realme GT 6T         88%  8.0 / 10  30,999  8 GB  LPDDR5X   \n",
       "1     OnePlus Nord CE 4 5G         86%   4.3 / 5  24,998  8 GB  LPDDR4X   \n",
       "2    Samsung Galaxy F55 5G         89%   3.4 / 5  26,999  8 GB      NaN   \n",
       "3     Infinix GT 20 Pro 5G         89%   4.4 / 5  24,999  8 GB  LPDDR5X   \n",
       "4  Motorola Edge 50 Pro 5G         90%   4.4 / 5  31,142  8 GB      NaN   \n",
       "\n",
       "            Resolution Refresh Rate       Display Type  \\\n",
       "0  1264x2780 px (FHD+)       120 Hz        LTPO AMOLED   \n",
       "1  1080x2412 px (FHD+)       120 Hz             AMOLED   \n",
       "2  1080x2400 px (FHD+)       120 Hz  Super AMOLED Plus   \n",
       "3  1080x2436 px (FHD+)       144 Hz             AMOLED   \n",
       "4  1220x2712 px (FHD+)       144 Hz             P-OLED   \n",
       "\n",
       "              Screen Size  ...       Internal Memory Expandable Memory  \\\n",
       "0  6.78 inches (17.22 cm)  ...  128 GBBest in Class▾                No   \n",
       "1   6.7 inches (17.02 cm)  ...  128 GBBest in Class▾   Yes, Up to 1 TB   \n",
       "2   6.7 inches (17.02 cm)  ...  128 GBBest in Class▾   Yes, Up to 1 TB   \n",
       "3  6.78 inches (17.22 cm)  ...  256 GBBest in Class▾                No   \n",
       "4   6.7 inches (17.02 cm)  ...  256 GBBest in Class▾                No   \n",
       "\n",
       "            SIM Slot                                               WiFi  \\\n",
       "0  Dual SIM, GSM+GSM     Yes, Wi-Fi 6E (802.11 a/b/g/n/ac/ax) 5GHz 6GHz   \n",
       "1  Dual SIM, GSM+GSM  Yes, Wi-Fi 6E (802.11 a/b/g/n/ac/ax) 5GHz 6GHz...   \n",
       "2  Dual SIM, GSM+GSM  Yes, Wi-Fi 6E (802.11 a/b/g/n/ac/ax) 5GHz 6GHz...   \n",
       "3  Dual SIM, GSM+GSM     Yes, Wi-Fi 6E (802.11 a/b/g/n/ac/ax) 5GHz 6GHz   \n",
       "4  Dual SIM, GSM+GSM     Yes, Wi-Fi 6E (802.11 a/b/g/n/ac/ax) 5GHz 6GHz   \n",
       "\n",
       "                  WiFi Features  Bluetooth                      GPS  NFC  \\\n",
       "0                Mobile Hotspot  Yes, v5.4  Yes with A-GPS, Glonass  Yes   \n",
       "1                Mobile Hotspot  Yes, v5.4  Yes with A-GPS, Glonass  NaN   \n",
       "2  Wi-Fi Direct, Mobile Hotspot  Yes, v5.2         Yes with Glonass  Yes   \n",
       "3                Mobile Hotspot        Yes           Yes with A-GPS  Yes   \n",
       "4                Mobile Hotspot  Yes, v5.4  Yes with A-GPS, Glonass  Yes   \n",
       "\n",
       "  Radio Fingerprint Sensor  \n",
       "0    No                Yes  \n",
       "1    No                Yes  \n",
       "2    No                Yes  \n",
       "3   NaN                Yes  \n",
       "4    No                Yes  \n",
       "\n",
       "[5 rows x 28 columns]"
      ]
     },
     "execution_count": 3,
     "metadata": {},
     "output_type": "execute_result"
    }
   ],
   "source": [
    "data.head()"
   ]
  },
  {
   "cell_type": "markdown",
   "id": "1335f32f",
   "metadata": {},
   "source": [
    "### Display the last few rows of the DataFrame using the head() method"
   ]
  },
  {
   "cell_type": "code",
   "execution_count": 4,
   "id": "92d1beee",
   "metadata": {
    "scrolled": true
   },
   "outputs": [
    {
     "data": {
      "text/html": [
       "<div>\n",
       "<style scoped>\n",
       "    .dataframe tbody tr th:only-of-type {\n",
       "        vertical-align: middle;\n",
       "    }\n",
       "\n",
       "    .dataframe tbody tr th {\n",
       "        vertical-align: top;\n",
       "    }\n",
       "\n",
       "    .dataframe thead th {\n",
       "        text-align: right;\n",
       "    }\n",
       "</style>\n",
       "<table border=\"1\" class=\"dataframe\">\n",
       "  <thead>\n",
       "    <tr style=\"text-align: right;\">\n",
       "      <th></th>\n",
       "      <th>Name</th>\n",
       "      <th>Specs Score</th>\n",
       "      <th>Rating</th>\n",
       "      <th>Price</th>\n",
       "      <th>RAM</th>\n",
       "      <th>RAM Type</th>\n",
       "      <th>Resolution</th>\n",
       "      <th>Refresh Rate</th>\n",
       "      <th>Display Type</th>\n",
       "      <th>Screen Size</th>\n",
       "      <th>...</th>\n",
       "      <th>Internal Memory</th>\n",
       "      <th>Expandable Memory</th>\n",
       "      <th>SIM Slot</th>\n",
       "      <th>WiFi</th>\n",
       "      <th>WiFi Features</th>\n",
       "      <th>Bluetooth</th>\n",
       "      <th>GPS</th>\n",
       "      <th>NFC</th>\n",
       "      <th>Radio</th>\n",
       "      <th>Fingerprint Sensor</th>\n",
       "    </tr>\n",
       "  </thead>\n",
       "  <tbody>\n",
       "    <tr>\n",
       "      <th>13727</th>\n",
       "      <td>VOX Mobile VGS-603</td>\n",
       "      <td>45%</td>\n",
       "      <td>4.1 / 5</td>\n",
       "      <td>1,609(Last Known Price)</td>\n",
       "      <td>NaN</td>\n",
       "      <td>NaN</td>\n",
       "      <td>240 x 400 pixels</td>\n",
       "      <td>NaN</td>\n",
       "      <td>LCD</td>\n",
       "      <td>3 inches (7.62 cm)</td>\n",
       "      <td>...</td>\n",
       "      <td>NaN</td>\n",
       "      <td>Yes, Up to 2 GB</td>\n",
       "      <td>Dual SIM, GSM+GSM</td>\n",
       "      <td>No</td>\n",
       "      <td>NaN</td>\n",
       "      <td>Yes, v2</td>\n",
       "      <td>NaN</td>\n",
       "      <td>NaN</td>\n",
       "      <td>Yes</td>\n",
       "      <td>NaN</td>\n",
       "    </tr>\n",
       "    <tr>\n",
       "      <th>13728</th>\n",
       "      <td>Onida F950</td>\n",
       "      <td>86%</td>\n",
       "      <td>NaN</td>\n",
       "      <td>1,099(Last Known Price)</td>\n",
       "      <td>NaN</td>\n",
       "      <td>NaN</td>\n",
       "      <td>176 x 220 pixels</td>\n",
       "      <td>NaN</td>\n",
       "      <td>LCD</td>\n",
       "      <td>1.9 inches (4.83 cm)</td>\n",
       "      <td>...</td>\n",
       "      <td>NaN</td>\n",
       "      <td>Yes, Up to 2 GB</td>\n",
       "      <td>Single SIM, GSM</td>\n",
       "      <td>No</td>\n",
       "      <td>NaN</td>\n",
       "      <td>Yes</td>\n",
       "      <td>NaN</td>\n",
       "      <td>NaN</td>\n",
       "      <td>NaN</td>\n",
       "      <td>NaN</td>\n",
       "    </tr>\n",
       "    <tr>\n",
       "      <th>13729</th>\n",
       "      <td>HTC Tattoo</td>\n",
       "      <td>45%</td>\n",
       "      <td>1.9 / 5</td>\n",
       "      <td>22,900(Last Known Price)</td>\n",
       "      <td>256 MB</td>\n",
       "      <td>NaN</td>\n",
       "      <td>240 x 320 pixels</td>\n",
       "      <td>NaN</td>\n",
       "      <td>LCD</td>\n",
       "      <td>2.8 inches (7.11 cm)</td>\n",
       "      <td>...</td>\n",
       "      <td>512 MB</td>\n",
       "      <td>Yes</td>\n",
       "      <td>Single SIM, GSM</td>\n",
       "      <td>Yes, Wi-Fi 3 (802.11 a/b/g)</td>\n",
       "      <td>NaN</td>\n",
       "      <td>Yes, v2</td>\n",
       "      <td>Yes with A-GPS</td>\n",
       "      <td>NaN</td>\n",
       "      <td>Yes, RDS</td>\n",
       "      <td>NaN</td>\n",
       "    </tr>\n",
       "    <tr>\n",
       "      <th>13730</th>\n",
       "      <td>Karbonn K20</td>\n",
       "      <td>45%</td>\n",
       "      <td>05-May</td>\n",
       "      <td>1,489(Last Known Price)</td>\n",
       "      <td>NaN</td>\n",
       "      <td>NaN</td>\n",
       "      <td>320 x 240 pixels</td>\n",
       "      <td>NaN</td>\n",
       "      <td>NaN</td>\n",
       "      <td>2.4 inches (6.1 cm)</td>\n",
       "      <td>...</td>\n",
       "      <td>259 KB</td>\n",
       "      <td>Yes, Up to 8 GB</td>\n",
       "      <td>Dual SIM, GSM+GSM</td>\n",
       "      <td>No</td>\n",
       "      <td>NaN</td>\n",
       "      <td>Yes</td>\n",
       "      <td>NaN</td>\n",
       "      <td>NaN</td>\n",
       "      <td>Yes</td>\n",
       "      <td>NaN</td>\n",
       "    </tr>\n",
       "    <tr>\n",
       "      <th>13731</th>\n",
       "      <td>Samsung S5620 Monte</td>\n",
       "      <td>45%</td>\n",
       "      <td>4.3 / 5</td>\n",
       "      <td>10,200(Last Known Price)</td>\n",
       "      <td>NaN</td>\n",
       "      <td>NaN</td>\n",
       "      <td>240 x 400 pixels</td>\n",
       "      <td>NaN</td>\n",
       "      <td>LCD</td>\n",
       "      <td>3 inches (7.62 cm)</td>\n",
       "      <td>...</td>\n",
       "      <td>227 MB</td>\n",
       "      <td>Yes, Up to 16 GB</td>\n",
       "      <td>Single SIM, GSM</td>\n",
       "      <td>Yes, Wi-Fi 3 (802.11 b/g)</td>\n",
       "      <td>NaN</td>\n",
       "      <td>Yes, v2.1</td>\n",
       "      <td>NaN</td>\n",
       "      <td>NaN</td>\n",
       "      <td>Yes, RDS</td>\n",
       "      <td>NaN</td>\n",
       "    </tr>\n",
       "  </tbody>\n",
       "</table>\n",
       "<p>5 rows × 28 columns</p>\n",
       "</div>"
      ],
      "text/plain": [
       "                      Name Specs Score   Rating                     Price  \\\n",
       "13727   VOX Mobile VGS-603         45%  4.1 / 5   1,609(Last Known Price)   \n",
       "13728           Onida F950         86%      NaN   1,099(Last Known Price)   \n",
       "13729           HTC Tattoo         45%  1.9 / 5  22,900(Last Known Price)   \n",
       "13730          Karbonn K20         45%   05-May   1,489(Last Known Price)   \n",
       "13731  Samsung S5620 Monte         45%  4.3 / 5  10,200(Last Known Price)   \n",
       "\n",
       "          RAM RAM Type        Resolution Refresh Rate Display Type  \\\n",
       "13727     NaN      NaN  240 x 400 pixels          NaN          LCD   \n",
       "13728     NaN      NaN  176 x 220 pixels          NaN          LCD   \n",
       "13729  256 MB      NaN  240 x 320 pixels          NaN          LCD   \n",
       "13730     NaN      NaN  320 x 240 pixels          NaN          NaN   \n",
       "13731     NaN      NaN  240 x 400 pixels          NaN          LCD   \n",
       "\n",
       "                Screen Size  ... Internal Memory Expandable Memory  \\\n",
       "13727    3 inches (7.62 cm)  ...             NaN   Yes, Up to 2 GB   \n",
       "13728  1.9 inches (4.83 cm)  ...             NaN   Yes, Up to 2 GB   \n",
       "13729  2.8 inches (7.11 cm)  ...          512 MB               Yes   \n",
       "13730   2.4 inches (6.1 cm)  ...          259 KB   Yes, Up to 8 GB   \n",
       "13731    3 inches (7.62 cm)  ...          227 MB  Yes, Up to 16 GB   \n",
       "\n",
       "                SIM Slot                         WiFi WiFi Features  \\\n",
       "13727  Dual SIM, GSM+GSM                           No           NaN   \n",
       "13728    Single SIM, GSM                           No           NaN   \n",
       "13729    Single SIM, GSM  Yes, Wi-Fi 3 (802.11 a/b/g)           NaN   \n",
       "13730  Dual SIM, GSM+GSM                           No           NaN   \n",
       "13731    Single SIM, GSM    Yes, Wi-Fi 3 (802.11 b/g)           NaN   \n",
       "\n",
       "       Bluetooth             GPS  NFC     Radio Fingerprint Sensor  \n",
       "13727    Yes, v2             NaN  NaN       Yes                NaN  \n",
       "13728        Yes             NaN  NaN       NaN                NaN  \n",
       "13729    Yes, v2  Yes with A-GPS  NaN  Yes, RDS                NaN  \n",
       "13730        Yes             NaN  NaN       Yes                NaN  \n",
       "13731  Yes, v2.1             NaN  NaN  Yes, RDS                NaN  \n",
       "\n",
       "[5 rows x 28 columns]"
      ]
     },
     "execution_count": 4,
     "metadata": {},
     "output_type": "execute_result"
    }
   ],
   "source": [
    "data.tail()"
   ]
  },
  {
   "cell_type": "markdown",
   "id": "cf14df2b",
   "metadata": {},
   "source": [
    "### Checking summary of a DataFrame using .info() method"
   ]
  },
  {
   "cell_type": "code",
   "execution_count": 182,
   "id": "3683a520",
   "metadata": {},
   "outputs": [
    {
     "name": "stdout",
     "output_type": "stream",
     "text": [
      "<class 'pandas.core.frame.DataFrame'>\n",
      "Int64Index: 12904 entries, 0 to 13731\n",
      "Data columns (total 28 columns):\n",
      " #   Column              Non-Null Count  Dtype \n",
      "---  ------              --------------  ----- \n",
      " 0   Name                12901 non-null  object\n",
      " 1   Specs Score         12902 non-null  object\n",
      " 2   Rating              7047 non-null   object\n",
      " 3   Price               12902 non-null  object\n",
      " 4   RAM                 9346 non-null   object\n",
      " 5   RAM Type            3017 non-null   object\n",
      " 6   Resolution          12895 non-null  object\n",
      " 7   Refresh Rate        2032 non-null   object\n",
      " 8   Display Type        12618 non-null  object\n",
      " 9   Screen Size         12775 non-null  object\n",
      " 10  Chipset             7344 non-null   object\n",
      " 11  CPU                 8950 non-null   object\n",
      " 12  Architecture        5089 non-null   object\n",
      " 13  Fabrication         3168 non-null   object\n",
      " 14  Graphics            7028 non-null   object\n",
      " 15  Pixel Density       12590 non-null  object\n",
      " 16  Quick Charging      3287 non-null   object\n",
      " 17  Type-C              6352 non-null   object\n",
      " 18  Internal Memory     9908 non-null   object\n",
      " 19  Expandable Memory   12797 non-null  object\n",
      " 20  SIM Slot            12888 non-null  object\n",
      " 21  WiFi                10049 non-null  object\n",
      " 22  WiFi Features       7425 non-null   object\n",
      " 23  Bluetooth           12833 non-null  object\n",
      " 24  GPS                 8385 non-null   object\n",
      " 25  NFC                 5112 non-null   object\n",
      " 26  Radio               9812 non-null   object\n",
      " 27  Fingerprint Sensor  6542 non-null   object\n",
      "dtypes: object(28)\n",
      "memory usage: 2.9+ MB\n"
     ]
    }
   ],
   "source": [
    "data.info()"
   ]
  },
  {
   "cell_type": "markdown",
   "id": "f30758be",
   "metadata": {},
   "source": [
    "### Get the shape DataFrame using the .shape attribute"
   ]
  },
  {
   "cell_type": "code",
   "execution_count": 177,
   "id": "3fe36616",
   "metadata": {},
   "outputs": [
    {
     "data": {
      "text/plain": [
       "(13732, 28)"
      ]
     },
     "execution_count": 177,
     "metadata": {},
     "output_type": "execute_result"
    }
   ],
   "source": [
    "data.shape"
   ]
  },
  {
   "cell_type": "code",
   "execution_count": 11,
   "id": "a1f31864",
   "metadata": {},
   "outputs": [
    {
     "name": "stdout",
     "output_type": "stream",
     "text": [
      "The imported/uncleaned mobiles data have 13732 no. of rows\n"
     ]
    }
   ],
   "source": [
    "# Number of rows in Dataset\n",
    "rows = data.shape[0]\n",
    "print(f\"The imported/uncleaned mobiles data have {rows} no. of rows\")"
   ]
  },
  {
   "cell_type": "code",
   "execution_count": 12,
   "id": "fa267bda",
   "metadata": {},
   "outputs": [
    {
     "name": "stdout",
     "output_type": "stream",
     "text": [
      "The imported/uncleaned mobiles data have 28 no. of columns\n"
     ]
    }
   ],
   "source": [
    "# Number of columns in Dataset\n",
    "cloumns = data.shape[1]\n",
    "print(f\"The imported/uncleaned mobiles data have {cloumns} no. of columns\")"
   ]
  },
  {
   "cell_type": "code",
   "execution_count": 178,
   "id": "961e7072",
   "metadata": {},
   "outputs": [],
   "source": [
    "#remove duplicates\n",
    "#handle missing values\n",
    "#dealing with outliers (not for data analysis)\n",
    "#converting data types\n",
    "#handling categorical data\n",
    "#dealing with insonsistence data"
   ]
  },
  {
   "cell_type": "markdown",
   "id": "22ee46e5",
   "metadata": {},
   "source": [
    "## Handling duplicated values"
   ]
  },
  {
   "cell_type": "code",
   "execution_count": 179,
   "id": "b89ca736",
   "metadata": {},
   "outputs": [
    {
     "data": {
      "text/plain": [
       "828"
      ]
     },
     "execution_count": 179,
     "metadata": {},
     "output_type": "execute_result"
    }
   ],
   "source": [
    "#Checking if there are an duplicated values\n",
    "data.duplicated().sum()"
   ]
  },
  {
   "cell_type": "code",
   "execution_count": 180,
   "id": "04d7a7e2",
   "metadata": {},
   "outputs": [],
   "source": [
    "# Dropping the tuples/rows which are duplicated\n",
    "data.drop_duplicates(inplace=True)"
   ]
  },
  {
   "cell_type": "markdown",
   "id": "27f43989",
   "metadata": {},
   "source": [
    "## Handling missing values"
   ]
  },
  {
   "cell_type": "code",
   "execution_count": 183,
   "id": "aae5117d",
   "metadata": {},
   "outputs": [
    {
     "data": {
      "text/plain": [
       "Name                      3\n",
       "Specs Score               2\n",
       "Rating                 5857\n",
       "Price                     2\n",
       "RAM                    3558\n",
       "RAM Type               9887\n",
       "Resolution                9\n",
       "Refresh Rate          10872\n",
       "Display Type            286\n",
       "Screen Size             129\n",
       "Chipset                5560\n",
       "CPU                    3954\n",
       "Architecture           7815\n",
       "Fabrication            9736\n",
       "Graphics               5876\n",
       "Pixel Density           314\n",
       "Quick Charging         9617\n",
       "Type-C                 6552\n",
       "Internal Memory        2996\n",
       "Expandable Memory       107\n",
       "SIM Slot                 16\n",
       "WiFi                   2855\n",
       "WiFi Features          5479\n",
       "Bluetooth                71\n",
       "GPS                    4519\n",
       "NFC                    7792\n",
       "Radio                  3092\n",
       "Fingerprint Sensor     6362\n",
       "dtype: int64"
      ]
     },
     "execution_count": 183,
     "metadata": {},
     "output_type": "execute_result"
    }
   ],
   "source": [
    "# Checking if there are any missing values\n",
    "data.isna().sum()"
   ]
  },
  {
   "cell_type": "markdown",
   "id": "e1f32846",
   "metadata": {},
   "source": [
    "* After checking the missing values we get to know that:\n",
    "    * We have 11 columns having more than 5000 missing values\n",
    "    * Some of those columns are not really necessary for the further work\n",
    "    * But, the rating column is important and also have 5857 null values\n",
    "    * Thus, we will not drop the 'rating' column\n",
    "* Thus before handling missing values, we will delete the columns having missing values more than 5000 except 'rating' column."
   ]
  },
  {
   "cell_type": "code",
   "execution_count": 185,
   "id": "e91c81c0",
   "metadata": {},
   "outputs": [],
   "source": [
    "# Deleting the columns having more than 5000 missing values\n",
    "data.drop([\"Refresh Rate\",\"RAM Type\",\"Fabrication\",\"Architecture\",\"Quick Charging\",\"Type-C\",\"NFC\",\"Fingerprint Sensor\",\"WiFi Features\",\"Graphics\"],axis=1,inplace=True)"
   ]
  },
  {
   "cell_type": "markdown",
   "id": "3f03d29e",
   "metadata": {},
   "source": [
    "#### Checking the missing values after the deletion of columns"
   ]
  },
  {
   "cell_type": "code",
   "execution_count": 189,
   "id": "5e96a7bd",
   "metadata": {},
   "outputs": [
    {
     "data": {
      "text/plain": [
       "Name                    3\n",
       "Specs Score             2\n",
       "Rating               5857\n",
       "Price                   2\n",
       "RAM                  3558\n",
       "Resolution              9\n",
       "Display Type          286\n",
       "Screen Size           129\n",
       "Chipset              5560\n",
       "CPU                  3954\n",
       "Pixel Density         314\n",
       "Internal Memory      2996\n",
       "Expandable Memory     107\n",
       "SIM Slot               16\n",
       "WiFi                 2855\n",
       "Bluetooth              71\n",
       "GPS                  4519\n",
       "Radio                3092\n",
       "dtype: int64"
      ]
     },
     "execution_count": 189,
     "metadata": {},
     "output_type": "execute_result"
    }
   ],
   "source": [
    "temp = data\n",
    "temp.isna().sum()"
   ]
  },
  {
   "cell_type": "markdown",
   "id": "52bef9f3",
   "metadata": {},
   "source": [
    "#### Dropping the null values from the dataset \n",
    "* Here we will not drop null values from 'rating' column\n",
    "* We will further replace the null values in 'rating' column with 0."
   ]
  },
  {
   "cell_type": "code",
   "execution_count": 190,
   "id": "91ae21d1",
   "metadata": {},
   "outputs": [],
   "source": [
    "tempdata = temp.dropna(subset=[\"CPU\",\"Name\",\"Specs Score\",\"Price\",\"RAM\",\"Resolution\",\"Display Type\",\"Screen Size\",\"Chipset\",\"Pixel Density\",\"Internal Memory\",\"Expandable Memory\",\"SIM Slot\",\"WiFi\",\"Bluetooth\",\"GPS\",\"Radio\"])"
   ]
  },
  {
   "cell_type": "code",
   "execution_count": 192,
   "id": "cfecf281",
   "metadata": {},
   "outputs": [
    {
     "data": {
      "text/plain": [
       "Name                    0\n",
       "Specs Score             0\n",
       "Rating               1200\n",
       "Price                   0\n",
       "RAM                     0\n",
       "Resolution              0\n",
       "Display Type            0\n",
       "Screen Size             0\n",
       "Chipset                 0\n",
       "CPU                     0\n",
       "Pixel Density           0\n",
       "Internal Memory         0\n",
       "Expandable Memory       0\n",
       "SIM Slot                0\n",
       "WiFi                    0\n",
       "Bluetooth               0\n",
       "GPS                     0\n",
       "Radio                   0\n",
       "dtype: int64"
      ]
     },
     "execution_count": 192,
     "metadata": {},
     "output_type": "execute_result"
    }
   ],
   "source": [
    "tempdata.isna().sum()"
   ]
  },
  {
   "cell_type": "markdown",
   "id": "71a23c0a",
   "metadata": {},
   "source": [
    "## Replacing the null values in 'Rating' column with zero(0)"
   ]
  },
  {
   "cell_type": "code",
   "execution_count": 193,
   "id": "68a82ba8",
   "metadata": {
    "scrolled": false
   },
   "outputs": [
    {
     "name": "stderr",
     "output_type": "stream",
     "text": [
      "C:\\Users\\DELL\\AppData\\Local\\Temp\\ipykernel_9632\\977108005.py:1: SettingWithCopyWarning: \n",
      "A value is trying to be set on a copy of a slice from a DataFrame\n",
      "\n",
      "See the caveats in the documentation: https://pandas.pydata.org/pandas-docs/stable/user_guide/indexing.html#returning-a-view-versus-a-copy\n",
      "  tempdata.loc[(tempdata['Rating'].isna(),'Rating')] = 0\n"
     ]
    }
   ],
   "source": [
    "tempdata.loc[(tempdata['Rating'].isna(),'Rating')] = 0"
   ]
  },
  {
   "cell_type": "code",
   "execution_count": null,
   "id": "8cac366e",
   "metadata": {},
   "outputs": [],
   "source": []
  },
  {
   "cell_type": "markdown",
   "id": "9cf05f9d",
   "metadata": {},
   "source": [
    "## Cleaning the columns from the dataset"
   ]
  },
  {
   "cell_type": "code",
   "execution_count": 196,
   "id": "1deda8dd",
   "metadata": {},
   "outputs": [],
   "source": [
    "df = tempdata"
   ]
  },
  {
   "cell_type": "markdown",
   "id": "b9679371",
   "metadata": {},
   "source": [
    "### Cleaning the 'Specs Score' column"
   ]
  },
  {
   "cell_type": "markdown",
   "id": "3d33081a",
   "metadata": {},
   "source": [
    "#### Remove '%' sign from specs score column and change the column datatype to 'float'"
   ]
  },
  {
   "cell_type": "code",
   "execution_count": 198,
   "id": "d2f7305c",
   "metadata": {},
   "outputs": [
    {
     "name": "stderr",
     "output_type": "stream",
     "text": [
      "C:\\Users\\DELL\\AppData\\Local\\Temp\\ipykernel_9632\\1018227404.py:2: SettingWithCopyWarning: \n",
      "A value is trying to be set on a copy of a slice from a DataFrame.\n",
      "Try using .loc[row_indexer,col_indexer] = value instead\n",
      "\n",
      "See the caveats in the documentation: https://pandas.pydata.org/pandas-docs/stable/user_guide/indexing.html#returning-a-view-versus-a-copy\n",
      "  df[\"Specs Score\"] = df[\"Specs Score\"].str.replace(\"%\",\"\")\n",
      "C:\\Users\\DELL\\AppData\\Local\\Temp\\ipykernel_9632\\1018227404.py:3: SettingWithCopyWarning: \n",
      "A value is trying to be set on a copy of a slice from a DataFrame.\n",
      "Try using .loc[row_indexer,col_indexer] = value instead\n",
      "\n",
      "See the caveats in the documentation: https://pandas.pydata.org/pandas-docs/stable/user_guide/indexing.html#returning-a-view-versus-a-copy\n",
      "  df[\"Specs Score\"] = df[\"Specs Score\"].astype(float)\n"
     ]
    }
   ],
   "source": [
    "df[\"Specs Score\"] = df[\"Specs Score\"].str.replace(\"%\",\"\")\n",
    "df[\"Specs Score\"] = df[\"Specs Score\"].astype(float)"
   ]
  },
  {
   "cell_type": "markdown",
   "id": "e41c19b3",
   "metadata": {},
   "source": [
    "## Cleaning the 'Rating' Column"
   ]
  },
  {
   "cell_type": "markdown",
   "id": "dff19f09",
   "metadata": {},
   "source": [
    "#### Spliting the rating column from '/' and only take first value\n",
    "* We have Rating column in format of (8/10,2/3)\n",
    "* Splitting the 'Rating column and teking the value before the ('/')"
   ]
  },
  {
   "cell_type": "code",
   "execution_count": 200,
   "id": "6fc5f915",
   "metadata": {
    "scrolled": true
   },
   "outputs": [
    {
     "name": "stderr",
     "output_type": "stream",
     "text": [
      "C:\\Users\\DELL\\AppData\\Local\\Temp\\ipykernel_9632\\2969385273.py:1: SettingWithCopyWarning: \n",
      "A value is trying to be set on a copy of a slice from a DataFrame.\n",
      "Try using .loc[row_indexer,col_indexer] = value instead\n",
      "\n",
      "See the caveats in the documentation: https://pandas.pydata.org/pandas-docs/stable/user_guide/indexing.html#returning-a-view-versus-a-copy\n",
      "  df['Rating'] = df['Rating'].str.split('/').str[0]\n"
     ]
    }
   ],
   "source": [
    "df['Rating'] = df['Rating'].str.split('/').str[0]\n",
    "df.loc[(df['Rating'].isna(),'Rating')] = 0"
   ]
  },
  {
   "cell_type": "markdown",
   "id": "02a3342a",
   "metadata": {},
   "source": [
    "#### Converting the data-type to 'folat32'"
   ]
  },
  {
   "cell_type": "code",
   "execution_count": 203,
   "id": "449ef355",
   "metadata": {
    "scrolled": true
   },
   "outputs": [
    {
     "name": "stderr",
     "output_type": "stream",
     "text": [
      "C:\\Users\\DELL\\AppData\\Local\\Temp\\ipykernel_9632\\3196477549.py:1: SettingWithCopyWarning: \n",
      "A value is trying to be set on a copy of a slice from a DataFrame.\n",
      "Try using .loc[row_indexer,col_indexer] = value instead\n",
      "\n",
      "See the caveats in the documentation: https://pandas.pydata.org/pandas-docs/stable/user_guide/indexing.html#returning-a-view-versus-a-copy\n",
      "  df['Rating'] = df['Rating'].astype('float32')\n"
     ]
    }
   ],
   "source": [
    "df['Rating'] = df['Rating'].astype('float32')"
   ]
  },
  {
   "cell_type": "markdown",
   "id": "16a4981d",
   "metadata": {},
   "source": [
    "#### Converting the ratings which are out of 10 to out of 5\n",
    "* We have most of the rating out of 5 but, some of those are out of 10\n",
    "* So we are dividing the ratings which are greater than 5 by 2 so that the rating which are out of 10 will becomes out of 5"
   ]
  },
  {
   "cell_type": "code",
   "execution_count": 205,
   "id": "c3a50204",
   "metadata": {},
   "outputs": [],
   "source": [
    "df.loc[(df['Rating'] > 5,'Rating')] = (df.loc[(df['Rating'] > 5,'Rating')])/2"
   ]
  },
  {
   "cell_type": "markdown",
   "id": "0084d517",
   "metadata": {},
   "source": [
    "### Cleaning the 'Price' column"
   ]
  },
  {
   "cell_type": "code",
   "execution_count": null,
   "id": "2f091637",
   "metadata": {},
   "outputs": [],
   "source": [
    "pattern = re.compile(r\"[1234567890]\")\n",
    "x = df[df['Price'].str.contains(\"Notify\")][\"Price\"].apply(lambda x: pattern.findall(x)).str.join(\"\")"
   ]
  },
  {
   "cell_type": "code",
   "execution_count": null,
   "id": "66bcbaf9",
   "metadata": {},
   "outputs": [],
   "source": [
    "df[df['Price'].str.contains(\"Notify\")][\"Price\"] = x"
   ]
  },
  {
   "cell_type": "code",
   "execution_count": null,
   "id": "c77519e4",
   "metadata": {},
   "outputs": [],
   "source": [
    "pattern = re.compile(r\"[1234567890]\")\n",
    "mask = df['Price'].str.contains(\"Notify\",na=False)\n",
    "df.loc[mask, 'Price'] = df.loc[mask, 'Price'].apply(lambda x: pattern.findall(x)).str.join(\"\")"
   ]
  },
  {
   "cell_type": "code",
   "execution_count": null,
   "id": "b807a392",
   "metadata": {},
   "outputs": [],
   "source": [
    "def temp(x):\n",
    "    try:\n",
    "        if int(x):\n",
    "            return False\n",
    "    except:\n",
    "        return True"
   ]
  },
  {
   "cell_type": "code",
   "execution_count": null,
   "id": "9432121f",
   "metadata": {},
   "outputs": [],
   "source": [
    "mask = df['Price'].apply(temp)\n",
    "df.loc[mask,\"Price\"]=  df.loc[mask,\"Price\"].str.join(\"\")"
   ]
  },
  {
   "cell_type": "code",
   "execution_count": null,
   "id": "942b4c42",
   "metadata": {},
   "outputs": [],
   "source": [
    "df['Price']=df['Price'].astype(\"int\")"
   ]
  },
  {
   "cell_type": "code",
   "execution_count": null,
   "id": "81d5fa30",
   "metadata": {},
   "outputs": [],
   "source": [
    "df.drop(index = df[df['Price'] > 800000].index,inplace=True)"
   ]
  },
  {
   "cell_type": "code",
   "execution_count": 215,
   "id": "a139f21b",
   "metadata": {},
   "outputs": [],
   "source": [
    "df.to_csv('temp1_mobile_data.csv',index=False)"
   ]
  },
  {
   "cell_type": "markdown",
   "id": "16c05620",
   "metadata": {},
   "source": [
    "------------------"
   ]
  },
  {
   "cell_type": "code",
   "execution_count": 216,
   "id": "60211eeb",
   "metadata": {},
   "outputs": [],
   "source": [
    "data = pd.read_csv(r\"C:\\Users\\DELL\\Desktop\\Shashank_DataScience_Project\\temp1_mobile_data.csv\")"
   ]
  },
  {
   "cell_type": "markdown",
   "id": "0cbc8f89",
   "metadata": {},
   "source": [
    "### Creating a new 'brand_name' column\n",
    "* As per the observation 'Name' column containing the name of the mobiles have brand name at very first word\n",
    "* Extracting the brand name from the name of the mobiles"
   ]
  },
  {
   "cell_type": "code",
   "execution_count": 165,
   "id": "2f36ba71",
   "metadata": {},
   "outputs": [],
   "source": [
    "df['brand_name'] = df[\"Name\"].str.split(' ').str[0]"
   ]
  },
  {
   "cell_type": "markdown",
   "id": "0126f627",
   "metadata": {},
   "source": [
    "### Cleaning the 'RAM' column\n",
    "* There are some phones whose ram is in MB and there are some whose ram is in GB, so lets convert all of them in same format"
   ]
  },
  {
   "cell_type": "code",
   "execution_count": null,
   "id": "a0122652",
   "metadata": {},
   "outputs": [],
   "source": [
    "df.loc[df[\"RAM\"].str.split(\" \").str.get(1) == 'GB',\"RAM\"] = df[df[\"RAM\"].str.split(\" \").str.get(1) == 'GB']['RAM'].str.split(\" \").str.get(0).apply(lambda x: float(x) * 1000)"
   ]
  },
  {
   "cell_type": "code",
   "execution_count": null,
   "id": "1ef0a7f5",
   "metadata": {},
   "outputs": [],
   "source": [
    "df.loc[df[\"RAM\"].str.contains(\"MB\",na=False),\"RAM\"] = df.loc[df[\"RAM\"].str.contains(\"MB\",na=False),\"RAM\"].str.split(\" \").str.get(0)"
   ]
  },
  {
   "cell_type": "code",
   "execution_count": null,
   "id": "b4b09302",
   "metadata": {},
   "outputs": [],
   "source": [
    "df.loc[(df['RAM'].str.contains(\"RAM\",na=False)),\"RAM\"] = df[df['RAM'].str.contains(\"RAM\",na=False)][\"RAM\"].str.split(\"GB\").str.get(0).apply(lambda x: int(x) * 1000)"
   ]
  },
  {
   "cell_type": "code",
   "execution_count": null,
   "id": "89d36cf6",
   "metadata": {},
   "outputs": [],
   "source": [
    "df.loc[(df['RAM'].str.contains(\"RAM\",na=False)) | (df['RAM'].str.contains(\"GB\",na=False)),\"RAM\"] = df.loc[(df['RAM'].str.contains(\"RAM\",na=False)) | (df['RAM'].str.contains(\"GB\",na=False)),\"RAM\"].str.split(\"GB\").str.get(0).apply(lambda x: int(x) * 1000)"
   ]
  },
  {
   "cell_type": "code",
   "execution_count": null,
   "id": "e335d33a",
   "metadata": {},
   "outputs": [],
   "source": [
    "df[\"RAM\"].str.split(\" \").str.get(1).value_counts()\n",
    "df[df['RAM'].isna()]"
   ]
  },
  {
   "cell_type": "code",
   "execution_count": null,
   "id": "eb52d29e",
   "metadata": {},
   "outputs": [],
   "source": [
    "df[\"RAM\"] = df[\"RAM\"].astype(\"int\")"
   ]
  },
  {
   "cell_type": "markdown",
   "id": "ce561be2",
   "metadata": {},
   "source": [
    "### Cleaning the 'Chipset' column"
   ]
  },
  {
   "cell_type": "code",
   "execution_count": null,
   "id": "fd35b8da",
   "metadata": {},
   "outputs": [],
   "source": [
    "df[\"Chipset\"].str.split(\" \").str.get(0).value_counts()"
   ]
  },
  {
   "cell_type": "markdown",
   "id": "f35beda3",
   "metadata": {},
   "source": [
    "#### 4nm is not chipset, lets remove it"
   ]
  },
  {
   "cell_type": "code",
   "execution_count": null,
   "id": "90ec318c",
   "metadata": {},
   "outputs": [],
   "source": [
    "df.loc[df['Chipset'].str.contains(\"4nm\"),\"Chipset\"] = df.loc[df['Chipset'].str.contains(\"4nm\"),\"Chipset\"].str[4:]"
   ]
  },
  {
   "cell_type": "code",
   "execution_count": null,
   "id": "b95b74d3",
   "metadata": {},
   "outputs": [],
   "source": [
    "x = df[\"Chipset\"].str.split(\" \").str.get(0) + \" \" + df[\"Chipset\"].str.split(\" \").str.get(1)"
   ]
  },
  {
   "cell_type": "code",
   "execution_count": null,
   "id": "6fb95716",
   "metadata": {},
   "outputs": [],
   "source": [
    "df[df['Chipset'].str.contains(\"Intel\")]\n",
    "df[df['Chipset'].str.contains(\"TI\")]"
   ]
  },
  {
   "cell_type": "code",
   "execution_count": null,
   "id": "e888df4e",
   "metadata": {},
   "outputs": [],
   "source": [
    "df['Chipset'] = df['Chipset'].str.split(\" \").str[0:3].str.join(\" \")"
   ]
  },
  {
   "cell_type": "markdown",
   "id": "4b12330e",
   "metadata": {},
   "source": [
    "### Dropping the 'CPU' column"
   ]
  },
  {
   "cell_type": "code",
   "execution_count": null,
   "id": "8eeb4a3f",
   "metadata": {},
   "outputs": [],
   "source": [
    "df.drop(columns=\"CPU\",inplace=True)"
   ]
  },
  {
   "cell_type": "markdown",
   "id": "c48c08cb",
   "metadata": {},
   "source": [
    "### Cleaning the 'Pixel Density' column"
   ]
  },
  {
   "cell_type": "code",
   "execution_count": null,
   "id": "35db225f",
   "metadata": {},
   "outputs": [],
   "source": [
    "df['Pixel Density'] = df['Pixel Density'].str.split(\" \").str.get(0)\n",
    "df['Pixel Density'] = df['Pixel Density'].astype(\"int\")"
   ]
  },
  {
   "cell_type": "markdown",
   "id": "ffc193d1",
   "metadata": {},
   "source": [
    "### Cleaning the 'Internal Memory' column\n",
    "* In internal memory, there are values in MB, GB and TB, Lets convert them in one scale."
   ]
  },
  {
   "cell_type": "code",
   "execution_count": null,
   "id": "3a11aea9",
   "metadata": {},
   "outputs": [],
   "source": [
    "df.loc[df['Internal Memory'].str.contains(\"GB\",na=False),\"Internal Memory\"] = df[df['Internal Memory'].str.contains(\"GB\",na=False)][\"Internal Memory\"].str.split(\" \").str.get(0).apply(lambda x: float(x)*1000)\n",
    "df.loc[df['Internal Memory'].str.contains(\"TB\",na=False),\"Internal Memory\"] = df[df['Internal Memory'].str.contains(\"TB\",na=False)][\"Internal Memory\"].str.split(\" \").str.get(0).apply(lambda x: float(x)*1000*1000)\n",
    "df.loc[df['Internal Memory'].str.contains(\"MB\",na=False),\"Internal Memory\"] = df[df['Internal Memory'].str.contains(\"MB\",na=False)][\"Internal Memory\"].str.split(\" \").str.get(0)"
   ]
  },
  {
   "cell_type": "code",
   "execution_count": null,
   "id": "fac7abbe",
   "metadata": {},
   "outputs": [],
   "source": [
    "df['Internal Memory'] = df['Internal Memory'].astype(\"int\")"
   ]
  },
  {
   "cell_type": "markdown",
   "id": "ae699549",
   "metadata": {},
   "source": [
    "### Cleaning the 'Expandable Memory' column"
   ]
  },
  {
   "cell_type": "code",
   "execution_count": null,
   "id": "8acfb570",
   "metadata": {},
   "outputs": [],
   "source": [
    "df['Expandable Memory'] = df['Expandable Memory'].str.split(\" \").str.get(0).str.split(\",\").str.get(0)"
   ]
  },
  {
   "cell_type": "markdown",
   "id": "ce8d574e",
   "metadata": {},
   "source": [
    "### Cleaning the 'SIM Slot' column"
   ]
  },
  {
   "cell_type": "code",
   "execution_count": null,
   "id": "22e7ecb6",
   "metadata": {},
   "outputs": [],
   "source": [
    "df['SIM Slot'] = df[\"SIM Slot\"].str.split(\",\").str.get(0)"
   ]
  },
  {
   "cell_type": "code",
   "execution_count": null,
   "id": "deec7982",
   "metadata": {},
   "outputs": [],
   "source": [
    "df[~(df['SIM Slot'].isin([\"Dual SIM\",\"Triple SIM\",\"Single SIM\"]))]"
   ]
  },
  {
   "cell_type": "markdown",
   "id": "64ab21f3",
   "metadata": {},
   "source": [
    "* There are just 4 rows with no info about sim slot, we will fill them manually by searching from web \n",
    "* It seems all these 4 phones have Single SIM only, as they are Very old Models"
   ]
  },
  {
   "cell_type": "code",
   "execution_count": null,
   "id": "44aa0618",
   "metadata": {},
   "outputs": [],
   "source": [
    "#Filling Rows with empty SIm slot as Single SIM\n",
    "df.loc[~(df['SIM Slot'].isin([\"Dual SIM\",\"Triple SIM\",\"Single SIM\"])),'SIM Slot'] = \"Single SIM\""
   ]
  },
  {
   "cell_type": "code",
   "execution_count": null,
   "id": "e3e24381",
   "metadata": {},
   "outputs": [],
   "source": [
    "#There is a chronological order in Sim slot, so we can map them in number.\n",
    "df['SIM Slot'] = df['SIM Slot'].map({\"Dual SIM\" : 2,\"Single SIM\" : 1, \"Triple SIM\" : 3})"
   ]
  },
  {
   "cell_type": "code",
   "execution_count": null,
   "id": "d7c60596",
   "metadata": {},
   "outputs": [],
   "source": [
    "# Converting the column into integer\n",
    "df['SIM Slot'] =  df['SIM Slot'].astype(\"int\")"
   ]
  },
  {
   "cell_type": "markdown",
   "id": "aebdff67",
   "metadata": {},
   "source": [
    "### Cleaning the 'WiFi' column"
   ]
  },
  {
   "cell_type": "code",
   "execution_count": null,
   "id": "e7f3ee67",
   "metadata": {},
   "outputs": [],
   "source": [
    "df[\"WiFi\"] = df[\"WiFi\"].str.split(\" \").str.get(0).str.split(\",\").str.get(0)"
   ]
  },
  {
   "cell_type": "markdown",
   "id": "e58b32e1",
   "metadata": {},
   "source": [
    "### Cleaning the 'Bluetooth' column"
   ]
  },
  {
   "cell_type": "code",
   "execution_count": null,
   "id": "0918488d",
   "metadata": {},
   "outputs": [],
   "source": [
    "df[\"Bluetooth\"] = df[\"Bluetooth\"].str.split(\" \").str.get(0).str.split(\",\").str.get(0)"
   ]
  },
  {
   "cell_type": "markdown",
   "id": "ff5f0cc3",
   "metadata": {},
   "source": [
    "### Cleaning the 'GPS' column"
   ]
  },
  {
   "cell_type": "code",
   "execution_count": null,
   "id": "fdd11c7b",
   "metadata": {},
   "outputs": [],
   "source": [
    "df['GPS'] = df['GPS'].str.split(\" \").str.get(0).str.split(\",\").str.get(0)"
   ]
  },
  {
   "cell_type": "markdown",
   "id": "d725b4e9",
   "metadata": {},
   "source": [
    "### Cleaning the 'Radio' column"
   ]
  },
  {
   "cell_type": "code",
   "execution_count": null,
   "id": "bab7d795",
   "metadata": {},
   "outputs": [],
   "source": [
    "df[\"Radio\"] = df[\"Radio\"].str.split(\" \").str.get(0).str.split(\",\").str.get(0)"
   ]
  },
  {
   "cell_type": "code",
   "execution_count": null,
   "id": "49cfb30c",
   "metadata": {},
   "outputs": [],
   "source": [
    "#I dont know what is RDS, will have to check\n",
    "df[df[\"Radio\"]==\"RDS\"]"
   ]
  },
  {
   "cell_type": "code",
   "execution_count": null,
   "id": "5b687893",
   "metadata": {},
   "outputs": [],
   "source": [
    "#RDS is some kind of information about Radio, so it means this phone has Radio\n",
    "df.loc[df[\"Radio\"]==\"RDS\",\"Radio\"]=\"Yes\""
   ]
  },
  {
   "cell_type": "markdown",
   "id": "d6d793e3",
   "metadata": {},
   "source": [
    "### Cleaning the 'Resoulation' column\n",
    "* We can create 2 cols from Resolution, length and width"
   ]
  },
  {
   "cell_type": "code",
   "execution_count": null,
   "id": "a25a13af",
   "metadata": {},
   "outputs": [],
   "source": [
    "l= df['Resolution'].str.split(\"x\").str.get(0)\n",
    "df.insert(7,'resolution_length',l)"
   ]
  },
  {
   "cell_type": "code",
   "execution_count": null,
   "id": "fc2e25d8",
   "metadata": {},
   "outputs": [],
   "source": [
    "w = df['Resolution'].str.split(\"x\").str.get(1).str.split(\" p\").str.get(0)\n",
    "df.insert(8,'resolution_width',w)"
   ]
  },
  {
   "cell_type": "code",
   "execution_count": null,
   "id": "a1eeb6d5",
   "metadata": {},
   "outputs": [],
   "source": [
    "df['resolution_width'] = df['resolution_width'].astype(\"int\")\n",
    "df['resolution_length'] = df['resolution_length'].astype(\"int\")"
   ]
  },
  {
   "cell_type": "code",
   "execution_count": null,
   "id": "495bec50",
   "metadata": {},
   "outputs": [],
   "source": [
    "#Now we can drop original Resolution Column\n",
    "df.drop(columns=\"Resolution\",inplace=True)"
   ]
  },
  {
   "cell_type": "markdown",
   "id": "d7d86024",
   "metadata": {},
   "source": [
    "### Cleaning the 'Screen Size' column\n",
    "* Same information is given in 2 formats, lets just keep it in Inches"
   ]
  },
  {
   "cell_type": "code",
   "execution_count": null,
   "id": "67ee1d45",
   "metadata": {},
   "outputs": [],
   "source": [
    "df['Screen Size'] = df['Screen Size'].str.split(\" \").str.get(0)"
   ]
  },
  {
   "cell_type": "code",
   "execution_count": null,
   "id": "2eff5bed",
   "metadata": {},
   "outputs": [],
   "source": [
    "df['Screen Size'] = df['Screen Size'].astype(\"float\")"
   ]
  },
  {
   "cell_type": "markdown",
   "id": "632c4562",
   "metadata": {},
   "source": [
    "----------------------"
   ]
  },
  {
   "cell_type": "markdown",
   "id": "bea3c761",
   "metadata": {},
   "source": [
    "## The scrapped data has been cleaned \n",
    "#### Converting the cleaned dataset into csv file"
   ]
  },
  {
   "cell_type": "code",
   "execution_count": null,
   "id": "1e2e5412",
   "metadata": {},
   "outputs": [],
   "source": [
    "df.to_csv(\"final_cleaned.csv\",index=False)"
   ]
  }
 ],
 "metadata": {
  "kernelspec": {
   "display_name": "Python 3 (ipykernel)",
   "language": "python",
   "name": "python3"
  },
  "language_info": {
   "codemirror_mode": {
    "name": "ipython",
    "version": 3
   },
   "file_extension": ".py",
   "mimetype": "text/x-python",
   "name": "python",
   "nbconvert_exporter": "python",
   "pygments_lexer": "ipython3",
   "version": "3.11.4"
  }
 },
 "nbformat": 4,
 "nbformat_minor": 5
}
