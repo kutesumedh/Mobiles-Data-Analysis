{
 "cells": [
  {
   "cell_type": "code",
   "execution_count": 4,
   "id": "805ef799",
   "metadata": {},
   "outputs": [
    {
     "name": "stderr",
     "output_type": "stream",
     "text": [
      "C:\\Users\\Shubham\\anaconda3\\Lib\\site-packages\\pandas\\core\\arrays\\masked.py:60: UserWarning: Pandas requires version '1.3.6' or newer of 'bottleneck' (version '1.3.5' currently installed).\n",
      "  from pandas.core import (\n"
     ]
    }
   ],
   "source": [
    "#Importing necessary libraries\n",
    "\n",
    "import numpy as np\n",
    "import pandas as pd\n",
    "from sklearn.model_selection import train_test_split\n",
    "from sklearn.metrics import r2_score\n",
    "from sklearn.preprocessing import OneHotEncoder\n",
    "from sklearn.ensemble import RandomForestRegressor\n",
    "from sklearn.metrics import r2_score,mean_absolute_percentage_error,make_scorer,mean_squared_error\n",
    "import xgboost as xgb\n",
    "from sklearn.linear_model import LinearRegression\n",
    "from sklearn.svm import SVR\n",
    "from sklearn.preprocessing import StandardScaler\n",
    "from sklearn.model_selection import GridSearchCV\n",
    "from sklearn.compose import ColumnTransformer\n",
    "from sklearn.pipeline import Pipeline\n",
    "import pickle"
   ]
  },
  {
   "cell_type": "markdown",
   "id": "9c218c69",
   "metadata": {},
   "source": [
    "## Reading the dataset "
   ]
  },
  {
   "cell_type": "code",
   "execution_count": 5,
   "id": "edf6cc32",
   "metadata": {},
   "outputs": [],
   "source": [
    "df = pd.read_csv(\"final_cleaned.csv\")"
   ]
  },
  {
   "cell_type": "code",
   "execution_count": 6,
   "id": "00ecfd49",
   "metadata": {},
   "outputs": [
    {
     "data": {
      "text/plain": [
       "WiFi\n",
       "Yes    4582\n",
       "Name: count, dtype: int64"
      ]
     },
     "execution_count": 6,
     "metadata": {},
     "output_type": "execute_result"
    }
   ],
   "source": [
    "df['WiFi'].value_counts()"
   ]
  },
  {
   "cell_type": "code",
   "execution_count": 7,
   "id": "24a8f4ac",
   "metadata": {},
   "outputs": [
    {
     "data": {
      "text/plain": [
       "GPS\n",
       "Yes    4582\n",
       "Name: count, dtype: int64"
      ]
     },
     "execution_count": 7,
     "metadata": {},
     "output_type": "execute_result"
    }
   ],
   "source": [
    "df['GPS'].value_counts()"
   ]
  },
  {
   "cell_type": "markdown",
   "id": "9470eb41",
   "metadata": {},
   "source": [
    "## Dropping Unnecessary Columns \n",
    "\n",
    "* Name: Knowing the phone model makes price prediction redundant.\n",
    "\n",
    "* Specs Score: This score from 91mobiles isn't available to users and is therefore irrelevant.\n",
    "\n",
    "* Rating: Users typically won't know the phone's rating when predicting the price.\n",
    "\n",
    "* Bluetooth: All values are \"yes,\" so there's no variability.\n",
    "\n",
    "* WiFi: All values are \"yes,\" so there's no variability.\n",
    "\n",
    "* GPS: All values are \"yes,\" so there's no variability"
   ]
  },
  {
   "cell_type": "code",
   "execution_count": 11,
   "id": "2d9e380c",
   "metadata": {},
   "outputs": [
    {
     "ename": "KeyError",
     "evalue": "\"['Name', 'Specs Score', 'Rating', 'Bluetooth', 'WiFi', 'GPS'] not found in axis\"",
     "output_type": "error",
     "traceback": [
      "\u001b[1;31m---------------------------------------------------------------------------\u001b[0m",
      "\u001b[1;31mKeyError\u001b[0m                                  Traceback (most recent call last)",
      "Cell \u001b[1;32mIn[11], line 1\u001b[0m\n\u001b[1;32m----> 1\u001b[0m df\u001b[38;5;241m.\u001b[39mdrop(columns\u001b[38;5;241m=\u001b[39m[\u001b[38;5;124m\"\u001b[39m\u001b[38;5;124mName\u001b[39m\u001b[38;5;124m\"\u001b[39m,\u001b[38;5;124m\"\u001b[39m\u001b[38;5;124mSpecs Score\u001b[39m\u001b[38;5;124m\"\u001b[39m,\u001b[38;5;124m\"\u001b[39m\u001b[38;5;124mRating\u001b[39m\u001b[38;5;124m\"\u001b[39m,\u001b[38;5;124m\"\u001b[39m\u001b[38;5;124mBluetooth\u001b[39m\u001b[38;5;124m\"\u001b[39m,\u001b[38;5;124m\"\u001b[39m\u001b[38;5;124mWiFi\u001b[39m\u001b[38;5;124m\"\u001b[39m,\u001b[38;5;124m\"\u001b[39m\u001b[38;5;124mGPS\u001b[39m\u001b[38;5;124m\"\u001b[39m],inplace\u001b[38;5;241m=\u001b[39m\u001b[38;5;28;01mTrue\u001b[39;00m)\n",
      "File \u001b[1;32m~\\anaconda3\\Lib\\site-packages\\pandas\\core\\frame.py:5581\u001b[0m, in \u001b[0;36mDataFrame.drop\u001b[1;34m(self, labels, axis, index, columns, level, inplace, errors)\u001b[0m\n\u001b[0;32m   5433\u001b[0m \u001b[38;5;28;01mdef\u001b[39;00m \u001b[38;5;21mdrop\u001b[39m(\n\u001b[0;32m   5434\u001b[0m     \u001b[38;5;28mself\u001b[39m,\n\u001b[0;32m   5435\u001b[0m     labels: IndexLabel \u001b[38;5;241m|\u001b[39m \u001b[38;5;28;01mNone\u001b[39;00m \u001b[38;5;241m=\u001b[39m \u001b[38;5;28;01mNone\u001b[39;00m,\n\u001b[1;32m   (...)\u001b[0m\n\u001b[0;32m   5442\u001b[0m     errors: IgnoreRaise \u001b[38;5;241m=\u001b[39m \u001b[38;5;124m\"\u001b[39m\u001b[38;5;124mraise\u001b[39m\u001b[38;5;124m\"\u001b[39m,\n\u001b[0;32m   5443\u001b[0m ) \u001b[38;5;241m-\u001b[39m\u001b[38;5;241m>\u001b[39m DataFrame \u001b[38;5;241m|\u001b[39m \u001b[38;5;28;01mNone\u001b[39;00m:\n\u001b[0;32m   5444\u001b[0m \u001b[38;5;250m    \u001b[39m\u001b[38;5;124;03m\"\"\"\u001b[39;00m\n\u001b[0;32m   5445\u001b[0m \u001b[38;5;124;03m    Drop specified labels from rows or columns.\u001b[39;00m\n\u001b[0;32m   5446\u001b[0m \n\u001b[1;32m   (...)\u001b[0m\n\u001b[0;32m   5579\u001b[0m \u001b[38;5;124;03m            weight  1.0     0.8\u001b[39;00m\n\u001b[0;32m   5580\u001b[0m \u001b[38;5;124;03m    \"\"\"\u001b[39;00m\n\u001b[1;32m-> 5581\u001b[0m     \u001b[38;5;28;01mreturn\u001b[39;00m \u001b[38;5;28msuper\u001b[39m()\u001b[38;5;241m.\u001b[39mdrop(\n\u001b[0;32m   5582\u001b[0m         labels\u001b[38;5;241m=\u001b[39mlabels,\n\u001b[0;32m   5583\u001b[0m         axis\u001b[38;5;241m=\u001b[39maxis,\n\u001b[0;32m   5584\u001b[0m         index\u001b[38;5;241m=\u001b[39mindex,\n\u001b[0;32m   5585\u001b[0m         columns\u001b[38;5;241m=\u001b[39mcolumns,\n\u001b[0;32m   5586\u001b[0m         level\u001b[38;5;241m=\u001b[39mlevel,\n\u001b[0;32m   5587\u001b[0m         inplace\u001b[38;5;241m=\u001b[39minplace,\n\u001b[0;32m   5588\u001b[0m         errors\u001b[38;5;241m=\u001b[39merrors,\n\u001b[0;32m   5589\u001b[0m     )\n",
      "File \u001b[1;32m~\\anaconda3\\Lib\\site-packages\\pandas\\core\\generic.py:4788\u001b[0m, in \u001b[0;36mNDFrame.drop\u001b[1;34m(self, labels, axis, index, columns, level, inplace, errors)\u001b[0m\n\u001b[0;32m   4786\u001b[0m \u001b[38;5;28;01mfor\u001b[39;00m axis, labels \u001b[38;5;129;01min\u001b[39;00m axes\u001b[38;5;241m.\u001b[39mitems():\n\u001b[0;32m   4787\u001b[0m     \u001b[38;5;28;01mif\u001b[39;00m labels \u001b[38;5;129;01mis\u001b[39;00m \u001b[38;5;129;01mnot\u001b[39;00m \u001b[38;5;28;01mNone\u001b[39;00m:\n\u001b[1;32m-> 4788\u001b[0m         obj \u001b[38;5;241m=\u001b[39m obj\u001b[38;5;241m.\u001b[39m_drop_axis(labels, axis, level\u001b[38;5;241m=\u001b[39mlevel, errors\u001b[38;5;241m=\u001b[39merrors)\n\u001b[0;32m   4790\u001b[0m \u001b[38;5;28;01mif\u001b[39;00m inplace:\n\u001b[0;32m   4791\u001b[0m     \u001b[38;5;28mself\u001b[39m\u001b[38;5;241m.\u001b[39m_update_inplace(obj)\n",
      "File \u001b[1;32m~\\anaconda3\\Lib\\site-packages\\pandas\\core\\generic.py:4830\u001b[0m, in \u001b[0;36mNDFrame._drop_axis\u001b[1;34m(self, labels, axis, level, errors, only_slice)\u001b[0m\n\u001b[0;32m   4828\u001b[0m         new_axis \u001b[38;5;241m=\u001b[39m axis\u001b[38;5;241m.\u001b[39mdrop(labels, level\u001b[38;5;241m=\u001b[39mlevel, errors\u001b[38;5;241m=\u001b[39merrors)\n\u001b[0;32m   4829\u001b[0m     \u001b[38;5;28;01melse\u001b[39;00m:\n\u001b[1;32m-> 4830\u001b[0m         new_axis \u001b[38;5;241m=\u001b[39m axis\u001b[38;5;241m.\u001b[39mdrop(labels, errors\u001b[38;5;241m=\u001b[39merrors)\n\u001b[0;32m   4831\u001b[0m     indexer \u001b[38;5;241m=\u001b[39m axis\u001b[38;5;241m.\u001b[39mget_indexer(new_axis)\n\u001b[0;32m   4833\u001b[0m \u001b[38;5;66;03m# Case for non-unique axis\u001b[39;00m\n\u001b[0;32m   4834\u001b[0m \u001b[38;5;28;01melse\u001b[39;00m:\n",
      "File \u001b[1;32m~\\anaconda3\\Lib\\site-packages\\pandas\\core\\indexes\\base.py:7070\u001b[0m, in \u001b[0;36mIndex.drop\u001b[1;34m(self, labels, errors)\u001b[0m\n\u001b[0;32m   7068\u001b[0m \u001b[38;5;28;01mif\u001b[39;00m mask\u001b[38;5;241m.\u001b[39many():\n\u001b[0;32m   7069\u001b[0m     \u001b[38;5;28;01mif\u001b[39;00m errors \u001b[38;5;241m!=\u001b[39m \u001b[38;5;124m\"\u001b[39m\u001b[38;5;124mignore\u001b[39m\u001b[38;5;124m\"\u001b[39m:\n\u001b[1;32m-> 7070\u001b[0m         \u001b[38;5;28;01mraise\u001b[39;00m \u001b[38;5;167;01mKeyError\u001b[39;00m(\u001b[38;5;124mf\u001b[39m\u001b[38;5;124m\"\u001b[39m\u001b[38;5;132;01m{\u001b[39;00mlabels[mask]\u001b[38;5;241m.\u001b[39mtolist()\u001b[38;5;132;01m}\u001b[39;00m\u001b[38;5;124m not found in axis\u001b[39m\u001b[38;5;124m\"\u001b[39m)\n\u001b[0;32m   7071\u001b[0m     indexer \u001b[38;5;241m=\u001b[39m indexer[\u001b[38;5;241m~\u001b[39mmask]\n\u001b[0;32m   7072\u001b[0m \u001b[38;5;28;01mreturn\u001b[39;00m \u001b[38;5;28mself\u001b[39m\u001b[38;5;241m.\u001b[39mdelete(indexer)\n",
      "\u001b[1;31mKeyError\u001b[0m: \"['Name', 'Specs Score', 'Rating', 'Bluetooth', 'WiFi', 'GPS'] not found in axis\""
     ]
    }
   ],
   "source": [
    "df.drop(columns=[\"Name\",\"Specs Score\",\"Rating\",\"Bluetooth\",\"WiFi\",\"GPS\"],inplace=True)"
   ]
  },
  {
   "cell_type": "code",
   "execution_count": 12,
   "id": "61827bfb",
   "metadata": {
    "scrolled": true
   },
   "outputs": [
    {
     "data": {
      "text/html": [
       "<div>\n",
       "<style scoped>\n",
       "    .dataframe tbody tr th:only-of-type {\n",
       "        vertical-align: middle;\n",
       "    }\n",
       "\n",
       "    .dataframe tbody tr th {\n",
       "        vertical-align: top;\n",
       "    }\n",
       "\n",
       "    .dataframe thead th {\n",
       "        text-align: right;\n",
       "    }\n",
       "</style>\n",
       "<table border=\"1\" class=\"dataframe\">\n",
       "  <thead>\n",
       "    <tr style=\"text-align: right;\">\n",
       "      <th></th>\n",
       "      <th>brand</th>\n",
       "      <th>Price</th>\n",
       "      <th>RAM</th>\n",
       "      <th>resolution_length</th>\n",
       "      <th>resolution_width</th>\n",
       "      <th>Display Type</th>\n",
       "      <th>Screen Size</th>\n",
       "      <th>Chipset</th>\n",
       "      <th>Pixel Density</th>\n",
       "      <th>Internal Memory</th>\n",
       "      <th>Expandable Memory</th>\n",
       "      <th>SIM Slot</th>\n",
       "      <th>Radio</th>\n",
       "    </tr>\n",
       "  </thead>\n",
       "  <tbody>\n",
       "    <tr>\n",
       "      <th>0</th>\n",
       "      <td>realme</td>\n",
       "      <td>30999</td>\n",
       "      <td>8000</td>\n",
       "      <td>1264</td>\n",
       "      <td>2780</td>\n",
       "      <td>LTPO AMOLED</td>\n",
       "      <td>6.78</td>\n",
       "      <td>Qualcomm Snapdragon 7</td>\n",
       "      <td>450</td>\n",
       "      <td>128000</td>\n",
       "      <td>No</td>\n",
       "      <td>2</td>\n",
       "      <td>No</td>\n",
       "    </tr>\n",
       "    <tr>\n",
       "      <th>1</th>\n",
       "      <td>OnePlus</td>\n",
       "      <td>24998</td>\n",
       "      <td>8000</td>\n",
       "      <td>1080</td>\n",
       "      <td>2412</td>\n",
       "      <td>AMOLED</td>\n",
       "      <td>6.70</td>\n",
       "      <td>Qualcomm Snapdragon 7</td>\n",
       "      <td>394</td>\n",
       "      <td>128000</td>\n",
       "      <td>Yes</td>\n",
       "      <td>2</td>\n",
       "      <td>No</td>\n",
       "    </tr>\n",
       "    <tr>\n",
       "      <th>2</th>\n",
       "      <td>Samsung</td>\n",
       "      <td>26999</td>\n",
       "      <td>8000</td>\n",
       "      <td>1080</td>\n",
       "      <td>2400</td>\n",
       "      <td>Super AMOLED Plus</td>\n",
       "      <td>6.70</td>\n",
       "      <td>Qualcomm Snapdragon 7</td>\n",
       "      <td>393</td>\n",
       "      <td>128000</td>\n",
       "      <td>Yes</td>\n",
       "      <td>2</td>\n",
       "      <td>No</td>\n",
       "    </tr>\n",
       "    <tr>\n",
       "      <th>3</th>\n",
       "      <td>Motorola</td>\n",
       "      <td>31142</td>\n",
       "      <td>8000</td>\n",
       "      <td>1220</td>\n",
       "      <td>2712</td>\n",
       "      <td>P-OLED</td>\n",
       "      <td>6.70</td>\n",
       "      <td>Qualcomm Snapdragon 7</td>\n",
       "      <td>444</td>\n",
       "      <td>256000</td>\n",
       "      <td>No</td>\n",
       "      <td>2</td>\n",
       "      <td>No</td>\n",
       "    </tr>\n",
       "    <tr>\n",
       "      <th>4</th>\n",
       "      <td>POCO</td>\n",
       "      <td>24499</td>\n",
       "      <td>8000</td>\n",
       "      <td>1220</td>\n",
       "      <td>2712</td>\n",
       "      <td>AMOLED</td>\n",
       "      <td>6.67</td>\n",
       "      <td>MediaTek Dimensity 8300</td>\n",
       "      <td>446</td>\n",
       "      <td>256000</td>\n",
       "      <td>No</td>\n",
       "      <td>2</td>\n",
       "      <td>No</td>\n",
       "    </tr>\n",
       "    <tr>\n",
       "      <th>...</th>\n",
       "      <td>...</td>\n",
       "      <td>...</td>\n",
       "      <td>...</td>\n",
       "      <td>...</td>\n",
       "      <td>...</td>\n",
       "      <td>...</td>\n",
       "      <td>...</td>\n",
       "      <td>...</td>\n",
       "      <td>...</td>\n",
       "      <td>...</td>\n",
       "      <td>...</td>\n",
       "      <td>...</td>\n",
       "      <td>...</td>\n",
       "    </tr>\n",
       "    <tr>\n",
       "      <th>4577</th>\n",
       "      <td>BLU</td>\n",
       "      <td>11990</td>\n",
       "      <td>1500</td>\n",
       "      <td>720</td>\n",
       "      <td>1280</td>\n",
       "      <td>Super AMOLED</td>\n",
       "      <td>5.00</td>\n",
       "      <td>MediaTek MT6735</td>\n",
       "      <td>294</td>\n",
       "      <td>16000</td>\n",
       "      <td>Yes</td>\n",
       "      <td>2</td>\n",
       "      <td>Yes</td>\n",
       "    </tr>\n",
       "    <tr>\n",
       "      <th>4578</th>\n",
       "      <td>Samsung</td>\n",
       "      <td>22990</td>\n",
       "      <td>4000</td>\n",
       "      <td>1080</td>\n",
       "      <td>1920</td>\n",
       "      <td>Super AMOLED</td>\n",
       "      <td>5.20</td>\n",
       "      <td>Qualcomm Snapdragon 617</td>\n",
       "      <td>424</td>\n",
       "      <td>32000</td>\n",
       "      <td>Yes</td>\n",
       "      <td>2</td>\n",
       "      <td>Yes</td>\n",
       "    </tr>\n",
       "    <tr>\n",
       "      <th>4579</th>\n",
       "      <td>HTC</td>\n",
       "      <td>41990</td>\n",
       "      <td>3000</td>\n",
       "      <td>1440</td>\n",
       "      <td>2560</td>\n",
       "      <td>IPS LCD</td>\n",
       "      <td>5.20</td>\n",
       "      <td>MediaTek MT6795T</td>\n",
       "      <td>565</td>\n",
       "      <td>32000</td>\n",
       "      <td>Yes</td>\n",
       "      <td>1</td>\n",
       "      <td>Yes</td>\n",
       "    </tr>\n",
       "    <tr>\n",
       "      <th>4580</th>\n",
       "      <td>Xiaomi</td>\n",
       "      <td>9990</td>\n",
       "      <td>2000</td>\n",
       "      <td>1080</td>\n",
       "      <td>1920</td>\n",
       "      <td>IPS LCD</td>\n",
       "      <td>5.50</td>\n",
       "      <td>MediaTek MT6795</td>\n",
       "      <td>401</td>\n",
       "      <td>32000</td>\n",
       "      <td>Yes</td>\n",
       "      <td>2</td>\n",
       "      <td>Yes</td>\n",
       "    </tr>\n",
       "    <tr>\n",
       "      <th>4581</th>\n",
       "      <td>HTC</td>\n",
       "      <td>22900</td>\n",
       "      <td>256</td>\n",
       "      <td>240</td>\n",
       "      <td>320</td>\n",
       "      <td>LCD</td>\n",
       "      <td>2.80</td>\n",
       "      <td>Qualcomm Snapdragon S1</td>\n",
       "      <td>143</td>\n",
       "      <td>512</td>\n",
       "      <td>Yes</td>\n",
       "      <td>1</td>\n",
       "      <td>Yes</td>\n",
       "    </tr>\n",
       "  </tbody>\n",
       "</table>\n",
       "<p>4582 rows × 13 columns</p>\n",
       "</div>"
      ],
      "text/plain": [
       "         brand  Price   RAM  resolution_length  resolution_width  \\\n",
       "0       realme  30999  8000               1264              2780   \n",
       "1      OnePlus  24998  8000               1080              2412   \n",
       "2      Samsung  26999  8000               1080              2400   \n",
       "3     Motorola  31142  8000               1220              2712   \n",
       "4         POCO  24499  8000               1220              2712   \n",
       "...        ...    ...   ...                ...               ...   \n",
       "4577       BLU  11990  1500                720              1280   \n",
       "4578   Samsung  22990  4000               1080              1920   \n",
       "4579       HTC  41990  3000               1440              2560   \n",
       "4580    Xiaomi   9990  2000               1080              1920   \n",
       "4581       HTC  22900   256                240               320   \n",
       "\n",
       "           Display Type  Screen Size                  Chipset  Pixel Density  \\\n",
       "0           LTPO AMOLED         6.78    Qualcomm Snapdragon 7            450   \n",
       "1                AMOLED         6.70    Qualcomm Snapdragon 7            394   \n",
       "2     Super AMOLED Plus         6.70    Qualcomm Snapdragon 7            393   \n",
       "3                P-OLED         6.70    Qualcomm Snapdragon 7            444   \n",
       "4                AMOLED         6.67  MediaTek Dimensity 8300            446   \n",
       "...                 ...          ...                      ...            ...   \n",
       "4577       Super AMOLED         5.00          MediaTek MT6735            294   \n",
       "4578       Super AMOLED         5.20  Qualcomm Snapdragon 617            424   \n",
       "4579            IPS LCD         5.20         MediaTek MT6795T            565   \n",
       "4580            IPS LCD         5.50          MediaTek MT6795            401   \n",
       "4581                LCD         2.80   Qualcomm Snapdragon S1            143   \n",
       "\n",
       "      Internal Memory Expandable Memory  SIM Slot Radio  \n",
       "0              128000                No         2    No  \n",
       "1              128000               Yes         2    No  \n",
       "2              128000               Yes         2    No  \n",
       "3              256000                No         2    No  \n",
       "4              256000                No         2    No  \n",
       "...               ...               ...       ...   ...  \n",
       "4577            16000               Yes         2   Yes  \n",
       "4578            32000               Yes         2   Yes  \n",
       "4579            32000               Yes         1   Yes  \n",
       "4580            32000               Yes         2   Yes  \n",
       "4581              512               Yes         1   Yes  \n",
       "\n",
       "[4582 rows x 13 columns]"
      ]
     },
     "execution_count": 12,
     "metadata": {},
     "output_type": "execute_result"
    }
   ],
   "source": [
    "df"
   ]
  },
  {
   "cell_type": "markdown",
   "id": "a15732ae",
   "metadata": {},
   "source": [
    "## Label encoding of Expandable Memory and Radio column.\n"
   ]
  },
  {
   "cell_type": "code",
   "execution_count": 13,
   "id": "c3548045",
   "metadata": {},
   "outputs": [],
   "source": [
    "df['Expandable Memory'] = df['Expandable Memory'].map({\"Yes\":1,\"No\":0})         \n",
    "df['Radio'] = df['Radio'].map({\"Yes\":1,\"No\":0})"
   ]
  },
  {
   "cell_type": "markdown",
   "id": "6b0c8cb4",
   "metadata": {},
   "source": [
    "## We tried scaling the data using StandardScaler but that didn't affect the results much, so we are continuing without scaling. "
   ]
  },
  {
   "cell_type": "markdown",
   "id": "178c7569",
   "metadata": {},
   "source": [
    "## Encoding of the categorical variables for deiciding our model. "
   ]
  },
  {
   "cell_type": "code",
   "execution_count": 25,
   "id": "26d31cab",
   "metadata": {
    "scrolled": false
   },
   "outputs": [],
   "source": [
    "df_encoded = pd.get_dummies(df,dtype=int)"
   ]
  },
  {
   "cell_type": "markdown",
   "id": "9ddbf606",
   "metadata": {},
   "source": [
    "## Lets choose one ML model for our problem"
   ]
  },
  {
   "cell_type": "code",
   "execution_count": 36,
   "id": "a277f505",
   "metadata": {},
   "outputs": [],
   "source": [
    "#Splitting the data\n",
    "x = df_encoded.drop(columns='Price')\n",
    "y = df_encoded['Price']\n",
    "x_train,x_test,y_train,y_test = train_test_split(x,y,test_size = 0.2,random_state=52)"
   ]
  },
  {
   "cell_type": "code",
   "execution_count": 37,
   "id": "9c9be4cb",
   "metadata": {},
   "outputs": [
    {
     "name": "stdout",
     "output_type": "stream",
     "text": [
      "r2 score: 0.8334420306369618\n",
      "mean percentage error: 0.32144341264410414\n"
     ]
    }
   ],
   "source": [
    "#Random forest\n",
    "model = RandomForestRegressor(n_estimators = 100)\n",
    "model.fit(x_train,y_train)\n",
    "y_pred = model.predict(x_test)\n",
    "\n",
    "\n",
    "print(f\"r2 score: {r2_score(y_test,y_pred)}\")\n",
    "print(f\"mean percentage error: {mean_absolute_percentage_error(y_test,y_pred)}\")"
   ]
  },
  {
   "cell_type": "code",
   "execution_count": 38,
   "id": "a8a864c0",
   "metadata": {},
   "outputs": [
    {
     "name": "stdout",
     "output_type": "stream",
     "text": [
      "r2 score: 0.8601375840769038\n",
      "mean percentage error: 0.3457398998100377\n"
     ]
    }
   ],
   "source": [
    "#XgBoost\n",
    "\n",
    "xg_reg = xgb.XGBRegressor(objective ='reg:squarederror', \n",
    "                          colsample_bytree = 0.3, \n",
    "                          learning_rate = 0.1,\n",
    "                          max_depth = 5, \n",
    "                          alpha = 100, \n",
    "                          n_estimators = 200)\n",
    "\n",
    "xg_reg.fit(x_train, y_train)\n",
    "y_pred = xg_reg.predict(x_test)\n",
    "\n",
    "print(f\"r2 score: {r2_score(y_test,y_pred)}\")\n",
    "print(f\"mean percentage error: {mean_absolute_percentage_error(y_test,y_pred)}\")"
   ]
  },
  {
   "cell_type": "code",
   "execution_count": 29,
   "id": "dde2f161",
   "metadata": {},
   "outputs": [
    {
     "name": "stdout",
     "output_type": "stream",
     "text": [
      "r2 score: 0.8053724900541427\n",
      "mean percentage error: 0.3786369152451634\n"
     ]
    }
   ],
   "source": [
    "#Linear regression\n",
    "\n",
    "model = LinearRegression()\n",
    "model.fit(x_train,y_train)\n",
    "y_pred = model.predict(x_test)\n",
    "\n",
    "\n",
    "print(f\"r2 score: {r2_score(y_test,y_pred)}\")\n",
    "print(f\"mean percentage error: {mean_absolute_percentage_error(y_test,y_pred)}\")"
   ]
  },
  {
   "cell_type": "code",
   "execution_count": 30,
   "id": "ecf424a6",
   "metadata": {},
   "outputs": [
    {
     "name": "stdout",
     "output_type": "stream",
     "text": [
      "r2 score: -0.08711353138742295\n",
      "mean percentage error: 0.6427927550699376\n"
     ]
    }
   ],
   "source": [
    "#Support vector regressor\n",
    "\n",
    "model = SVR(kernel='rbf', C=100, gamma=0.1, epsilon=.1)\n",
    "model.fit(x_train,y_train)\n",
    "y_pred = model.predict(x_test)\n",
    "\n",
    "\n",
    "print(f\"r2 score: {r2_score(y_test,y_pred)}\")\n",
    "print(f\"mean percentage error: {mean_absolute_percentage_error(y_test,y_pred)}\")"
   ]
  },
  {
   "cell_type": "markdown",
   "id": "5e97c411",
   "metadata": {},
   "source": [
    "### As of now, XGboost and Random Forest are giving good results, \n",
    "### performing hyperparameter tuning on both of them and then will decide our final model"
   ]
  },
  {
   "cell_type": "code",
   "execution_count": 41,
   "id": "f1ae16d2",
   "metadata": {},
   "outputs": [
    {
     "name": "stdout",
     "output_type": "stream",
     "text": [
      "Fitting 5 folds for each of 108 candidates, totalling 540 fits\n",
      "Best parameters found:  {'colsample_bytree': 0.8, 'learning_rate': 0.3, 'max_depth': 5, 'n_estimators': 200, 'subsample': 1.0}\n",
      "Best cross-validation score (MSE): -78229391.72\n",
      "Test set MSE: 67381867.99\n"
     ]
    }
   ],
   "source": [
    "#performing hyperparameter tuning for XGBoost\n",
    "X_train, X_test, y_train, y_test = train_test_split(x, y, test_size=0.2, random_state=52)\n",
    "\n",
    "param_grid = {\n",
    "    'n_estimators': [50, 100, 200],\n",
    "    'max_depth': [3, 5, 7],\n",
    "    'learning_rate': [0.01, 0.1, 0.3],\n",
    "    'subsample': [0.8, 1.0],\n",
    "    'colsample_bytree': [0.8, 1.0]\n",
    "}\n",
    "\n",
    "xgb_model = xgb.XGBRegressor(random_state=42)\n",
    "\n",
    "scorer = make_scorer(mean_squared_error, greater_is_better=False)\n",
    "grid_search = GridSearchCV(estimator=xgb_model, param_grid=param_grid, cv=5, scoring=scorer,refit='r2_score',verbose=2, n_jobs=-1)\n",
    "\n",
    "grid_search.fit(X_train, y_train)\n",
    "\n",
    "print(\"Best parameters found: \", grid_search.best_params_)\n",
    "print(\"Best cross-validation score (MSE): {:.2f}\".format(grid_search.best_score_))\n",
    "\n",
    "y_pred = grid_search.best_estimator_.predict(X_test)\n",
    "test_mse = mean_squared_error(y_test, y_pred)\n",
    "print(\"Test set MSE: {:.2f}\".format(test_mse))"
   ]
  },
  {
   "cell_type": "code",
   "execution_count": 43,
   "id": "a758bc37",
   "metadata": {},
   "outputs": [],
   "source": [
    "xg_boost_params = grid_search.best_params_"
   ]
  },
  {
   "cell_type": "code",
   "execution_count": 44,
   "id": "b08c0c00",
   "metadata": {},
   "outputs": [
    {
     "name": "stdout",
     "output_type": "stream",
     "text": [
      "Fitting 5 folds for each of 324 candidates, totalling 1620 fits\n"
     ]
    },
    {
     "name": "stderr",
     "output_type": "stream",
     "text": [
      "C:\\Users\\Shubham\\anaconda3\\Lib\\site-packages\\sklearn\\model_selection\\_validation.py:425: FitFailedWarning: \n",
      "540 fits failed out of a total of 1620.\n",
      "The score on these train-test partitions for these parameters will be set to nan.\n",
      "If these failures are not expected, you can try to debug them by setting error_score='raise'.\n",
      "\n",
      "Below are more details about the failures:\n",
      "--------------------------------------------------------------------------------\n",
      "262 fits failed with the following error:\n",
      "Traceback (most recent call last):\n",
      "  File \"C:\\Users\\Shubham\\anaconda3\\Lib\\site-packages\\sklearn\\model_selection\\_validation.py\", line 732, in _fit_and_score\n",
      "    estimator.fit(X_train, y_train, **fit_params)\n",
      "  File \"C:\\Users\\Shubham\\anaconda3\\Lib\\site-packages\\sklearn\\base.py\", line 1144, in wrapper\n",
      "    estimator._validate_params()\n",
      "  File \"C:\\Users\\Shubham\\anaconda3\\Lib\\site-packages\\sklearn\\base.py\", line 637, in _validate_params\n",
      "    validate_parameter_constraints(\n",
      "  File \"C:\\Users\\Shubham\\anaconda3\\Lib\\site-packages\\sklearn\\utils\\_param_validation.py\", line 95, in validate_parameter_constraints\n",
      "    raise InvalidParameterError(\n",
      "sklearn.utils._param_validation.InvalidParameterError: The 'max_features' parameter of RandomForestRegressor must be an int in the range [1, inf), a float in the range (0.0, 1.0], a str among {'log2', 'sqrt'} or None. Got 'auto' instead.\n",
      "\n",
      "--------------------------------------------------------------------------------\n",
      "278 fits failed with the following error:\n",
      "Traceback (most recent call last):\n",
      "  File \"C:\\Users\\Shubham\\anaconda3\\Lib\\site-packages\\sklearn\\model_selection\\_validation.py\", line 732, in _fit_and_score\n",
      "    estimator.fit(X_train, y_train, **fit_params)\n",
      "  File \"C:\\Users\\Shubham\\anaconda3\\Lib\\site-packages\\sklearn\\base.py\", line 1144, in wrapper\n",
      "    estimator._validate_params()\n",
      "  File \"C:\\Users\\Shubham\\anaconda3\\Lib\\site-packages\\sklearn\\base.py\", line 637, in _validate_params\n",
      "    validate_parameter_constraints(\n",
      "  File \"C:\\Users\\Shubham\\anaconda3\\Lib\\site-packages\\sklearn\\utils\\_param_validation.py\", line 95, in validate_parameter_constraints\n",
      "    raise InvalidParameterError(\n",
      "sklearn.utils._param_validation.InvalidParameterError: The 'max_features' parameter of RandomForestRegressor must be an int in the range [1, inf), a float in the range (0.0, 1.0], a str among {'sqrt', 'log2'} or None. Got 'auto' instead.\n",
      "\n",
      "  warnings.warn(some_fits_failed_message, FitFailedWarning)\n",
      "C:\\Users\\Shubham\\anaconda3\\Lib\\site-packages\\sklearn\\model_selection\\_search.py:976: UserWarning: One or more of the test scores are non-finite: [            nan             nan             nan             nan\n",
      "             nan             nan             nan             nan\n",
      "             nan             nan             nan             nan\n",
      "             nan             nan             nan             nan\n",
      "             nan             nan             nan             nan\n",
      "             nan             nan             nan             nan\n",
      "             nan             nan             nan -8.07163132e+07\n",
      " -7.85809753e+07 -7.84937817e+07 -8.22888326e+07 -8.05850722e+07\n",
      " -8.10989347e+07 -8.86856118e+07 -8.74448879e+07 -8.77151657e+07\n",
      " -1.15929683e+08 -1.15254984e+08 -1.14890082e+08 -1.15203384e+08\n",
      " -1.16681095e+08 -1.15543315e+08 -1.19005532e+08 -1.17848444e+08\n",
      " -1.17701318e+08 -1.50915318e+08 -1.52129711e+08 -1.51464201e+08\n",
      " -1.50915318e+08 -1.52129711e+08 -1.51464201e+08 -1.48078935e+08\n",
      " -1.49164916e+08 -1.51202055e+08 -7.96515956e+07 -7.94397990e+07\n",
      " -7.94894138e+07 -8.32613642e+07 -8.27583110e+07 -8.23821011e+07\n",
      " -9.17715968e+07 -9.12390074e+07 -9.07080887e+07 -1.71690233e+08\n",
      " -1.70748041e+08 -1.70057671e+08 -1.72704942e+08 -1.70282947e+08\n",
      " -1.69838014e+08 -1.74995062e+08 -1.71346099e+08 -1.71495157e+08\n",
      " -2.21574219e+08 -2.27117805e+08 -2.27663496e+08 -2.21574219e+08\n",
      " -2.27117805e+08 -2.27663496e+08 -2.21363829e+08 -2.25959651e+08\n",
      " -2.25560967e+08             nan             nan             nan\n",
      "             nan             nan             nan             nan\n",
      "             nan             nan             nan             nan\n",
      "             nan             nan             nan             nan\n",
      "             nan             nan             nan             nan\n",
      "             nan             nan             nan             nan\n",
      "             nan             nan             nan             nan\n",
      " -1.30411024e+08 -1.27857521e+08 -1.27756952e+08 -1.30445995e+08\n",
      " -1.28840053e+08 -1.28294583e+08 -1.34281234e+08 -1.33246064e+08\n",
      " -1.32851814e+08 -1.40291418e+08 -1.42169636e+08 -1.41376143e+08\n",
      " -1.43595740e+08 -1.42659932e+08 -1.42573666e+08 -1.47414282e+08\n",
      " -1.47312197e+08 -1.44924817e+08 -1.63458452e+08 -1.67952851e+08\n",
      " -1.66437131e+08 -1.63458452e+08 -1.67952851e+08 -1.66437131e+08\n",
      " -1.65630360e+08 -1.66699818e+08 -1.65280489e+08 -2.13785446e+08\n",
      " -2.14124217e+08 -2.12093812e+08 -2.15411261e+08 -2.16013148e+08\n",
      " -2.13042092e+08 -2.16769722e+08 -2.15710460e+08 -2.15019410e+08\n",
      " -2.36685955e+08 -2.37356461e+08 -2.35706431e+08 -2.37591283e+08\n",
      " -2.37068624e+08 -2.36107442e+08 -2.41279156e+08 -2.38470571e+08\n",
      " -2.37044290e+08 -2.59650480e+08 -2.61272992e+08 -2.61788459e+08\n",
      " -2.59650480e+08 -2.61272992e+08 -2.61788459e+08 -2.60500849e+08\n",
      " -2.62111772e+08 -2.62964230e+08             nan             nan\n",
      "             nan             nan             nan             nan\n",
      "             nan             nan             nan             nan\n",
      "             nan             nan             nan             nan\n",
      "             nan             nan             nan             nan\n",
      "             nan             nan             nan             nan\n",
      "             nan             nan             nan             nan\n",
      "             nan -8.74825684e+07 -8.62918408e+07 -8.72252372e+07\n",
      " -9.19017499e+07 -9.12808211e+07 -9.11011012e+07 -9.62795432e+07\n",
      " -9.59101623e+07 -9.58512508e+07 -1.17536790e+08 -1.18439367e+08\n",
      " -1.18003494e+08 -1.17029573e+08 -1.18063568e+08 -1.18434304e+08\n",
      " -1.20097398e+08 -1.20031664e+08 -1.19852347e+08 -1.48399827e+08\n",
      " -1.51140156e+08 -1.52333515e+08 -1.48399827e+08 -1.51140156e+08\n",
      " -1.52333515e+08 -1.53912761e+08 -1.52052636e+08 -1.51339274e+08\n",
      " -1.19455592e+08 -1.20233420e+08 -1.19398306e+08 -1.24834547e+08\n",
      " -1.25397074e+08 -1.24903055e+08 -1.32606397e+08 -1.31670586e+08\n",
      " -1.31233848e+08 -1.82755489e+08 -1.82909735e+08 -1.83426232e+08\n",
      " -1.83066952e+08 -1.83166014e+08 -1.82209201e+08 -1.78811838e+08\n",
      " -1.82025904e+08 -1.84170512e+08 -2.25063864e+08 -2.28691418e+08\n",
      " -2.30328639e+08 -2.25063864e+08 -2.28691418e+08 -2.30328639e+08\n",
      " -2.26682508e+08 -2.30103994e+08 -2.28964503e+08             nan\n",
      "             nan             nan             nan             nan\n",
      "             nan             nan             nan             nan\n",
      "             nan             nan             nan             nan\n",
      "             nan             nan             nan             nan\n",
      "             nan             nan             nan             nan\n",
      "             nan             nan             nan             nan\n",
      "             nan             nan -8.24044569e+07 -8.13724409e+07\n",
      " -8.03118240e+07 -8.36953053e+07 -8.24648947e+07 -8.36708046e+07\n",
      " -8.97877385e+07 -8.87081998e+07 -8.91404057e+07 -1.16745516e+08\n",
      " -1.16892030e+08 -1.16505654e+08 -1.17243040e+08 -1.16386146e+08\n",
      " -1.14630271e+08 -1.17629751e+08 -1.17955439e+08 -1.18758484e+08\n",
      " -1.50892241e+08 -1.51866448e+08 -1.50768236e+08 -1.50892241e+08\n",
      " -1.51866448e+08 -1.50768236e+08 -1.49643563e+08 -1.49591491e+08\n",
      " -1.51071054e+08 -9.46164908e+07 -9.31376393e+07 -9.30830597e+07\n",
      " -9.79154535e+07 -9.82128129e+07 -9.67700560e+07 -1.04632349e+08\n",
      " -1.04260459e+08 -1.03834521e+08 -1.74464693e+08 -1.73541952e+08\n",
      " -1.71148920e+08 -1.76228613e+08 -1.75531682e+08 -1.72461235e+08\n",
      " -1.71560087e+08 -1.73269673e+08 -1.74567155e+08 -2.21863371e+08\n",
      " -2.27314582e+08 -2.27514489e+08 -2.21863371e+08 -2.27314582e+08\n",
      " -2.27514489e+08 -2.21850702e+08 -2.26762027e+08 -2.26174835e+08]\n",
      "  warnings.warn(\n"
     ]
    },
    {
     "name": "stdout",
     "output_type": "stream",
     "text": [
      "Best parameters found:  {'max_depth': None, 'max_features': 'sqrt', 'min_samples_leaf': 1, 'min_samples_split': 2, 'n_estimators': 200}\n",
      "Best cross-validation score (MSE): -78493781.66\n",
      "Test set MSE: 69583473.52\n"
     ]
    }
   ],
   "source": [
    "#performing hyperparameter tuning for RandomForest model\n",
    "\n",
    "X_train, X_test, y_train, y_test = train_test_split(x, y, test_size=0.2, random_state=52)\n",
    "\n",
    "param_grid = {\n",
    "    'n_estimators': [50, 100, 200],\n",
    "    'max_depth': [None, 10, 20, 30],\n",
    "    'min_samples_split': [2, 5, 10],\n",
    "    'min_samples_leaf': [1, 2, 4],\n",
    "    'max_features': ['auto', 'sqrt', 'log2']\n",
    "}\n",
    "\n",
    "rf = RandomForestRegressor(random_state=42)\n",
    "\n",
    "scorer = make_scorer(mean_squared_error, greater_is_better=False)\n",
    "grid_search = GridSearchCV(estimator=rf, param_grid=param_grid, cv=5, scoring=scorer, verbose=2, n_jobs=-1)\n",
    "\n",
    "grid_search.fit(X_train, y_train)\n",
    "\n",
    "print(\"Best parameters found: \", grid_search.best_params_)\n",
    "print(\"Best cross-validation score (MSE): {:.2f}\".format(grid_search.best_score_))\n",
    "\n",
    "y_pred = grid_search.best_estimator_.predict(X_test)\n",
    "test_mse = mean_squared_error(y_test, y_pred)\n",
    "print(\"Test set MSE: {:.2f}\".format(test_mse))"
   ]
  },
  {
   "cell_type": "markdown",
   "id": "48d2870a",
   "metadata": {},
   "source": [
    "### Even though XGBoost is slightly better but, its very faster compared to Random Forest. we will continue with it"
   ]
  },
  {
   "cell_type": "markdown",
   "id": "a9e275ac",
   "metadata": {},
   "source": [
    "### Output varies based on which random_state chose during train_test_split, we will find the best random_state for our XGBoost Model "
   ]
  },
  {
   "cell_type": "code",
   "execution_count": 45,
   "id": "016fdcd9",
   "metadata": {
    "scrolled": false
   },
   "outputs": [
    {
     "name": "stdout",
     "output_type": "stream",
     "text": [
      "1\n",
      "2\n",
      "3\n",
      "4\n",
      "5\n",
      "6\n",
      "7\n",
      "8\n",
      "9\n",
      "10\n",
      "11\n",
      "12\n",
      "13\n",
      "14\n",
      "15\n",
      "16\n",
      "17\n",
      "18\n",
      "19\n",
      "20\n",
      "21\n",
      "22\n",
      "23\n",
      "24\n",
      "25\n",
      "26\n",
      "27\n",
      "28\n",
      "29\n",
      "30\n",
      "31\n",
      "32\n",
      "33\n",
      "34\n",
      "35\n",
      "36\n",
      "37\n",
      "38\n",
      "39\n",
      "40\n",
      "41\n",
      "42\n",
      "43\n",
      "44\n",
      "45\n",
      "46\n",
      "47\n",
      "48\n",
      "49\n",
      "50\n",
      "51\n",
      "52\n",
      "53\n",
      "54\n",
      "55\n",
      "56\n",
      "57\n",
      "58\n",
      "59\n",
      "60\n",
      "61\n",
      "62\n",
      "63\n",
      "64\n",
      "65\n",
      "66\n",
      "67\n",
      "68\n",
      "69\n",
      "70\n",
      "71\n",
      "72\n",
      "73\n",
      "74\n",
      "75\n",
      "76\n",
      "77\n",
      "78\n",
      "79\n",
      "80\n",
      "81\n",
      "82\n",
      "83\n",
      "84\n",
      "85\n",
      "86\n",
      "87\n",
      "88\n",
      "89\n",
      "90\n",
      "91\n",
      "92\n",
      "93\n",
      "94\n",
      "95\n",
      "96\n",
      "97\n",
      "98\n",
      "99\n"
     ]
    }
   ],
   "source": [
    "x = df_encoded.drop(columns='Price')\n",
    "y=df_encoded['Price']\n",
    "\n",
    "\n",
    "best_state_r2 = {\n",
    "    \"r2_score\":0.0,\n",
    "    \"mean_percentage_error\":100\n",
    "}\n",
    "\n",
    "best_state_error = {\n",
    "    \"r2_score\":0.0,\n",
    "    \"mean_percentage_error\":100\n",
    "}\n",
    "\n",
    "\n",
    "for i in range(1,100):\n",
    "    print(i)\n",
    "    x_train,x_test,y_train,y_test = train_test_split(x,y,test_size = 0.2,random_state=i)\n",
    "\n",
    "    model = xgb.XGBRegressor(colsample_bytree = 0.8,learning_rate =0.3,max_depth = 5,n_estimators = 200,subsample = 1.0)\n",
    "    model.fit(x_train,y_train)\n",
    "    y_pred = model.predict(x_test)\n",
    "    r2_scorem = r2_score(y_test,y_pred)\n",
    "    error =mean_absolute_percentage_error(y_test,y_pred)\n",
    "    if r2_scorem >= 0 and r2_scorem <= 1:\n",
    "        if r2_scorem > best_state_r2['r2_score']:\n",
    "            best_state_r2['r2_score'] = r2_scorem\n",
    "            best_state_r2['mean_percentage_error'] = error\n",
    "            best_state_r2['state'] = i\n",
    "            \n",
    "    if error >= 0 and error <= 1:\n",
    "        if error < best_state_error['mean_percentage_error']:\n",
    "            best_state_error['r2_score'] = r2_scorem\n",
    "            best_state_error['mean_percentage_error'] = error\n",
    "            best_state_error['state'] = i"
   ]
  },
  {
   "cell_type": "code",
   "execution_count": 46,
   "id": "54dfc593",
   "metadata": {
    "scrolled": true
   },
   "outputs": [
    {
     "data": {
      "text/plain": [
       "{'r2_score': 0.9027527097735635,\n",
       " 'mean_percentage_error': 0.31348374782848876,\n",
       " 'state': 27}"
      ]
     },
     "execution_count": 46,
     "metadata": {},
     "output_type": "execute_result"
    }
   ],
   "source": [
    "best_state_r2"
   ]
  },
  {
   "cell_type": "code",
   "execution_count": 47,
   "id": "b92d68d8",
   "metadata": {},
   "outputs": [
    {
     "data": {
      "text/plain": [
       "{'r2_score': 0.873678673480992,\n",
       " 'mean_percentage_error': 0.2841469914756033,\n",
       " 'state': 35}"
      ]
     },
     "execution_count": 47,
     "metadata": {},
     "output_type": "execute_result"
    }
   ],
   "source": [
    "best_state_error"
   ]
  },
  {
   "cell_type": "markdown",
   "id": "b7d59b61",
   "metadata": {},
   "source": [
    "### I care more about r2 score, random state 27 is giving us better r2 score, so i will continue with it \n",
    "\n",
    "### --------------------------------------------------------------------------------------------------------------------------------------------------------"
   ]
  },
  {
   "cell_type": "markdown",
   "id": "fbdb8af4",
   "metadata": {},
   "source": [
    "## Creatine a Pipeline and training it on our model"
   ]
  },
  {
   "cell_type": "code",
   "execution_count": 52,
   "id": "d1ca349d",
   "metadata": {},
   "outputs": [],
   "source": [
    "categorical_cols = df.select_dtypes(include='object').columns\n",
    "\n",
    "pipeline = Pipeline([\n",
    "    ('preprocessor', ColumnTransformer(\n",
    "        transformers=[\n",
    "            ('cat', OneHotEncoder(handle_unknown='ignore', sparse_output=False), categorical_cols),  \n",
    "        ],\n",
    "        remainder='passthrough'  \n",
    "    )),\n",
    "    ('regressor', xgb.XGBRegressor(colsample_bytree = 0.8,learning_rate =0.3,max_depth = 5,n_estimators = 200,subsample = 1.0))  \n",
    "])\n"
   ]
  },
  {
   "cell_type": "code",
   "execution_count": 53,
   "id": "f9075d08",
   "metadata": {},
   "outputs": [
    {
     "data": {
      "text/html": [
       "<style>#sk-container-id-1 {color: black;}#sk-container-id-1 pre{padding: 0;}#sk-container-id-1 div.sk-toggleable {background-color: white;}#sk-container-id-1 label.sk-toggleable__label {cursor: pointer;display: block;width: 100%;margin-bottom: 0;padding: 0.3em;box-sizing: border-box;text-align: center;}#sk-container-id-1 label.sk-toggleable__label-arrow:before {content: \"▸\";float: left;margin-right: 0.25em;color: #696969;}#sk-container-id-1 label.sk-toggleable__label-arrow:hover:before {color: black;}#sk-container-id-1 div.sk-estimator:hover label.sk-toggleable__label-arrow:before {color: black;}#sk-container-id-1 div.sk-toggleable__content {max-height: 0;max-width: 0;overflow: hidden;text-align: left;background-color: #f0f8ff;}#sk-container-id-1 div.sk-toggleable__content pre {margin: 0.2em;color: black;border-radius: 0.25em;background-color: #f0f8ff;}#sk-container-id-1 input.sk-toggleable__control:checked~div.sk-toggleable__content {max-height: 200px;max-width: 100%;overflow: auto;}#sk-container-id-1 input.sk-toggleable__control:checked~label.sk-toggleable__label-arrow:before {content: \"▾\";}#sk-container-id-1 div.sk-estimator input.sk-toggleable__control:checked~label.sk-toggleable__label {background-color: #d4ebff;}#sk-container-id-1 div.sk-label input.sk-toggleable__control:checked~label.sk-toggleable__label {background-color: #d4ebff;}#sk-container-id-1 input.sk-hidden--visually {border: 0;clip: rect(1px 1px 1px 1px);clip: rect(1px, 1px, 1px, 1px);height: 1px;margin: -1px;overflow: hidden;padding: 0;position: absolute;width: 1px;}#sk-container-id-1 div.sk-estimator {font-family: monospace;background-color: #f0f8ff;border: 1px dotted black;border-radius: 0.25em;box-sizing: border-box;margin-bottom: 0.5em;}#sk-container-id-1 div.sk-estimator:hover {background-color: #d4ebff;}#sk-container-id-1 div.sk-parallel-item::after {content: \"\";width: 100%;border-bottom: 1px solid gray;flex-grow: 1;}#sk-container-id-1 div.sk-label:hover label.sk-toggleable__label {background-color: #d4ebff;}#sk-container-id-1 div.sk-serial::before {content: \"\";position: absolute;border-left: 1px solid gray;box-sizing: border-box;top: 0;bottom: 0;left: 50%;z-index: 0;}#sk-container-id-1 div.sk-serial {display: flex;flex-direction: column;align-items: center;background-color: white;padding-right: 0.2em;padding-left: 0.2em;position: relative;}#sk-container-id-1 div.sk-item {position: relative;z-index: 1;}#sk-container-id-1 div.sk-parallel {display: flex;align-items: stretch;justify-content: center;background-color: white;position: relative;}#sk-container-id-1 div.sk-item::before, #sk-container-id-1 div.sk-parallel-item::before {content: \"\";position: absolute;border-left: 1px solid gray;box-sizing: border-box;top: 0;bottom: 0;left: 50%;z-index: -1;}#sk-container-id-1 div.sk-parallel-item {display: flex;flex-direction: column;z-index: 1;position: relative;background-color: white;}#sk-container-id-1 div.sk-parallel-item:first-child::after {align-self: flex-end;width: 50%;}#sk-container-id-1 div.sk-parallel-item:last-child::after {align-self: flex-start;width: 50%;}#sk-container-id-1 div.sk-parallel-item:only-child::after {width: 0;}#sk-container-id-1 div.sk-dashed-wrapped {border: 1px dashed gray;margin: 0 0.4em 0.5em 0.4em;box-sizing: border-box;padding-bottom: 0.4em;background-color: white;}#sk-container-id-1 div.sk-label label {font-family: monospace;font-weight: bold;display: inline-block;line-height: 1.2em;}#sk-container-id-1 div.sk-label-container {text-align: center;}#sk-container-id-1 div.sk-container {/* jupyter's `normalize.less` sets `[hidden] { display: none; }` but bootstrap.min.css set `[hidden] { display: none !important; }` so we also need the `!important` here to be able to override the default hidden behavior on the sphinx rendered scikit-learn.org. See: https://github.com/scikit-learn/scikit-learn/issues/21755 */display: inline-block !important;position: relative;}#sk-container-id-1 div.sk-text-repr-fallback {display: none;}</style><div id=\"sk-container-id-1\" class=\"sk-top-container\"><div class=\"sk-text-repr-fallback\"><pre>Pipeline(steps=[(&#x27;preprocessor&#x27;,\n",
       "                 ColumnTransformer(remainder=&#x27;passthrough&#x27;,\n",
       "                                   transformers=[(&#x27;cat&#x27;,\n",
       "                                                  OneHotEncoder(handle_unknown=&#x27;ignore&#x27;,\n",
       "                                                                sparse_output=False),\n",
       "                                                  Index([&#x27;brand&#x27;, &#x27;Display Type&#x27;, &#x27;Chipset&#x27;], dtype=&#x27;object&#x27;))])),\n",
       "                (&#x27;regressor&#x27;,\n",
       "                 XGBRegressor(base_score=None, booster=None, callbacks=None,\n",
       "                              colsample_bylevel=None, colsample_bynode=None,\n",
       "                              colsample_bytree=0.8,...\n",
       "                              feature_types=None, gamma=None, grow_policy=None,\n",
       "                              importance_type=None,\n",
       "                              interaction_constraints=None, learning_rate=0.3,\n",
       "                              max_bin=None, max_cat_threshold=None,\n",
       "                              max_cat_to_onehot=None, max_delta_step=None,\n",
       "                              max_depth=5, max_leaves=None,\n",
       "                              min_child_weight=None, missing=nan,\n",
       "                              monotone_constraints=None, multi_strategy=None,\n",
       "                              n_estimators=200, n_jobs=None,\n",
       "                              num_parallel_tree=None, random_state=None, ...))])</pre><b>In a Jupyter environment, please rerun this cell to show the HTML representation or trust the notebook. <br />On GitHub, the HTML representation is unable to render, please try loading this page with nbviewer.org.</b></div><div class=\"sk-container\" hidden><div class=\"sk-item sk-dashed-wrapped\"><div class=\"sk-label-container\"><div class=\"sk-label sk-toggleable\"><input class=\"sk-toggleable__control sk-hidden--visually\" id=\"sk-estimator-id-1\" type=\"checkbox\" ><label for=\"sk-estimator-id-1\" class=\"sk-toggleable__label sk-toggleable__label-arrow\">Pipeline</label><div class=\"sk-toggleable__content\"><pre>Pipeline(steps=[(&#x27;preprocessor&#x27;,\n",
       "                 ColumnTransformer(remainder=&#x27;passthrough&#x27;,\n",
       "                                   transformers=[(&#x27;cat&#x27;,\n",
       "                                                  OneHotEncoder(handle_unknown=&#x27;ignore&#x27;,\n",
       "                                                                sparse_output=False),\n",
       "                                                  Index([&#x27;brand&#x27;, &#x27;Display Type&#x27;, &#x27;Chipset&#x27;], dtype=&#x27;object&#x27;))])),\n",
       "                (&#x27;regressor&#x27;,\n",
       "                 XGBRegressor(base_score=None, booster=None, callbacks=None,\n",
       "                              colsample_bylevel=None, colsample_bynode=None,\n",
       "                              colsample_bytree=0.8,...\n",
       "                              feature_types=None, gamma=None, grow_policy=None,\n",
       "                              importance_type=None,\n",
       "                              interaction_constraints=None, learning_rate=0.3,\n",
       "                              max_bin=None, max_cat_threshold=None,\n",
       "                              max_cat_to_onehot=None, max_delta_step=None,\n",
       "                              max_depth=5, max_leaves=None,\n",
       "                              min_child_weight=None, missing=nan,\n",
       "                              monotone_constraints=None, multi_strategy=None,\n",
       "                              n_estimators=200, n_jobs=None,\n",
       "                              num_parallel_tree=None, random_state=None, ...))])</pre></div></div></div><div class=\"sk-serial\"><div class=\"sk-item sk-dashed-wrapped\"><div class=\"sk-label-container\"><div class=\"sk-label sk-toggleable\"><input class=\"sk-toggleable__control sk-hidden--visually\" id=\"sk-estimator-id-2\" type=\"checkbox\" ><label for=\"sk-estimator-id-2\" class=\"sk-toggleable__label sk-toggleable__label-arrow\">preprocessor: ColumnTransformer</label><div class=\"sk-toggleable__content\"><pre>ColumnTransformer(remainder=&#x27;passthrough&#x27;,\n",
       "                  transformers=[(&#x27;cat&#x27;,\n",
       "                                 OneHotEncoder(handle_unknown=&#x27;ignore&#x27;,\n",
       "                                               sparse_output=False),\n",
       "                                 Index([&#x27;brand&#x27;, &#x27;Display Type&#x27;, &#x27;Chipset&#x27;], dtype=&#x27;object&#x27;))])</pre></div></div></div><div class=\"sk-parallel\"><div class=\"sk-parallel-item\"><div class=\"sk-item\"><div class=\"sk-label-container\"><div class=\"sk-label sk-toggleable\"><input class=\"sk-toggleable__control sk-hidden--visually\" id=\"sk-estimator-id-3\" type=\"checkbox\" ><label for=\"sk-estimator-id-3\" class=\"sk-toggleable__label sk-toggleable__label-arrow\">cat</label><div class=\"sk-toggleable__content\"><pre>Index([&#x27;brand&#x27;, &#x27;Display Type&#x27;, &#x27;Chipset&#x27;], dtype=&#x27;object&#x27;)</pre></div></div></div><div class=\"sk-serial\"><div class=\"sk-item\"><div class=\"sk-estimator sk-toggleable\"><input class=\"sk-toggleable__control sk-hidden--visually\" id=\"sk-estimator-id-4\" type=\"checkbox\" ><label for=\"sk-estimator-id-4\" class=\"sk-toggleable__label sk-toggleable__label-arrow\">OneHotEncoder</label><div class=\"sk-toggleable__content\"><pre>OneHotEncoder(handle_unknown=&#x27;ignore&#x27;, sparse_output=False)</pre></div></div></div></div></div></div><div class=\"sk-parallel-item\"><div class=\"sk-item\"><div class=\"sk-label-container\"><div class=\"sk-label sk-toggleable\"><input class=\"sk-toggleable__control sk-hidden--visually\" id=\"sk-estimator-id-5\" type=\"checkbox\" ><label for=\"sk-estimator-id-5\" class=\"sk-toggleable__label sk-toggleable__label-arrow\">remainder</label><div class=\"sk-toggleable__content\"><pre>[&#x27;RAM&#x27;, &#x27;resolution_length&#x27;, &#x27;resolution_width&#x27;, &#x27;Screen Size&#x27;, &#x27;Pixel Density&#x27;, &#x27;Internal Memory&#x27;, &#x27;Expandable Memory&#x27;, &#x27;SIM Slot&#x27;, &#x27;Radio&#x27;]</pre></div></div></div><div class=\"sk-serial\"><div class=\"sk-item\"><div class=\"sk-estimator sk-toggleable\"><input class=\"sk-toggleable__control sk-hidden--visually\" id=\"sk-estimator-id-6\" type=\"checkbox\" ><label for=\"sk-estimator-id-6\" class=\"sk-toggleable__label sk-toggleable__label-arrow\">passthrough</label><div class=\"sk-toggleable__content\"><pre>passthrough</pre></div></div></div></div></div></div></div></div><div class=\"sk-item\"><div class=\"sk-estimator sk-toggleable\"><input class=\"sk-toggleable__control sk-hidden--visually\" id=\"sk-estimator-id-7\" type=\"checkbox\" ><label for=\"sk-estimator-id-7\" class=\"sk-toggleable__label sk-toggleable__label-arrow\">XGBRegressor</label><div class=\"sk-toggleable__content\"><pre>XGBRegressor(base_score=None, booster=None, callbacks=None,\n",
       "             colsample_bylevel=None, colsample_bynode=None,\n",
       "             colsample_bytree=0.8, device=None, early_stopping_rounds=None,\n",
       "             enable_categorical=False, eval_metric=None, feature_types=None,\n",
       "             gamma=None, grow_policy=None, importance_type=None,\n",
       "             interaction_constraints=None, learning_rate=0.3, max_bin=None,\n",
       "             max_cat_threshold=None, max_cat_to_onehot=None,\n",
       "             max_delta_step=None, max_depth=5, max_leaves=None,\n",
       "             min_child_weight=None, missing=nan, monotone_constraints=None,\n",
       "             multi_strategy=None, n_estimators=200, n_jobs=None,\n",
       "             num_parallel_tree=None, random_state=None, ...)</pre></div></div></div></div></div></div></div>"
      ],
      "text/plain": [
       "Pipeline(steps=[('preprocessor',\n",
       "                 ColumnTransformer(remainder='passthrough',\n",
       "                                   transformers=[('cat',\n",
       "                                                  OneHotEncoder(handle_unknown='ignore',\n",
       "                                                                sparse_output=False),\n",
       "                                                  Index(['brand', 'Display Type', 'Chipset'], dtype='object'))])),\n",
       "                ('regressor',\n",
       "                 XGBRegressor(base_score=None, booster=None, callbacks=None,\n",
       "                              colsample_bylevel=None, colsample_bynode=None,\n",
       "                              colsample_bytree=0.8,...\n",
       "                              feature_types=None, gamma=None, grow_policy=None,\n",
       "                              importance_type=None,\n",
       "                              interaction_constraints=None, learning_rate=0.3,\n",
       "                              max_bin=None, max_cat_threshold=None,\n",
       "                              max_cat_to_onehot=None, max_delta_step=None,\n",
       "                              max_depth=5, max_leaves=None,\n",
       "                              min_child_weight=None, missing=nan,\n",
       "                              monotone_constraints=None, multi_strategy=None,\n",
       "                              n_estimators=200, n_jobs=None,\n",
       "                              num_parallel_tree=None, random_state=None, ...))])"
      ]
     },
     "execution_count": 53,
     "metadata": {},
     "output_type": "execute_result"
    }
   ],
   "source": [
    "x = df.drop('Price',axis=1)\n",
    "y = df['Price']\n",
    "x_train,x_test,y_train,y_test = train_test_split(x,y,test_size=0.2,random_state=27)\n",
    "\n",
    "pipeline.fit(x_train,y_train)"
   ]
  },
  {
   "cell_type": "code",
   "execution_count": 54,
   "id": "990fa056",
   "metadata": {},
   "outputs": [],
   "source": [
    "y_pred = pipeline.predict(x_test)"
   ]
  },
  {
   "cell_type": "code",
   "execution_count": 55,
   "id": "2c0ba268",
   "metadata": {},
   "outputs": [
    {
     "data": {
      "text/plain": [
       "0.8887302951500207"
      ]
     },
     "execution_count": 55,
     "metadata": {},
     "output_type": "execute_result"
    }
   ],
   "source": [
    "r2_score(y_pred,y_test)"
   ]
  },
  {
   "cell_type": "code",
   "execution_count": 56,
   "id": "218de492",
   "metadata": {},
   "outputs": [
    {
     "data": {
      "text/plain": [
       "0.30689153019860915"
      ]
     },
     "execution_count": 56,
     "metadata": {},
     "output_type": "execute_result"
    }
   ],
   "source": [
    "mean_absolute_percentage_error(y_test,y_pred)"
   ]
  },
  {
   "cell_type": "markdown",
   "id": "62cea012",
   "metadata": {},
   "source": [
    "## Dump the Pipeline in pickle file "
   ]
  },
  {
   "cell_type": "code",
   "execution_count": 57,
   "id": "7d6ad77f",
   "metadata": {},
   "outputs": [],
   "source": [
    "with open('pipeline.pkl', 'wb') as f:\n",
    "    pickle.dump(pipeline, f)"
   ]
  },
  {
   "cell_type": "code",
   "execution_count": null,
   "id": "7a5dc62c",
   "metadata": {},
   "outputs": [],
   "source": []
  }
 ],
 "metadata": {
  "kernelspec": {
   "display_name": "Python 3 (ipykernel)",
   "language": "python",
   "name": "python3"
  },
  "language_info": {
   "codemirror_mode": {
    "name": "ipython",
    "version": 3
   },
   "file_extension": ".py",
   "mimetype": "text/x-python",
   "name": "python",
   "nbconvert_exporter": "python",
   "pygments_lexer": "ipython3",
   "version": "3.11.4"
  }
 },
 "nbformat": 4,
 "nbformat_minor": 5
}
