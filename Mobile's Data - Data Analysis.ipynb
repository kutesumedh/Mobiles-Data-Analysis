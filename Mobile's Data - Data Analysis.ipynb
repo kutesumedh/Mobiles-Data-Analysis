{
 "cells": [
  {
   "cell_type": "markdown",
   "id": "73cfb59e",
   "metadata": {},
   "source": [
    "## Import Necessary Libraries\n",
    "* **numpy** : `numpy` is a fundamental Python library for numerical computing, providing support for large, multi-dimensional arrays and matrices, along with a wide range of mathematical functions to operate on them.\n",
    "* **pandas** : `pandas` is a powerful Python library for data manipulation and analysis, providing data structures like DataFrames and Series to efficiently handle and analyze structured data.\n",
    "* **matplotlib** : The `matplotlib` library is a comprehensive library for creating static, animated, and interactive visualizations in Python.\n",
    "* **seaborn** : The `seaborn` library is a Python data visualization library based on `matplotlib` that provides a high-level interface for drawing attractive and informative statistical graphics."
   ]
  },
  {
   "cell_type": "code",
   "execution_count": 1,
   "id": "5c08cd63",
   "metadata": {},
   "outputs": [],
   "source": [
    "import pandas as pd\n",
    "import numpy as np\n",
    "import matplotlib.pyplot as plt\n",
    "import seaborn as sns"
   ]
  },
  {
   "cell_type": "markdown",
   "id": "53e71db0",
   "metadata": {},
   "source": [
    "-----------"
   ]
  },
  {
   "cell_type": "markdown",
   "id": "28d77da4",
   "metadata": {},
   "source": [
    "## Importing the cleaned data for data analysis"
   ]
  },
  {
   "cell_type": "code",
   "execution_count": 2,
   "id": "91a8f393",
   "metadata": {},
   "outputs": [],
   "source": [
    "data = pd.read_csv(r'C:\\Users\\DELL\\Desktop\\DataScience_Project\\final_cleaned.csv')"
   ]
  },
  {
   "cell_type": "markdown",
   "id": "d21490df",
   "metadata": {},
   "source": [
    "----------"
   ]
  },
  {
   "cell_type": "markdown",
   "id": "46eb6b8a",
   "metadata": {},
   "source": [
    "## Columns basic information and summary"
   ]
  },
  {
   "cell_type": "markdown",
   "id": "556c2b3e",
   "metadata": {},
   "source": [
    "#### `Brand`: This column represents the manufacturer or brand of the device, such as Apple, Samsung, or Xiaomi. It helps in categorizing and comparing devices from different companies.\n",
    "\n",
    "#### `Name`: This is the specific model name of the device, providing a unique identifier for each entry, like \"iPhone 13\" or \"Galaxy S21\".\n",
    "\n",
    "#### `Specs Score`: This numerical value represents an aggregated score based on the device's specifications, offering a quick way to assess the overall performance and features.\n",
    "\n",
    "#### `Rating`: This column includes user or expert ratings of the device, on a scale (e.g., 1 to 5 stars), indicating the overall satisfaction and quality as perceived by users.\n",
    "\n",
    "#### `Price`: The retail price of the device in the market, usually in Indian currency(rupees), which is crucial for financial analysis and affordability assessment.\n",
    "\n",
    "#### `RAM`: The amount of random-access memory (RAM) in the device, measured in gigabytes (GB), affecting the device’s multitasking capabilities and performance.\n",
    "\n",
    "#### `Resolution Length`: This refers to the vertical pixel count of the device’s display, which is a component of screen resolution, impacting display clarity and detail.\n",
    "\n",
    "#### `Resolution Width`: The horizontal pixel count of the device’s display, the other component of screen resolution, influencing display quality.\n",
    "\n",
    "#### `Display Type`: This specifies the type of display technology used in the device, such as LCD, OLED, or AMOLED, affecting visual quality and power consumption.\n",
    "\n",
    "#### `Screen Size`: The diagonal measurement of the device’s display in inches, which impacts usability, portability, and user experience.\n",
    "\n",
    "#### `Chipset`: The system-on-a-chip (SoC) or processor used in the device, such as Snapdragon, Exynos, or A-series, which determines processing power and efficiency.\n",
    "\n",
    "#### `Pixel Density`: Measured in pixels per inch (PPI), this indicates the pixel concentration on the display, affecting the sharpness and clarity of the screen.\n",
    "\n",
    "#### `Internal Memory`: The built-in storage capacity of the device, gigabytes (GB), for storing the operating system, apps, and user data.\n",
    "\n",
    "#### `Expandable Memory`: Indicates whether the device supports additional storage through memory cards (e.g., microSD) has entries as 'Yes' if supports and 'No' if do not\n",
    "\n",
    "#### `SIM Slot`: Information about the SIM card configuration of the device, such as single SIM, dual SIM, or eSIM, impacting connectivity options. For single sim column have 1 , for dual sim column have 2 and follows.\n",
    "\n",
    "#### `WiFi`: Indicates the WiFi standards supported by the device. If supports have 'Yes' and if do not have 'No' as a value\n",
    "\n",
    "#### `Bluetooth`: Tells if the Bluetooth is supported or not. Have entries in 'Yes' and 'No'. \n",
    "\n",
    "#### `GPS`: Indicates the availability of GPS functionality for location tracking and navigation purposes in mobiles. Have entries in 'Yes' and 'No'. \n",
    "\n",
    "#### `Radio`: States whether the device includes a built-in FM radio. Have entries in 'Yes' and 'No'. "
   ]
  },
  {
   "cell_type": "markdown",
   "id": "5c9e8976",
   "metadata": {},
   "source": [
    "-----------"
   ]
  },
  {
   "cell_type": "markdown",
   "id": "e9a1bcc4",
   "metadata": {},
   "source": [
    "# EDA\n",
    "## Performing Exploratory Data Analysis on dataset"
   ]
  },
  {
   "cell_type": "markdown",
   "id": "8c831302",
   "metadata": {},
   "source": [
    "#### Display the first few rows of the DataFrame using the head() method"
   ]
  },
  {
   "cell_type": "code",
   "execution_count": 3,
   "id": "0613a7bd",
   "metadata": {},
   "outputs": [
    {
     "data": {
      "text/html": [
       "<div>\n",
       "<style scoped>\n",
       "    .dataframe tbody tr th:only-of-type {\n",
       "        vertical-align: middle;\n",
       "    }\n",
       "\n",
       "    .dataframe tbody tr th {\n",
       "        vertical-align: top;\n",
       "    }\n",
       "\n",
       "    .dataframe thead th {\n",
       "        text-align: right;\n",
       "    }\n",
       "</style>\n",
       "<table border=\"1\" class=\"dataframe\">\n",
       "  <thead>\n",
       "    <tr style=\"text-align: right;\">\n",
       "      <th></th>\n",
       "      <th>brand</th>\n",
       "      <th>Name</th>\n",
       "      <th>Specs Score</th>\n",
       "      <th>Rating</th>\n",
       "      <th>Price</th>\n",
       "      <th>RAM</th>\n",
       "      <th>resolution_length</th>\n",
       "      <th>resolution_width</th>\n",
       "      <th>Display Type</th>\n",
       "      <th>Screen Size</th>\n",
       "      <th>Chipset</th>\n",
       "      <th>Pixel Density</th>\n",
       "      <th>Internal Memory</th>\n",
       "      <th>Expandable Memory</th>\n",
       "      <th>SIM Slot</th>\n",
       "      <th>WiFi</th>\n",
       "      <th>Bluetooth</th>\n",
       "      <th>GPS</th>\n",
       "      <th>Radio</th>\n",
       "    </tr>\n",
       "  </thead>\n",
       "  <tbody>\n",
       "    <tr>\n",
       "      <th>0</th>\n",
       "      <td>realme</td>\n",
       "      <td>realme GT 6T</td>\n",
       "      <td>88</td>\n",
       "      <td>4.0</td>\n",
       "      <td>30999</td>\n",
       "      <td>8000</td>\n",
       "      <td>1264</td>\n",
       "      <td>2780</td>\n",
       "      <td>LTPO AMOLED</td>\n",
       "      <td>6.78</td>\n",
       "      <td>Qualcomm Snapdragon 7</td>\n",
       "      <td>450</td>\n",
       "      <td>128000</td>\n",
       "      <td>No</td>\n",
       "      <td>2</td>\n",
       "      <td>Yes</td>\n",
       "      <td>Yes</td>\n",
       "      <td>Yes</td>\n",
       "      <td>No</td>\n",
       "    </tr>\n",
       "    <tr>\n",
       "      <th>1</th>\n",
       "      <td>OnePlus</td>\n",
       "      <td>OnePlus Nord CE 4 5G</td>\n",
       "      <td>86</td>\n",
       "      <td>4.3</td>\n",
       "      <td>24998</td>\n",
       "      <td>8000</td>\n",
       "      <td>1080</td>\n",
       "      <td>2412</td>\n",
       "      <td>AMOLED</td>\n",
       "      <td>6.70</td>\n",
       "      <td>Qualcomm Snapdragon 7</td>\n",
       "      <td>394</td>\n",
       "      <td>128000</td>\n",
       "      <td>Yes</td>\n",
       "      <td>2</td>\n",
       "      <td>Yes</td>\n",
       "      <td>Yes</td>\n",
       "      <td>Yes</td>\n",
       "      <td>No</td>\n",
       "    </tr>\n",
       "    <tr>\n",
       "      <th>2</th>\n",
       "      <td>Samsung</td>\n",
       "      <td>Samsung Galaxy F55 5G</td>\n",
       "      <td>89</td>\n",
       "      <td>3.4</td>\n",
       "      <td>26999</td>\n",
       "      <td>8000</td>\n",
       "      <td>1080</td>\n",
       "      <td>2400</td>\n",
       "      <td>Super AMOLED Plus</td>\n",
       "      <td>6.70</td>\n",
       "      <td>Qualcomm Snapdragon 7</td>\n",
       "      <td>393</td>\n",
       "      <td>128000</td>\n",
       "      <td>Yes</td>\n",
       "      <td>2</td>\n",
       "      <td>Yes</td>\n",
       "      <td>Yes</td>\n",
       "      <td>Yes</td>\n",
       "      <td>No</td>\n",
       "    </tr>\n",
       "    <tr>\n",
       "      <th>3</th>\n",
       "      <td>Motorola</td>\n",
       "      <td>Motorola Edge 50 Pro 5G</td>\n",
       "      <td>90</td>\n",
       "      <td>4.4</td>\n",
       "      <td>31142</td>\n",
       "      <td>8000</td>\n",
       "      <td>1220</td>\n",
       "      <td>2712</td>\n",
       "      <td>P-OLED</td>\n",
       "      <td>6.70</td>\n",
       "      <td>Qualcomm Snapdragon 7</td>\n",
       "      <td>444</td>\n",
       "      <td>256000</td>\n",
       "      <td>No</td>\n",
       "      <td>2</td>\n",
       "      <td>Yes</td>\n",
       "      <td>Yes</td>\n",
       "      <td>Yes</td>\n",
       "      <td>No</td>\n",
       "    </tr>\n",
       "    <tr>\n",
       "      <th>4</th>\n",
       "      <td>POCO</td>\n",
       "      <td>POCO X6 Pro</td>\n",
       "      <td>91</td>\n",
       "      <td>4.2</td>\n",
       "      <td>24499</td>\n",
       "      <td>8000</td>\n",
       "      <td>1220</td>\n",
       "      <td>2712</td>\n",
       "      <td>AMOLED</td>\n",
       "      <td>6.67</td>\n",
       "      <td>MediaTek Dimensity 8300</td>\n",
       "      <td>446</td>\n",
       "      <td>256000</td>\n",
       "      <td>No</td>\n",
       "      <td>2</td>\n",
       "      <td>Yes</td>\n",
       "      <td>Yes</td>\n",
       "      <td>Yes</td>\n",
       "      <td>No</td>\n",
       "    </tr>\n",
       "  </tbody>\n",
       "</table>\n",
       "</div>"
      ],
      "text/plain": [
       "      brand                     Name  Specs Score  Rating  Price   RAM  \\\n",
       "0    realme             realme GT 6T           88     4.0  30999  8000   \n",
       "1   OnePlus     OnePlus Nord CE 4 5G           86     4.3  24998  8000   \n",
       "2   Samsung    Samsung Galaxy F55 5G           89     3.4  26999  8000   \n",
       "3  Motorola  Motorola Edge 50 Pro 5G           90     4.4  31142  8000   \n",
       "4      POCO              POCO X6 Pro           91     4.2  24499  8000   \n",
       "\n",
       "   resolution_length  resolution_width       Display Type  Screen Size  \\\n",
       "0               1264              2780        LTPO AMOLED         6.78   \n",
       "1               1080              2412             AMOLED         6.70   \n",
       "2               1080              2400  Super AMOLED Plus         6.70   \n",
       "3               1220              2712             P-OLED         6.70   \n",
       "4               1220              2712             AMOLED         6.67   \n",
       "\n",
       "                   Chipset  Pixel Density  Internal Memory Expandable Memory  \\\n",
       "0    Qualcomm Snapdragon 7            450           128000                No   \n",
       "1    Qualcomm Snapdragon 7            394           128000               Yes   \n",
       "2    Qualcomm Snapdragon 7            393           128000               Yes   \n",
       "3    Qualcomm Snapdragon 7            444           256000                No   \n",
       "4  MediaTek Dimensity 8300            446           256000                No   \n",
       "\n",
       "   SIM Slot WiFi Bluetooth  GPS Radio  \n",
       "0         2  Yes       Yes  Yes    No  \n",
       "1         2  Yes       Yes  Yes    No  \n",
       "2         2  Yes       Yes  Yes    No  \n",
       "3         2  Yes       Yes  Yes    No  \n",
       "4         2  Yes       Yes  Yes    No  "
      ]
     },
     "execution_count": 3,
     "metadata": {},
     "output_type": "execute_result"
    }
   ],
   "source": [
    "data.head()"
   ]
  },
  {
   "cell_type": "markdown",
   "id": "0cc81ed6",
   "metadata": {},
   "source": [
    "#### Display the last few rows of the DataFrame using the head() method"
   ]
  },
  {
   "cell_type": "code",
   "execution_count": 4,
   "id": "076f3bab",
   "metadata": {},
   "outputs": [
    {
     "data": {
      "text/html": [
       "<div>\n",
       "<style scoped>\n",
       "    .dataframe tbody tr th:only-of-type {\n",
       "        vertical-align: middle;\n",
       "    }\n",
       "\n",
       "    .dataframe tbody tr th {\n",
       "        vertical-align: top;\n",
       "    }\n",
       "\n",
       "    .dataframe thead th {\n",
       "        text-align: right;\n",
       "    }\n",
       "</style>\n",
       "<table border=\"1\" class=\"dataframe\">\n",
       "  <thead>\n",
       "    <tr style=\"text-align: right;\">\n",
       "      <th></th>\n",
       "      <th>brand</th>\n",
       "      <th>Name</th>\n",
       "      <th>Specs Score</th>\n",
       "      <th>Rating</th>\n",
       "      <th>Price</th>\n",
       "      <th>RAM</th>\n",
       "      <th>resolution_length</th>\n",
       "      <th>resolution_width</th>\n",
       "      <th>Display Type</th>\n",
       "      <th>Screen Size</th>\n",
       "      <th>Chipset</th>\n",
       "      <th>Pixel Density</th>\n",
       "      <th>Internal Memory</th>\n",
       "      <th>Expandable Memory</th>\n",
       "      <th>SIM Slot</th>\n",
       "      <th>WiFi</th>\n",
       "      <th>Bluetooth</th>\n",
       "      <th>GPS</th>\n",
       "      <th>Radio</th>\n",
       "    </tr>\n",
       "  </thead>\n",
       "  <tbody>\n",
       "    <tr>\n",
       "      <th>4577</th>\n",
       "      <td>BLU</td>\n",
       "      <td>BLU Studio Energy 2</td>\n",
       "      <td>64</td>\n",
       "      <td>0.0</td>\n",
       "      <td>11990</td>\n",
       "      <td>1500</td>\n",
       "      <td>720</td>\n",
       "      <td>1280</td>\n",
       "      <td>Super AMOLED</td>\n",
       "      <td>5.0</td>\n",
       "      <td>MediaTek MT6735</td>\n",
       "      <td>294</td>\n",
       "      <td>16000</td>\n",
       "      <td>Yes</td>\n",
       "      <td>2</td>\n",
       "      <td>Yes</td>\n",
       "      <td>Yes</td>\n",
       "      <td>Yes</td>\n",
       "      <td>Yes</td>\n",
       "    </tr>\n",
       "    <tr>\n",
       "      <th>4578</th>\n",
       "      <td>Samsung</td>\n",
       "      <td>Samsung Galaxy C5</td>\n",
       "      <td>72</td>\n",
       "      <td>0.0</td>\n",
       "      <td>22990</td>\n",
       "      <td>4000</td>\n",
       "      <td>1080</td>\n",
       "      <td>1920</td>\n",
       "      <td>Super AMOLED</td>\n",
       "      <td>5.2</td>\n",
       "      <td>Qualcomm Snapdragon 617</td>\n",
       "      <td>424</td>\n",
       "      <td>32000</td>\n",
       "      <td>Yes</td>\n",
       "      <td>2</td>\n",
       "      <td>Yes</td>\n",
       "      <td>Yes</td>\n",
       "      <td>Yes</td>\n",
       "      <td>Yes</td>\n",
       "    </tr>\n",
       "    <tr>\n",
       "      <th>4579</th>\n",
       "      <td>HTC</td>\n",
       "      <td>HTC One M9 Plus Supreme Camera</td>\n",
       "      <td>68</td>\n",
       "      <td>5.0</td>\n",
       "      <td>41990</td>\n",
       "      <td>3000</td>\n",
       "      <td>1440</td>\n",
       "      <td>2560</td>\n",
       "      <td>IPS LCD</td>\n",
       "      <td>5.2</td>\n",
       "      <td>MediaTek MT6795T</td>\n",
       "      <td>565</td>\n",
       "      <td>32000</td>\n",
       "      <td>Yes</td>\n",
       "      <td>1</td>\n",
       "      <td>Yes</td>\n",
       "      <td>Yes</td>\n",
       "      <td>Yes</td>\n",
       "      <td>Yes</td>\n",
       "    </tr>\n",
       "    <tr>\n",
       "      <th>4580</th>\n",
       "      <td>Xiaomi</td>\n",
       "      <td>Xiaomi Redmi Note 2 Prime</td>\n",
       "      <td>65</td>\n",
       "      <td>4.1</td>\n",
       "      <td>9990</td>\n",
       "      <td>2000</td>\n",
       "      <td>1080</td>\n",
       "      <td>1920</td>\n",
       "      <td>IPS LCD</td>\n",
       "      <td>5.5</td>\n",
       "      <td>MediaTek MT6795</td>\n",
       "      <td>401</td>\n",
       "      <td>32000</td>\n",
       "      <td>Yes</td>\n",
       "      <td>2</td>\n",
       "      <td>Yes</td>\n",
       "      <td>Yes</td>\n",
       "      <td>Yes</td>\n",
       "      <td>Yes</td>\n",
       "    </tr>\n",
       "    <tr>\n",
       "      <th>4581</th>\n",
       "      <td>HTC</td>\n",
       "      <td>HTC Tattoo</td>\n",
       "      <td>45</td>\n",
       "      <td>1.9</td>\n",
       "      <td>22900</td>\n",
       "      <td>256</td>\n",
       "      <td>240</td>\n",
       "      <td>320</td>\n",
       "      <td>LCD</td>\n",
       "      <td>2.8</td>\n",
       "      <td>Qualcomm Snapdragon S1</td>\n",
       "      <td>143</td>\n",
       "      <td>512</td>\n",
       "      <td>Yes</td>\n",
       "      <td>1</td>\n",
       "      <td>Yes</td>\n",
       "      <td>Yes</td>\n",
       "      <td>Yes</td>\n",
       "      <td>Yes</td>\n",
       "    </tr>\n",
       "  </tbody>\n",
       "</table>\n",
       "</div>"
      ],
      "text/plain": [
       "        brand                            Name  Specs Score  Rating  Price  \\\n",
       "4577      BLU             BLU Studio Energy 2           64     0.0  11990   \n",
       "4578  Samsung               Samsung Galaxy C5           72     0.0  22990   \n",
       "4579      HTC  HTC One M9 Plus Supreme Camera           68     5.0  41990   \n",
       "4580   Xiaomi       Xiaomi Redmi Note 2 Prime           65     4.1   9990   \n",
       "4581      HTC                      HTC Tattoo           45     1.9  22900   \n",
       "\n",
       "       RAM  resolution_length  resolution_width  Display Type  Screen Size  \\\n",
       "4577  1500                720              1280  Super AMOLED          5.0   \n",
       "4578  4000               1080              1920  Super AMOLED          5.2   \n",
       "4579  3000               1440              2560       IPS LCD          5.2   \n",
       "4580  2000               1080              1920       IPS LCD          5.5   \n",
       "4581   256                240               320           LCD          2.8   \n",
       "\n",
       "                      Chipset  Pixel Density  Internal Memory  \\\n",
       "4577          MediaTek MT6735            294            16000   \n",
       "4578  Qualcomm Snapdragon 617            424            32000   \n",
       "4579         MediaTek MT6795T            565            32000   \n",
       "4580          MediaTek MT6795            401            32000   \n",
       "4581   Qualcomm Snapdragon S1            143              512   \n",
       "\n",
       "     Expandable Memory  SIM Slot WiFi Bluetooth  GPS Radio  \n",
       "4577               Yes         2  Yes       Yes  Yes   Yes  \n",
       "4578               Yes         2  Yes       Yes  Yes   Yes  \n",
       "4579               Yes         1  Yes       Yes  Yes   Yes  \n",
       "4580               Yes         2  Yes       Yes  Yes   Yes  \n",
       "4581               Yes         1  Yes       Yes  Yes   Yes  "
      ]
     },
     "execution_count": 4,
     "metadata": {},
     "output_type": "execute_result"
    }
   ],
   "source": [
    "data.tail()"
   ]
  },
  {
   "cell_type": "markdown",
   "id": "c092b6db",
   "metadata": {},
   "source": [
    "### Checking summary of a DataFrame using .info() method"
   ]
  },
  {
   "cell_type": "code",
   "execution_count": 5,
   "id": "c3d55ca3",
   "metadata": {},
   "outputs": [
    {
     "name": "stdout",
     "output_type": "stream",
     "text": [
      "<class 'pandas.core.frame.DataFrame'>\n",
      "RangeIndex: 4582 entries, 0 to 4581\n",
      "Data columns (total 19 columns):\n",
      " #   Column             Non-Null Count  Dtype  \n",
      "---  ------             --------------  -----  \n",
      " 0   brand              4582 non-null   object \n",
      " 1   Name               4582 non-null   object \n",
      " 2   Specs Score        4582 non-null   int64  \n",
      " 3   Rating             4582 non-null   float64\n",
      " 4   Price              4582 non-null   int64  \n",
      " 5   RAM                4582 non-null   int64  \n",
      " 6   resolution_length  4582 non-null   int64  \n",
      " 7   resolution_width   4582 non-null   int64  \n",
      " 8   Display Type       4582 non-null   object \n",
      " 9   Screen Size        4582 non-null   float64\n",
      " 10  Chipset            4582 non-null   object \n",
      " 11  Pixel Density      4582 non-null   int64  \n",
      " 12  Internal Memory    4582 non-null   int64  \n",
      " 13  Expandable Memory  4582 non-null   object \n",
      " 14  SIM Slot           4582 non-null   int64  \n",
      " 15  WiFi               4582 non-null   object \n",
      " 16  Bluetooth          4582 non-null   object \n",
      " 17  GPS                4582 non-null   object \n",
      " 18  Radio              4582 non-null   object \n",
      "dtypes: float64(2), int64(8), object(9)\n",
      "memory usage: 680.3+ KB\n"
     ]
    }
   ],
   "source": [
    "data.info()"
   ]
  },
  {
   "cell_type": "markdown",
   "id": "1bb909de",
   "metadata": {},
   "source": [
    "### Get the shape DataFrame using the .shape attribute¶"
   ]
  },
  {
   "cell_type": "code",
   "execution_count": 6,
   "id": "3108d03f",
   "metadata": {},
   "outputs": [
    {
     "data": {
      "text/plain": [
       "(4582, 19)"
      ]
     },
     "execution_count": 6,
     "metadata": {},
     "output_type": "execute_result"
    }
   ],
   "source": [
    "data.shape"
   ]
  },
  {
   "cell_type": "code",
   "execution_count": 7,
   "id": "8e9337f4",
   "metadata": {},
   "outputs": [
    {
     "name": "stdout",
     "output_type": "stream",
     "text": [
      "The imported/uncleaned mobiles data have 4582 no. of rows\n"
     ]
    }
   ],
   "source": [
    "# Number of rows in Dataset\n",
    "rows = data.shape[0]\n",
    "print(f\"The imported/uncleaned mobiles data have {rows} no. of rows\")"
   ]
  },
  {
   "cell_type": "code",
   "execution_count": 8,
   "id": "dfff3499",
   "metadata": {},
   "outputs": [
    {
     "name": "stdout",
     "output_type": "stream",
     "text": [
      "The imported/uncleaned mobiles data have 19 no. of columns\n"
     ]
    }
   ],
   "source": [
    "# Number of columns in Dataset\n",
    "cloumns = data.shape[1]\n",
    "print(f\"The imported/uncleaned mobiles data have {cloumns} no. of columns\")"
   ]
  },
  {
   "cell_type": "markdown",
   "id": "5f5c2bec",
   "metadata": {},
   "source": [
    "### Descriptive statistics that summarize the central tendency, dispersion, and shape of a dataset’s distribution, excluding NaN values, for numeric columns by default."
   ]
  },
  {
   "cell_type": "code",
   "execution_count": 9,
   "id": "de095e36",
   "metadata": {},
   "outputs": [
    {
     "data": {
      "text/html": [
       "<div>\n",
       "<style scoped>\n",
       "    .dataframe tbody tr th:only-of-type {\n",
       "        vertical-align: middle;\n",
       "    }\n",
       "\n",
       "    .dataframe tbody tr th {\n",
       "        vertical-align: top;\n",
       "    }\n",
       "\n",
       "    .dataframe thead th {\n",
       "        text-align: right;\n",
       "    }\n",
       "</style>\n",
       "<table border=\"1\" class=\"dataframe\">\n",
       "  <thead>\n",
       "    <tr style=\"text-align: right;\">\n",
       "      <th></th>\n",
       "      <th>Specs Score</th>\n",
       "      <th>Rating</th>\n",
       "      <th>Price</th>\n",
       "      <th>RAM</th>\n",
       "      <th>resolution_length</th>\n",
       "      <th>resolution_width</th>\n",
       "      <th>Screen Size</th>\n",
       "      <th>Pixel Density</th>\n",
       "      <th>Internal Memory</th>\n",
       "      <th>SIM Slot</th>\n",
       "    </tr>\n",
       "  </thead>\n",
       "  <tbody>\n",
       "    <tr>\n",
       "      <th>count</th>\n",
       "      <td>4582.000000</td>\n",
       "      <td>4582.000000</td>\n",
       "      <td>4582.000000</td>\n",
       "      <td>4582.000000</td>\n",
       "      <td>4582.000000</td>\n",
       "      <td>4582.000000</td>\n",
       "      <td>4582.000000</td>\n",
       "      <td>4582.000000</td>\n",
       "      <td>4.582000e+03</td>\n",
       "      <td>4582.000000</td>\n",
       "    </tr>\n",
       "    <tr>\n",
       "      <th>mean</th>\n",
       "      <td>66.322567</td>\n",
       "      <td>2.905456</td>\n",
       "      <td>19989.631820</td>\n",
       "      <td>3780.460498</td>\n",
       "      <td>839.299869</td>\n",
       "      <td>1643.617416</td>\n",
       "      <td>5.557693</td>\n",
       "      <td>323.389568</td>\n",
       "      <td>1.313764e+05</td>\n",
       "      <td>1.900917</td>\n",
       "    </tr>\n",
       "    <tr>\n",
       "      <th>std</th>\n",
       "      <td>15.711332</td>\n",
       "      <td>1.784761</td>\n",
       "      <td>22947.012666</td>\n",
       "      <td>3325.963072</td>\n",
       "      <td>296.091314</td>\n",
       "      <td>677.095319</td>\n",
       "      <td>0.968867</td>\n",
       "      <td>92.511408</td>\n",
       "      <td>3.782338e+06</td>\n",
       "      <td>0.300990</td>\n",
       "    </tr>\n",
       "    <tr>\n",
       "      <th>min</th>\n",
       "      <td>26.000000</td>\n",
       "      <td>0.000000</td>\n",
       "      <td>1025.000000</td>\n",
       "      <td>4.000000</td>\n",
       "      <td>240.000000</td>\n",
       "      <td>80.000000</td>\n",
       "      <td>2.400000</td>\n",
       "      <td>113.000000</td>\n",
       "      <td>4.000000e+00</td>\n",
       "      <td>1.000000</td>\n",
       "    </tr>\n",
       "    <tr>\n",
       "      <th>25%</th>\n",
       "      <td>53.000000</td>\n",
       "      <td>0.000000</td>\n",
       "      <td>6941.500000</td>\n",
       "      <td>1000.000000</td>\n",
       "      <td>720.000000</td>\n",
       "      <td>1280.000000</td>\n",
       "      <td>5.000000</td>\n",
       "      <td>263.000000</td>\n",
       "      <td>8.000000e+03</td>\n",
       "      <td>2.000000</td>\n",
       "    </tr>\n",
       "    <tr>\n",
       "      <th>50%</th>\n",
       "      <td>67.000000</td>\n",
       "      <td>3.800000</td>\n",
       "      <td>11990.000000</td>\n",
       "      <td>3000.000000</td>\n",
       "      <td>720.000000</td>\n",
       "      <td>1560.000000</td>\n",
       "      <td>5.500000</td>\n",
       "      <td>294.000000</td>\n",
       "      <td>3.200000e+04</td>\n",
       "      <td>2.000000</td>\n",
       "    </tr>\n",
       "    <tr>\n",
       "      <th>75%</th>\n",
       "      <td>79.000000</td>\n",
       "      <td>4.200000</td>\n",
       "      <td>24472.500000</td>\n",
       "      <td>6000.000000</td>\n",
       "      <td>1080.000000</td>\n",
       "      <td>2340.000000</td>\n",
       "      <td>6.500000</td>\n",
       "      <td>401.000000</td>\n",
       "      <td>1.280000e+05</td>\n",
       "      <td>2.000000</td>\n",
       "    </tr>\n",
       "    <tr>\n",
       "      <th>max</th>\n",
       "      <td>99.000000</td>\n",
       "      <td>5.000000</td>\n",
       "      <td>194900.000000</td>\n",
       "      <td>24000.000000</td>\n",
       "      <td>2268.000000</td>\n",
       "      <td>3840.000000</td>\n",
       "      <td>8.300000</td>\n",
       "      <td>801.000000</td>\n",
       "      <td>2.560000e+08</td>\n",
       "      <td>3.000000</td>\n",
       "    </tr>\n",
       "  </tbody>\n",
       "</table>\n",
       "</div>"
      ],
      "text/plain": [
       "       Specs Score       Rating          Price           RAM  \\\n",
       "count  4582.000000  4582.000000    4582.000000   4582.000000   \n",
       "mean     66.322567     2.905456   19989.631820   3780.460498   \n",
       "std      15.711332     1.784761   22947.012666   3325.963072   \n",
       "min      26.000000     0.000000    1025.000000      4.000000   \n",
       "25%      53.000000     0.000000    6941.500000   1000.000000   \n",
       "50%      67.000000     3.800000   11990.000000   3000.000000   \n",
       "75%      79.000000     4.200000   24472.500000   6000.000000   \n",
       "max      99.000000     5.000000  194900.000000  24000.000000   \n",
       "\n",
       "       resolution_length  resolution_width  Screen Size  Pixel Density  \\\n",
       "count        4582.000000       4582.000000  4582.000000    4582.000000   \n",
       "mean          839.299869       1643.617416     5.557693     323.389568   \n",
       "std           296.091314        677.095319     0.968867      92.511408   \n",
       "min           240.000000         80.000000     2.400000     113.000000   \n",
       "25%           720.000000       1280.000000     5.000000     263.000000   \n",
       "50%           720.000000       1560.000000     5.500000     294.000000   \n",
       "75%          1080.000000       2340.000000     6.500000     401.000000   \n",
       "max          2268.000000       3840.000000     8.300000     801.000000   \n",
       "\n",
       "       Internal Memory     SIM Slot  \n",
       "count     4.582000e+03  4582.000000  \n",
       "mean      1.313764e+05     1.900917  \n",
       "std       3.782338e+06     0.300990  \n",
       "min       4.000000e+00     1.000000  \n",
       "25%       8.000000e+03     2.000000  \n",
       "50%       3.200000e+04     2.000000  \n",
       "75%       1.280000e+05     2.000000  \n",
       "max       2.560000e+08     3.000000  "
      ]
     },
     "execution_count": 9,
     "metadata": {},
     "output_type": "execute_result"
    }
   ],
   "source": [
    "data.describe()"
   ]
  },
  {
   "cell_type": "markdown",
   "id": "1e3c9d7e",
   "metadata": {},
   "source": [
    "--------------"
   ]
  },
  {
   "cell_type": "markdown",
   "id": "642c0e24",
   "metadata": {},
   "source": [
    "## Categorical Distribution: Analyze the Distribution of Categorical Variables"
   ]
  },
  {
   "cell_type": "markdown",
   "id": "f21ebee2",
   "metadata": {},
   "source": [
    "### 'Brand' column"
   ]
  },
  {
   "cell_type": "code",
   "execution_count": 10,
   "id": "eebce11a",
   "metadata": {},
   "outputs": [
    {
     "data": {
      "text/html": [
       "<div>\n",
       "<style scoped>\n",
       "    .dataframe tbody tr th:only-of-type {\n",
       "        vertical-align: middle;\n",
       "    }\n",
       "\n",
       "    .dataframe tbody tr th {\n",
       "        vertical-align: top;\n",
       "    }\n",
       "\n",
       "    .dataframe thead th {\n",
       "        text-align: right;\n",
       "    }\n",
       "</style>\n",
       "<table border=\"1\" class=\"dataframe\">\n",
       "  <thead>\n",
       "    <tr style=\"text-align: right;\">\n",
       "      <th></th>\n",
       "      <th>index</th>\n",
       "      <th>brand</th>\n",
       "    </tr>\n",
       "  </thead>\n",
       "  <tbody>\n",
       "    <tr>\n",
       "      <th>0</th>\n",
       "      <td>Samsung</td>\n",
       "      <td>7.267569</td>\n",
       "    </tr>\n",
       "    <tr>\n",
       "      <th>1</th>\n",
       "      <td>vivo</td>\n",
       "      <td>6.110869</td>\n",
       "    </tr>\n",
       "    <tr>\n",
       "      <th>2</th>\n",
       "      <td>Intex</td>\n",
       "      <td>5.368835</td>\n",
       "    </tr>\n",
       "    <tr>\n",
       "      <th>3</th>\n",
       "      <td>Xiaomi</td>\n",
       "      <td>4.364906</td>\n",
       "    </tr>\n",
       "    <tr>\n",
       "      <th>4</th>\n",
       "      <td>Micromax</td>\n",
       "      <td>3.862942</td>\n",
       "    </tr>\n",
       "    <tr>\n",
       "      <th>5</th>\n",
       "      <td>realme</td>\n",
       "      <td>3.120908</td>\n",
       "    </tr>\n",
       "    <tr>\n",
       "      <th>6</th>\n",
       "      <td>OPPO</td>\n",
       "      <td>3.055434</td>\n",
       "    </tr>\n",
       "    <tr>\n",
       "      <th>7</th>\n",
       "      <td>Lava</td>\n",
       "      <td>2.749891</td>\n",
       "    </tr>\n",
       "    <tr>\n",
       "      <th>8</th>\n",
       "      <td>Apple</td>\n",
       "      <td>2.487997</td>\n",
       "    </tr>\n",
       "    <tr>\n",
       "      <th>9</th>\n",
       "      <td>Nokia</td>\n",
       "      <td>2.466172</td>\n",
       "    </tr>\n",
       "  </tbody>\n",
       "</table>\n",
       "</div>"
      ],
      "text/plain": [
       "      index     brand\n",
       "0   Samsung  7.267569\n",
       "1      vivo  6.110869\n",
       "2     Intex  5.368835\n",
       "3    Xiaomi  4.364906\n",
       "4  Micromax  3.862942\n",
       "5    realme  3.120908\n",
       "6      OPPO  3.055434\n",
       "7      Lava  2.749891\n",
       "8     Apple  2.487997\n",
       "9     Nokia  2.466172"
      ]
     },
     "execution_count": 10,
     "metadata": {},
     "output_type": "execute_result"
    }
   ],
   "source": [
    "d1 = (data['brand'].value_counts(normalize=True)*100).reset_index().head(10)\n",
    "d1"
   ]
  },
  {
   "cell_type": "code",
   "execution_count": 11,
   "id": "af71f788",
   "metadata": {},
   "outputs": [
    {
     "data": {
      "image/png": "[encoded data removed]",
      "text/plain": [
       "<Figure size 1000x600 with 1 Axes>"
      ]
     },
     "metadata": {},
     "output_type": "display_data"
    }
   ],
   "source": [
    "plt.figure(figsize=(10, 6))\n",
    "bars = plt.bar(d1['index'], d1['brand'], color='cyan')\n",
    "plt.xlabel('Brand')\n",
    "plt.ylabel('Distribution in Percetage(%)')\n",
    "plt.title('Brand distribution of top 10 brands in percentage')\n",
    "plt.xticks(rotation=0)\n",
    "for i in bars:\n",
    "    value = i.get_height()\n",
    "    plt.text(i.get_x() + i.get_width()/2, value + 0.05, round(value, 2), ha='center', va='top')\n",
    "plt.show()"
   ]
  },
  {
   "cell_type": "markdown",
   "id": "c2042f2e",
   "metadata": {},
   "source": [
    "-----------"
   ]
  },
  {
   "cell_type": "markdown",
   "id": "5dec5007",
   "metadata": {},
   "source": [
    "### 'Display Type' column"
   ]
  },
  {
   "cell_type": "code",
   "execution_count": 12,
   "id": "f6a3a4ee",
   "metadata": {},
   "outputs": [
    {
     "data": {
      "text/html": [
       "<div>\n",
       "<style scoped>\n",
       "    .dataframe tbody tr th:only-of-type {\n",
       "        vertical-align: middle;\n",
       "    }\n",
       "\n",
       "    .dataframe tbody tr th {\n",
       "        vertical-align: top;\n",
       "    }\n",
       "\n",
       "    .dataframe thead th {\n",
       "        text-align: right;\n",
       "    }\n",
       "</style>\n",
       "<table border=\"1\" class=\"dataframe\">\n",
       "  <thead>\n",
       "    <tr style=\"text-align: right;\">\n",
       "      <th></th>\n",
       "      <th>index</th>\n",
       "      <th>Display Type</th>\n",
       "    </tr>\n",
       "  </thead>\n",
       "  <tbody>\n",
       "    <tr>\n",
       "      <th>0</th>\n",
       "      <td>IPS LCD</td>\n",
       "      <td>56.110869</td>\n",
       "    </tr>\n",
       "    <tr>\n",
       "      <th>1</th>\n",
       "      <td>TFT</td>\n",
       "      <td>11.588826</td>\n",
       "    </tr>\n",
       "    <tr>\n",
       "      <th>2</th>\n",
       "      <td>AMOLED</td>\n",
       "      <td>10.584897</td>\n",
       "    </tr>\n",
       "    <tr>\n",
       "      <th>3</th>\n",
       "      <td>Super AMOLED</td>\n",
       "      <td>5.805325</td>\n",
       "    </tr>\n",
       "    <tr>\n",
       "      <th>4</th>\n",
       "      <td>LCD</td>\n",
       "      <td>4.975993</td>\n",
       "    </tr>\n",
       "  </tbody>\n",
       "</table>\n",
       "</div>"
      ],
      "text/plain": [
       "          index  Display Type\n",
       "0       IPS LCD     56.110869\n",
       "1           TFT     11.588826\n",
       "2        AMOLED     10.584897\n",
       "3  Super AMOLED      5.805325\n",
       "4           LCD      4.975993"
      ]
     },
     "execution_count": 12,
     "metadata": {},
     "output_type": "execute_result"
    }
   ],
   "source": [
    "d2 = (data['Display Type'].value_counts(normalize=True)*100).reset_index().head(5)\n",
    "d2"
   ]
  },
  {
   "cell_type": "code",
   "execution_count": 13,
   "id": "2dddb8a3",
   "metadata": {},
   "outputs": [
    {
     "data": {
      "image/png": "[encoded data removed]",
      "text/plain": [
       "<Figure size 1000x600 with 1 Axes>"
      ]
     },
     "metadata": {},
     "output_type": "display_data"
    }
   ],
   "source": [
    "# Custom colors\n",
    "custom_colors = ['#FF9999', '#66B2FF', '#99FF99', '#FFCC99', '#FFD700']\n",
    "\n",
    "# Creating a pie chart\n",
    "plt.figure(figsize=(10, 6))\n",
    "plt.pie(d2['Display Type'], labels=d2['index'],startangle=90 , colors=custom_colors)\n",
    "plt.title('Display Type Distribution')\n",
    "plt.show()"
   ]
  },
  {
   "cell_type": "markdown",
   "id": "a7db376e",
   "metadata": {},
   "source": [
    "---------------"
   ]
  },
  {
   "cell_type": "markdown",
   "id": "b0d9e13a",
   "metadata": {},
   "source": [
    "### 'Chipset' column"
   ]
  },
  {
   "cell_type": "code",
   "execution_count": 15,
   "id": "8150aa44",
   "metadata": {},
   "outputs": [
    {
     "data": {
      "text/html": [
       "<div>\n",
       "<style scoped>\n",
       "    .dataframe tbody tr th:only-of-type {\n",
       "        vertical-align: middle;\n",
       "    }\n",
       "\n",
       "    .dataframe tbody tr th {\n",
       "        vertical-align: top;\n",
       "    }\n",
       "\n",
       "    .dataframe thead th {\n",
       "        text-align: right;\n",
       "    }\n",
       "</style>\n",
       "<table border=\"1\" class=\"dataframe\">\n",
       "  <thead>\n",
       "    <tr style=\"text-align: right;\">\n",
       "      <th></th>\n",
       "      <th>Chipset</th>\n",
       "      <th>brand</th>\n",
       "    </tr>\n",
       "  </thead>\n",
       "  <tbody>\n",
       "    <tr>\n",
       "      <th>0</th>\n",
       "      <td>Qualcomm Snapdragon 8</td>\n",
       "      <td>180</td>\n",
       "    </tr>\n",
       "    <tr>\n",
       "      <th>1</th>\n",
       "      <td>MediaTek MT6737</td>\n",
       "      <td>145</td>\n",
       "    </tr>\n",
       "    <tr>\n",
       "      <th>2</th>\n",
       "      <td>MediaTek MT6582</td>\n",
       "      <td>141</td>\n",
       "    </tr>\n",
       "    <tr>\n",
       "      <th>3</th>\n",
       "      <td>MediaTek MT6572</td>\n",
       "      <td>104</td>\n",
       "    </tr>\n",
       "    <tr>\n",
       "      <th>4</th>\n",
       "      <td>MediaTek MT6735</td>\n",
       "      <td>91</td>\n",
       "    </tr>\n",
       "    <tr>\n",
       "      <th>5</th>\n",
       "      <td>Qualcomm Snapdragon 410</td>\n",
       "      <td>85</td>\n",
       "    </tr>\n",
       "    <tr>\n",
       "      <th>6</th>\n",
       "      <td>Spreadtrum SC9832A</td>\n",
       "      <td>81</td>\n",
       "    </tr>\n",
       "    <tr>\n",
       "      <th>7</th>\n",
       "      <td>MediaTek MT6580</td>\n",
       "      <td>77</td>\n",
       "    </tr>\n",
       "    <tr>\n",
       "      <th>8</th>\n",
       "      <td>MediaTek MT6753</td>\n",
       "      <td>70</td>\n",
       "    </tr>\n",
       "    <tr>\n",
       "      <th>9</th>\n",
       "      <td>Spreadtrum SC7731</td>\n",
       "      <td>67</td>\n",
       "    </tr>\n",
       "    <tr>\n",
       "      <th>10</th>\n",
       "      <td>MediaTek Helio P22</td>\n",
       "      <td>65</td>\n",
       "    </tr>\n",
       "    <tr>\n",
       "      <th>11</th>\n",
       "      <td>MediaTek MT6582M</td>\n",
       "      <td>65</td>\n",
       "    </tr>\n",
       "    <tr>\n",
       "      <th>12</th>\n",
       "      <td>MediaTek Helio G85</td>\n",
       "      <td>61</td>\n",
       "    </tr>\n",
       "    <tr>\n",
       "      <th>13</th>\n",
       "      <td>Qualcomm Snapdragon 400</td>\n",
       "      <td>58</td>\n",
       "    </tr>\n",
       "    <tr>\n",
       "      <th>14</th>\n",
       "      <td>MediaTek MT6592</td>\n",
       "      <td>56</td>\n",
       "    </tr>\n",
       "  </tbody>\n",
       "</table>\n",
       "</div>"
      ],
      "text/plain": [
       "                    Chipset  brand\n",
       "0     Qualcomm Snapdragon 8    180\n",
       "1           MediaTek MT6737    145\n",
       "2           MediaTek MT6582    141\n",
       "3           MediaTek MT6572    104\n",
       "4           MediaTek MT6735     91\n",
       "5   Qualcomm Snapdragon 410     85\n",
       "6        Spreadtrum SC9832A     81\n",
       "7           MediaTek MT6580     77\n",
       "8           MediaTek MT6753     70\n",
       "9         Spreadtrum SC7731     67\n",
       "10       MediaTek Helio P22     65\n",
       "11         MediaTek MT6582M     65\n",
       "12       MediaTek Helio G85     61\n",
       "13  Qualcomm Snapdragon 400     58\n",
       "14          MediaTek MT6592     56"
      ]
     },
     "execution_count": 15,
     "metadata": {},
     "output_type": "execute_result"
    }
   ],
   "source": [
    "d3 = (data.groupby('Chipset')['brand'].count().sort_values(ascending = False).head(15)).reset_index()\n",
    "d3"
   ]
  },
  {
   "cell_type": "markdown",
   "id": "256b63ae",
   "metadata": {},
   "source": [
    "#"
   ]
  },
  {
   "cell_type": "code",
   "execution_count": 16,
   "id": "c41427ee",
   "metadata": {},
   "outputs": [
    {
     "data": {
      "image/png": "[encoded data removed]",
      "text/plain": [
       "<Figure size 1000x600 with 1 Axes>"
      ]
     },
     "metadata": {},
     "output_type": "display_data"
    }
   ],
   "source": [
    "plt.figure(figsize=(10, 6))\n",
    "bars = plt.bar(d3['Chipset'], d3['brand'], color='cyan')\n",
    "plt.xlabel('Chipset')\n",
    "plt.ylabel('No. of brands')\n",
    "plt.title('Chipset Distribution as per the brands')\n",
    "plt.xticks(rotation=90)\n",
    "for i in bars:\n",
    "    value = i.get_height()\n",
    "    plt.text(i.get_x() + i.get_width()/2, value + 0.05, round(value, 2), ha='center', va='top')\n",
    "plt.show()"
   ]
  },
  {
   "cell_type": "markdown",
   "id": "7e08ef9a",
   "metadata": {},
   "source": [
    "-------------"
   ]
  },
  {
   "cell_type": "markdown",
   "id": "4bdc3b3e",
   "metadata": {},
   "source": [
    "### Visualisation of average rating for brands "
   ]
  },
  {
   "cell_type": "code",
   "execution_count": 19,
   "id": "020ebd0c",
   "metadata": {},
   "outputs": [
    {
     "data": {
      "text/html": [
       "<div>\n",
       "<style scoped>\n",
       "    .dataframe tbody tr th:only-of-type {\n",
       "        vertical-align: middle;\n",
       "    }\n",
       "\n",
       "    .dataframe tbody tr th {\n",
       "        vertical-align: top;\n",
       "    }\n",
       "\n",
       "    .dataframe thead th {\n",
       "        text-align: right;\n",
       "    }\n",
       "</style>\n",
       "<table border=\"1\" class=\"dataframe\">\n",
       "  <thead>\n",
       "    <tr style=\"text-align: right;\">\n",
       "      <th></th>\n",
       "      <th>brand</th>\n",
       "      <th>Rating</th>\n",
       "    </tr>\n",
       "  </thead>\n",
       "  <tbody>\n",
       "    <tr>\n",
       "      <th>40</th>\n",
       "      <td>Emerin</td>\n",
       "      <td>5.000000</td>\n",
       "    </tr>\n",
       "    <tr>\n",
       "      <th>98</th>\n",
       "      <td>Maze</td>\n",
       "      <td>5.000000</td>\n",
       "    </tr>\n",
       "    <tr>\n",
       "      <th>20</th>\n",
       "      <td>Brillon</td>\n",
       "      <td>4.800000</td>\n",
       "    </tr>\n",
       "    <tr>\n",
       "      <th>163</th>\n",
       "      <td>Verico</td>\n",
       "      <td>4.700000</td>\n",
       "    </tr>\n",
       "    <tr>\n",
       "      <th>56</th>\n",
       "      <td>HP</td>\n",
       "      <td>4.700000</td>\n",
       "    </tr>\n",
       "    <tr>\n",
       "      <th>31</th>\n",
       "      <td>DOMO</td>\n",
       "      <td>4.600000</td>\n",
       "    </tr>\n",
       "    <tr>\n",
       "      <th>62</th>\n",
       "      <td>Hotpary</td>\n",
       "      <td>4.600000</td>\n",
       "    </tr>\n",
       "    <tr>\n",
       "      <th>112</th>\n",
       "      <td>Nothing</td>\n",
       "      <td>4.416667</td>\n",
       "    </tr>\n",
       "    <tr>\n",
       "      <th>120</th>\n",
       "      <td>Oorie</td>\n",
       "      <td>4.400000</td>\n",
       "    </tr>\n",
       "    <tr>\n",
       "      <th>7</th>\n",
       "      <td>Apple</td>\n",
       "      <td>4.254386</td>\n",
       "    </tr>\n",
       "  </tbody>\n",
       "</table>\n",
       "</div>"
      ],
      "text/plain": [
       "       brand    Rating\n",
       "40    Emerin  5.000000\n",
       "98      Maze  5.000000\n",
       "20   Brillon  4.800000\n",
       "163   Verico  4.700000\n",
       "56        HP  4.700000\n",
       "31      DOMO  4.600000\n",
       "62   Hotpary  4.600000\n",
       "112  Nothing  4.416667\n",
       "120    Oorie  4.400000\n",
       "7      Apple  4.254386"
      ]
     },
     "execution_count": 19,
     "metadata": {},
     "output_type": "execute_result"
    }
   ],
   "source": [
    "d4 = data.groupby('brand')['Rating'].mean().reset_index().sort_values(by = 'Rating' , ascending = False).head(10)\n",
    "d4\n",
    "# Data shows that brands like Emerin and Maze has an rating of 5 star that shows their excellency in Mobile Phones \n",
    "# manufacturing also a good customer support after purchasing the mobile phones "
   ]
  },
  {
   "cell_type": "code",
   "execution_count": 20,
   "id": "66735c33",
   "metadata": {},
   "outputs": [
    {
     "data": {
      "image/png": "[encoded data removed]",
      "text/plain": [
       "<Figure size 1000x600 with 1 Axes>"
      ]
     },
     "metadata": {},
     "output_type": "display_data"
    }
   ],
   "source": [
    "plt.figure(figsize = (10,6))\n",
    "plt.bar(d4['brand'] , d4['Rating'] , color = 'maroon')\n",
    "plt.xlabel('Brand')\n",
    "plt.ylabel('Avg Rating')\n",
    "plt.xticks(rotation = 0)\n",
    "plt.show()\n",
    "# The bars look similar but there is slight diffrence "
   ]
  },
  {
   "cell_type": "markdown",
   "id": "2856ea2e",
   "metadata": {},
   "source": [
    "---------------"
   ]
  },
  {
   "cell_type": "markdown",
   "id": "07c9e0e9",
   "metadata": {},
   "source": [
    "### Visualisation of 'Radio' column"
   ]
  },
  {
   "cell_type": "code",
   "execution_count": 17,
   "id": "af571c02",
   "metadata": {},
   "outputs": [
    {
     "data": {
      "text/html": [
       "<div>\n",
       "<style scoped>\n",
       "    .dataframe tbody tr th:only-of-type {\n",
       "        vertical-align: middle;\n",
       "    }\n",
       "\n",
       "    .dataframe tbody tr th {\n",
       "        vertical-align: top;\n",
       "    }\n",
       "\n",
       "    .dataframe thead th {\n",
       "        text-align: right;\n",
       "    }\n",
       "</style>\n",
       "<table border=\"1\" class=\"dataframe\">\n",
       "  <thead>\n",
       "    <tr style=\"text-align: right;\">\n",
       "      <th></th>\n",
       "      <th>Radio</th>\n",
       "      <th>brand</th>\n",
       "    </tr>\n",
       "  </thead>\n",
       "  <tbody>\n",
       "    <tr>\n",
       "      <th>0</th>\n",
       "      <td>No</td>\n",
       "      <td>1094</td>\n",
       "    </tr>\n",
       "    <tr>\n",
       "      <th>1</th>\n",
       "      <td>Yes</td>\n",
       "      <td>3488</td>\n",
       "    </tr>\n",
       "  </tbody>\n",
       "</table>\n",
       "</div>"
      ],
      "text/plain": [
       "  Radio  brand\n",
       "0    No   1094\n",
       "1   Yes   3488"
      ]
     },
     "execution_count": 17,
     "metadata": {},
     "output_type": "execute_result"
    }
   ],
   "source": [
    "d3 = data.groupby('Radio')['brand'].count().reset_index()\n",
    "d3\n",
    "# It shows that over 3488 phones have radio connectivity while 1094 still doesnt have radio connectivity"
   ]
  },
  {
   "cell_type": "code",
   "execution_count": 18,
   "id": "1abbcf70",
   "metadata": {
    "scrolled": false
   },
   "outputs": [
    {
     "data": {
      "image/png": "[encoded data removed]",
      "text/plain": [
       "<Figure size 1000x600 with 1 Axes>"
      ]
     },
     "metadata": {},
     "output_type": "display_data"
    }
   ],
   "source": [
    "# Let us now visualize the d3 output \n",
    "plt.figure(figsize = (10,6))\n",
    "plt.pie(d3['brand'] , labels = d3['Radio'] , startangle  = 90)\n",
    "plt.title('Radio Distribution')\n",
    "plt.show()"
   ]
  },
  {
   "cell_type": "markdown",
   "id": "b8cda5ef",
   "metadata": {},
   "source": [
    "--------------"
   ]
  },
  {
   "cell_type": "markdown",
   "id": "8b1af4cf",
   "metadata": {},
   "source": [
    "### Distribution of Screen Sizes"
   ]
  },
  {
   "cell_type": "code",
   "execution_count": 61,
   "id": "488440c9",
   "metadata": {},
   "outputs": [
    {
     "data": {
      "image/png": "[encoded data removed]",
      "text/plain": [
       "<Figure size 1400x800 with 1 Axes>"
      ]
     },
     "metadata": {},
     "output_type": "display_data"
    }
   ],
   "source": [
    "# Histogram of Screen Sizes\n",
    "plt.figure(figsize=(14, 8))\n",
    "sns.histplot(data=data, x='Screen Size', multiple='stack', kde=True)\n",
    "plt.title('Distribution of Screen Sizes by Brand')\n",
    "plt.xlabel('Screen Size (inches)')\n",
    "plt.ylabel('Frequency')\n",
    "plt.show()"
   ]
  },
  {
   "cell_type": "markdown",
   "id": "72e6fc41",
   "metadata": {},
   "source": [
    "###### More than 800 mobile phones uses screen size of 5 inches"
   ]
  },
  {
   "cell_type": "markdown",
   "id": "1fe535ea",
   "metadata": {},
   "source": [
    "--------------"
   ]
  },
  {
   "cell_type": "markdown",
   "id": "815fd829",
   "metadata": {},
   "source": [
    "### Pie chart of expandable memory"
   ]
  },
  {
   "cell_type": "code",
   "execution_count": 78,
   "id": "204b6cc8",
   "metadata": {},
   "outputs": [
    {
     "data": {
      "text/html": [
       "<div>\n",
       "<style scoped>\n",
       "    .dataframe tbody tr th:only-of-type {\n",
       "        vertical-align: middle;\n",
       "    }\n",
       "\n",
       "    .dataframe tbody tr th {\n",
       "        vertical-align: top;\n",
       "    }\n",
       "\n",
       "    .dataframe thead th {\n",
       "        text-align: right;\n",
       "    }\n",
       "</style>\n",
       "<table border=\"1\" class=\"dataframe\">\n",
       "  <thead>\n",
       "    <tr style=\"text-align: right;\">\n",
       "      <th></th>\n",
       "      <th>index</th>\n",
       "      <th>Expandable Memory</th>\n",
       "    </tr>\n",
       "  </thead>\n",
       "  <tbody>\n",
       "    <tr>\n",
       "      <th>0</th>\n",
       "      <td>Yes</td>\n",
       "      <td>3712</td>\n",
       "    </tr>\n",
       "    <tr>\n",
       "      <th>1</th>\n",
       "      <td>No</td>\n",
       "      <td>870</td>\n",
       "    </tr>\n",
       "  </tbody>\n",
       "</table>\n",
       "</div>"
      ],
      "text/plain": [
       "  index  Expandable Memory\n",
       "0   Yes               3712\n",
       "1    No                870"
      ]
     },
     "execution_count": 78,
     "metadata": {},
     "output_type": "execute_result"
    }
   ],
   "source": [
    "d2 = data['Expandable Memory'].value_counts().reset_index()\n",
    "d2"
   ]
  },
  {
   "cell_type": "code",
   "execution_count": 84,
   "id": "37557e8d",
   "metadata": {},
   "outputs": [
    {
     "data": {
      "image/png": "[encoded data removed]",
      "text/plain": [
       "<Figure size 1000x600 with 1 Axes>"
      ]
     },
     "metadata": {},
     "output_type": "display_data"
    }
   ],
   "source": [
    "colurlist = ['orange','green']\n",
    "plt.figure(figsize=(10,6))\n",
    "plt.pie(d2['Expandable Memory'],labels=d2['index'],autopct='%1.1f%%', startangle=90,colors=colurlist)\n",
    "plt.show()"
   ]
  },
  {
   "cell_type": "markdown",
   "id": "e2f7efee",
   "metadata": {},
   "source": [
    "-----------"
   ]
  },
  {
   "cell_type": "markdown",
   "id": "d0a6f29f",
   "metadata": {},
   "source": [
    "## Correlation coefficient between some ideally realated columns"
   ]
  },
  {
   "cell_type": "code",
   "execution_count": 21,
   "id": "a848a47d",
   "metadata": {},
   "outputs": [
    {
     "name": "stdout",
     "output_type": "stream",
     "text": [
      "Correlation between RAM and Price is  : 0.6224109055686348\n"
     ]
    }
   ],
   "source": [
    "# Impact of Price on RAM\n",
    "d = data['Price'].corr(data['RAM'])\n",
    "print(\"Correlation between RAM and Price is  :\" , d)"
   ]
  },
  {
   "cell_type": "code",
   "execution_count": 22,
   "id": "d6c7d2a2",
   "metadata": {},
   "outputs": [
    {
     "name": "stdout",
     "output_type": "stream",
     "text": [
      "Impact of Screen Size on Rating: 0.006434512542756858\n"
     ]
    }
   ],
   "source": [
    "# Screens size impact on Rating\n",
    "screen_size_rating_corr = data['Screen Size'].corr(data['Rating'])\n",
    "print(\"Impact of Screen Size on Rating:\" , screen_size_rating_corr)"
   ]
  },
  {
   "cell_type": "markdown",
   "id": "6ba0d9c7",
   "metadata": {},
   "source": [
    "-------------"
   ]
  },
  {
   "cell_type": "markdown",
   "id": "f9c8820a",
   "metadata": {},
   "source": [
    "## Creating a correlation matrix to visualize and analyze the correlation between the columns"
   ]
  },
  {
   "cell_type": "code",
   "execution_count": 23,
   "id": "c7725b01",
   "metadata": {},
   "outputs": [
    {
     "name": "stderr",
     "output_type": "stream",
     "text": [
      "C:\\Users\\DELL\\AppData\\Local\\Temp\\ipykernel_8764\\3828480470.py:1: FutureWarning: The default value of numeric_only in DataFrame.corr is deprecated. In a future version, it will default to False. Select only valid columns or specify the value of numeric_only to silence this warning.\n",
      "  correlation_matrix = data.corr()\n"
     ]
    },
    {
     "data": {
      "image/png": "[encoded data removed]",
      "text/plain": [
       "<Figure size 1200x800 with 2 Axes>"
      ]
     },
     "metadata": {},
     "output_type": "display_data"
    }
   ],
   "source": [
    "correlation_matrix = data.corr()\n",
    "\n",
    "# Plot correlation matrix\n",
    "plt.figure(figsize=(12, 8))\n",
    "sns.heatmap(correlation_matrix, annot=True, cmap='coolwarm', fmt='.2f')\n",
    "plt.title('Correlation Matrix')\n",
    "plt.show()"
   ]
  },
  {
   "cell_type": "markdown",
   "id": "2c99fd6d",
   "metadata": {},
   "source": [
    "----------------------------"
   ]
  },
  {
   "cell_type": "markdown",
   "id": "b61c15fc",
   "metadata": {},
   "source": [
    "# Data Analysis"
   ]
  },
  {
   "cell_type": "markdown",
   "id": "4cf18130",
   "metadata": {},
   "source": [
    "### Top 10 brands with Highest Average Price"
   ]
  },
  {
   "cell_type": "code",
   "execution_count": 24,
   "id": "daa4fb26",
   "metadata": {},
   "outputs": [
    {
     "data": {
      "text/html": [
       "<div>\n",
       "<style scoped>\n",
       "    .dataframe tbody tr th:only-of-type {\n",
       "        vertical-align: middle;\n",
       "    }\n",
       "\n",
       "    .dataframe tbody tr th {\n",
       "        vertical-align: top;\n",
       "    }\n",
       "\n",
       "    .dataframe thead th {\n",
       "        text-align: right;\n",
       "    }\n",
       "</style>\n",
       "<table border=\"1\" class=\"dataframe\">\n",
       "  <thead>\n",
       "    <tr style=\"text-align: right;\">\n",
       "      <th></th>\n",
       "      <th>brand</th>\n",
       "      <th>Price</th>\n",
       "    </tr>\n",
       "  </thead>\n",
       "  <tbody>\n",
       "    <tr>\n",
       "      <th>0</th>\n",
       "      <td>Apple</td>\n",
       "      <td>75828.122807</td>\n",
       "    </tr>\n",
       "    <tr>\n",
       "      <th>1</th>\n",
       "      <td>Fairphone</td>\n",
       "      <td>56540.000000</td>\n",
       "    </tr>\n",
       "    <tr>\n",
       "      <th>2</th>\n",
       "      <td>AGM</td>\n",
       "      <td>51888.571429</td>\n",
       "    </tr>\n",
       "    <tr>\n",
       "      <th>3</th>\n",
       "      <td>Google</td>\n",
       "      <td>50947.090909</td>\n",
       "    </tr>\n",
       "    <tr>\n",
       "      <th>4</th>\n",
       "      <td>Essential</td>\n",
       "      <td>44990.000000</td>\n",
       "    </tr>\n",
       "    <tr>\n",
       "      <th>5</th>\n",
       "      <td>Sonim</td>\n",
       "      <td>40000.000000</td>\n",
       "    </tr>\n",
       "    <tr>\n",
       "      <th>6</th>\n",
       "      <td>CAT</td>\n",
       "      <td>39729.833333</td>\n",
       "    </tr>\n",
       "    <tr>\n",
       "      <th>7</th>\n",
       "      <td>Huawei</td>\n",
       "      <td>37491.746988</td>\n",
       "    </tr>\n",
       "    <tr>\n",
       "      <th>8</th>\n",
       "      <td>Nubia</td>\n",
       "      <td>37006.000000</td>\n",
       "    </tr>\n",
       "    <tr>\n",
       "      <th>9</th>\n",
       "      <td>Nothing</td>\n",
       "      <td>36513.666667</td>\n",
       "    </tr>\n",
       "  </tbody>\n",
       "</table>\n",
       "</div>"
      ],
      "text/plain": [
       "       brand         Price\n",
       "0      Apple  75828.122807\n",
       "1  Fairphone  56540.000000\n",
       "2        AGM  51888.571429\n",
       "3     Google  50947.090909\n",
       "4  Essential  44990.000000\n",
       "5      Sonim  40000.000000\n",
       "6        CAT  39729.833333\n",
       "7     Huawei  37491.746988\n",
       "8      Nubia  37006.000000\n",
       "9    Nothing  36513.666667"
      ]
     },
     "execution_count": 24,
     "metadata": {},
     "output_type": "execute_result"
    }
   ],
   "source": [
    "data.groupby('brand')['Price'].mean().sort_values(ascending=False).reset_index().head(10)"
   ]
  },
  {
   "cell_type": "markdown",
   "id": "b3af6794",
   "metadata": {},
   "source": [
    "----------------"
   ]
  },
  {
   "cell_type": "markdown",
   "id": "fa869400",
   "metadata": {},
   "source": [
    "### Top 10 brands with Most Models"
   ]
  },
  {
   "cell_type": "code",
   "execution_count": 25,
   "id": "e2e666b8",
   "metadata": {},
   "outputs": [
    {
     "data": {
      "text/html": [
       "<div>\n",
       "<style scoped>\n",
       "    .dataframe tbody tr th:only-of-type {\n",
       "        vertical-align: middle;\n",
       "    }\n",
       "\n",
       "    .dataframe tbody tr th {\n",
       "        vertical-align: top;\n",
       "    }\n",
       "\n",
       "    .dataframe thead th {\n",
       "        text-align: right;\n",
       "    }\n",
       "</style>\n",
       "<table border=\"1\" class=\"dataframe\">\n",
       "  <thead>\n",
       "    <tr style=\"text-align: right;\">\n",
       "      <th></th>\n",
       "      <th>brand</th>\n",
       "      <th>Name</th>\n",
       "    </tr>\n",
       "  </thead>\n",
       "  <tbody>\n",
       "    <tr>\n",
       "      <th>0</th>\n",
       "      <td>Samsung</td>\n",
       "      <td>333</td>\n",
       "    </tr>\n",
       "    <tr>\n",
       "      <th>1</th>\n",
       "      <td>vivo</td>\n",
       "      <td>280</td>\n",
       "    </tr>\n",
       "    <tr>\n",
       "      <th>2</th>\n",
       "      <td>Intex</td>\n",
       "      <td>246</td>\n",
       "    </tr>\n",
       "    <tr>\n",
       "      <th>3</th>\n",
       "      <td>Xiaomi</td>\n",
       "      <td>200</td>\n",
       "    </tr>\n",
       "    <tr>\n",
       "      <th>4</th>\n",
       "      <td>Micromax</td>\n",
       "      <td>177</td>\n",
       "    </tr>\n",
       "    <tr>\n",
       "      <th>5</th>\n",
       "      <td>realme</td>\n",
       "      <td>143</td>\n",
       "    </tr>\n",
       "    <tr>\n",
       "      <th>6</th>\n",
       "      <td>OPPO</td>\n",
       "      <td>140</td>\n",
       "    </tr>\n",
       "    <tr>\n",
       "      <th>7</th>\n",
       "      <td>Lava</td>\n",
       "      <td>126</td>\n",
       "    </tr>\n",
       "    <tr>\n",
       "      <th>8</th>\n",
       "      <td>Apple</td>\n",
       "      <td>114</td>\n",
       "    </tr>\n",
       "    <tr>\n",
       "      <th>9</th>\n",
       "      <td>Nokia</td>\n",
       "      <td>113</td>\n",
       "    </tr>\n",
       "  </tbody>\n",
       "</table>\n",
       "</div>"
      ],
      "text/plain": [
       "      brand  Name\n",
       "0   Samsung   333\n",
       "1      vivo   280\n",
       "2     Intex   246\n",
       "3    Xiaomi   200\n",
       "4  Micromax   177\n",
       "5    realme   143\n",
       "6      OPPO   140\n",
       "7      Lava   126\n",
       "8     Apple   114\n",
       "9     Nokia   113"
      ]
     },
     "execution_count": 25,
     "metadata": {},
     "output_type": "execute_result"
    }
   ],
   "source": [
    "data.groupby('brand')['Name'].count().sort_values(ascending=False).reset_index().head(10)"
   ]
  },
  {
   "cell_type": "markdown",
   "id": "afd128b7",
   "metadata": {},
   "source": [
    "------------------"
   ]
  },
  {
   "cell_type": "markdown",
   "id": "6106061b",
   "metadata": {},
   "source": [
    "### Maximum internal storage by Device"
   ]
  },
  {
   "cell_type": "code",
   "execution_count": 91,
   "id": "357485a3",
   "metadata": {},
   "outputs": [
    {
     "name": "stdout",
     "output_type": "stream",
     "text": [
      "Maximum Internal Storage by a device is 'Nubia Red Magic 8 Pro Plus' and it have storage of 256.0 GB\n"
     ]
    }
   ],
   "source": [
    "d5 = data.groupby('Name')['Internal Memory'].max().sort_values(ascending=False).reset_index()\n",
    "print(f\"Maximum Internal Storage by a device is '{d5.loc[0][0]}' and it have storage of {d5.loc[0][1]/1000000} GB\")"
   ]
  },
  {
   "cell_type": "markdown",
   "id": "5664210e",
   "metadata": {},
   "source": [
    "---------------"
   ]
  },
  {
   "cell_type": "markdown",
   "id": "775dd9ed",
   "metadata": {},
   "source": [
    "### Top 5 most expensive mobiles"
   ]
  },
  {
   "cell_type": "code",
   "execution_count": 87,
   "id": "5e221945",
   "metadata": {},
   "outputs": [
    {
     "data": {
      "text/html": [
       "<div>\n",
       "<style scoped>\n",
       "    .dataframe tbody tr th:only-of-type {\n",
       "        vertical-align: middle;\n",
       "    }\n",
       "\n",
       "    .dataframe tbody tr th {\n",
       "        vertical-align: top;\n",
       "    }\n",
       "\n",
       "    .dataframe thead th {\n",
       "        text-align: right;\n",
       "    }\n",
       "</style>\n",
       "<table border=\"1\" class=\"dataframe\">\n",
       "  <thead>\n",
       "    <tr style=\"text-align: right;\">\n",
       "      <th></th>\n",
       "      <th>Name</th>\n",
       "      <th>Price</th>\n",
       "    </tr>\n",
       "  </thead>\n",
       "  <tbody>\n",
       "    <tr>\n",
       "      <th>319</th>\n",
       "      <td>Apple iPhone 15 Pro Max 1TB</td>\n",
       "      <td>194900</td>\n",
       "    </tr>\n",
       "    <tr>\n",
       "      <th>423</th>\n",
       "      <td>Samsung Galaxy Z Fold5 1TB</td>\n",
       "      <td>184999</td>\n",
       "    </tr>\n",
       "    <tr>\n",
       "      <th>2906</th>\n",
       "      <td>Samsung W23</td>\n",
       "      <td>182390</td>\n",
       "    </tr>\n",
       "    <tr>\n",
       "      <th>392</th>\n",
       "      <td>Apple iPhone 15 Pro Max 512GB</td>\n",
       "      <td>179900</td>\n",
       "    </tr>\n",
       "    <tr>\n",
       "      <th>481</th>\n",
       "      <td>Apple iPhone 13 Pro Max 1TB</td>\n",
       "      <td>179900</td>\n",
       "    </tr>\n",
       "  </tbody>\n",
       "</table>\n",
       "</div>"
      ],
      "text/plain": [
       "                               Name   Price\n",
       "319     Apple iPhone 15 Pro Max 1TB  194900\n",
       "423      Samsung Galaxy Z Fold5 1TB  184999\n",
       "2906                    Samsung W23  182390\n",
       "392   Apple iPhone 15 Pro Max 512GB  179900\n",
       "481     Apple iPhone 13 Pro Max 1TB  179900"
      ]
     },
     "execution_count": 87,
     "metadata": {},
     "output_type": "execute_result"
    }
   ],
   "source": [
    "data.sort_values('Price',ascending=False)[['Name','Price']].head(5)"
   ]
  },
  {
   "cell_type": "markdown",
   "id": "616fd43a",
   "metadata": {},
   "source": [
    "### Top 5 most cheap mobiles"
   ]
  },
  {
   "cell_type": "code",
   "execution_count": 86,
   "id": "cd08074d",
   "metadata": {},
   "outputs": [
    {
     "data": {
      "text/html": [
       "<div>\n",
       "<style scoped>\n",
       "    .dataframe tbody tr th:only-of-type {\n",
       "        vertical-align: middle;\n",
       "    }\n",
       "\n",
       "    .dataframe tbody tr th {\n",
       "        vertical-align: top;\n",
       "    }\n",
       "\n",
       "    .dataframe thead th {\n",
       "        text-align: right;\n",
       "    }\n",
       "</style>\n",
       "<table border=\"1\" class=\"dataframe\">\n",
       "  <thead>\n",
       "    <tr style=\"text-align: right;\">\n",
       "      <th></th>\n",
       "      <th>Name</th>\n",
       "      <th>Price</th>\n",
       "    </tr>\n",
       "  </thead>\n",
       "  <tbody>\n",
       "    <tr>\n",
       "      <th>3927</th>\n",
       "      <td>Intex Aqua V3</td>\n",
       "      <td>1025</td>\n",
       "    </tr>\n",
       "    <tr>\n",
       "      <th>3955</th>\n",
       "      <td>Adcom KitKat A54</td>\n",
       "      <td>1490</td>\n",
       "    </tr>\n",
       "    <tr>\n",
       "      <th>4190</th>\n",
       "      <td>LG Optimus L1 Dual E420</td>\n",
       "      <td>1500</td>\n",
       "    </tr>\n",
       "    <tr>\n",
       "      <th>1396</th>\n",
       "      <td>Swipe Neo Power 4G</td>\n",
       "      <td>1599</td>\n",
       "    </tr>\n",
       "    <tr>\n",
       "      <th>3837</th>\n",
       "      <td>Intex Aqua Dream</td>\n",
       "      <td>1612</td>\n",
       "    </tr>\n",
       "  </tbody>\n",
       "</table>\n",
       "</div>"
      ],
      "text/plain": [
       "                         Name  Price\n",
       "3927            Intex Aqua V3   1025\n",
       "3955         Adcom KitKat A54   1490\n",
       "4190  LG Optimus L1 Dual E420   1500\n",
       "1396       Swipe Neo Power 4G   1599\n",
       "3837         Intex Aqua Dream   1612"
      ]
     },
     "execution_count": 86,
     "metadata": {},
     "output_type": "execute_result"
    }
   ],
   "source": [
    "data.sort_values('Price',ascending=True)[['Name','Price']].head(5)"
   ]
  },
  {
   "cell_type": "markdown",
   "id": "7e87e628",
   "metadata": {},
   "source": [
    "-------------"
   ]
  },
  {
   "cell_type": "markdown",
   "id": "2c515ece",
   "metadata": {},
   "source": [
    "## Price Range Distribution "
   ]
  },
  {
   "cell_type": "markdown",
   "id": "0a69b069",
   "metadata": {},
   "source": [
    "* As per the statistical data of the dataset releated to price we got to know that most expensive phone is approximately near to 1,50,000 Rs. \n",
    "* Now here we have created 3 categories as per the prices as `low : 0 to 66000` , `mid : 66001 to 132000` and  `high : 132001 to 200000`\n",
    "* Now lets see which price range have most of the mobiles "
   ]
  },
  {
   "cell_type": "code",
   "execution_count": 67,
   "id": "6a1e1aa5",
   "metadata": {},
   "outputs": [],
   "source": [
    "bins = [0,66000,132000,200000]\n",
    "labels = ['low','mid','high']\n",
    "\n",
    "data['Price Range'] = pd.cut(data['Price'],bins=bins,labels=labels,right=True)"
   ]
  },
  {
   "cell_type": "code",
   "execution_count": 77,
   "id": "30451570",
   "metadata": {},
   "outputs": [
    {
     "data": {
      "text/html": [
       "<div>\n",
       "<style scoped>\n",
       "    .dataframe tbody tr th:only-of-type {\n",
       "        vertical-align: middle;\n",
       "    }\n",
       "\n",
       "    .dataframe tbody tr th {\n",
       "        vertical-align: top;\n",
       "    }\n",
       "\n",
       "    .dataframe thead th {\n",
       "        text-align: right;\n",
       "    }\n",
       "</style>\n",
       "<table border=\"1\" class=\"dataframe\">\n",
       "  <thead>\n",
       "    <tr style=\"text-align: right;\">\n",
       "      <th></th>\n",
       "      <th>Price Range</th>\n",
       "      <th>Name</th>\n",
       "    </tr>\n",
       "  </thead>\n",
       "  <tbody>\n",
       "    <tr>\n",
       "      <th>0</th>\n",
       "      <td>low</td>\n",
       "      <td>4377</td>\n",
       "    </tr>\n",
       "    <tr>\n",
       "      <th>1</th>\n",
       "      <td>mid</td>\n",
       "      <td>170</td>\n",
       "    </tr>\n",
       "    <tr>\n",
       "      <th>2</th>\n",
       "      <td>high</td>\n",
       "      <td>35</td>\n",
       "    </tr>\n",
       "  </tbody>\n",
       "</table>\n",
       "</div>"
      ],
      "text/plain": [
       "  Price Range  Name\n",
       "0         low  4377\n",
       "1         mid   170\n",
       "2        high    35"
      ]
     },
     "execution_count": 77,
     "metadata": {},
     "output_type": "execute_result"
    }
   ],
   "source": [
    "d1 = data.groupby('Price Range')['Name'].count().reset_index()\n",
    "d1"
   ]
  },
  {
   "cell_type": "code",
   "execution_count": 69,
   "id": "5d066bf0",
   "metadata": {},
   "outputs": [
    {
     "data": {
      "text/plain": [
       "([<matplotlib.patches.Wedge at 0x152275d7e90>,\n",
       "  <matplotlib.patches.Wedge at 0x15228259a50>,\n",
       "  <matplotlib.patches.Wedge at 0x152282598d0>],\n",
       " [Text(-1.0891521336036478, 0.15410266015426843, 'low'),\n",
       "  Text(1.0851408613722147, -0.1801924276443616, 'mid'),\n",
       "  Text(1.099683290297452, -0.026394337282267016, 'high')])"
      ]
     },
     "execution_count": 69,
     "metadata": {},
     "output_type": "execute_result"
    },
    {
     "data": {
      "image/png": "[encoded data removed]",
      "text/plain": [
       "<Figure size 1000x600 with 1 Axes>"
      ]
     },
     "metadata": {},
     "output_type": "display_data"
    }
   ],
   "source": [
    "plt.figure(figsize=(10,6))\n",
    "plt.pie(d1['Name'],labels=d1['Price Range'])"
   ]
  },
  {
   "cell_type": "code",
   "execution_count": 73,
   "id": "d77ec07a",
   "metadata": {},
   "outputs": [
    {
     "data": {
      "text/plain": [
       "low     4377\n",
       "mid      170\n",
       "high      35\n",
       "Name: Price Range, dtype: int64"
      ]
     },
     "execution_count": 73,
     "metadata": {},
     "output_type": "execute_result"
    }
   ],
   "source": [
    "data['Price Range'].value_counts()"
   ]
  },
  {
   "cell_type": "code",
   "execution_count": 75,
   "id": "25ef7917",
   "metadata": {},
   "outputs": [
    {
     "name": "stdout",
     "output_type": "stream",
     "text": [
      "As per the calculation data contains : \n",
      "4377 low price range phones\n",
      "170 mid price range phones\n",
      "35 high price range phones\n"
     ]
    }
   ],
   "source": [
    "print(\"As per the calculation data contains : \")\n",
    "print(f\"{data['Price Range'].value_counts()[0]} low price range phones\")\n",
    "print(f\"{data['Price Range'].value_counts()[1]} mid price range phones\")\n",
    "print(f\"{data['Price Range'].value_counts()[2]} high price range phones\")"
   ]
  },
  {
   "cell_type": "markdown",
   "id": "60c90955",
   "metadata": {},
   "source": [
    "--------------"
   ]
  },
  {
   "cell_type": "markdown",
   "id": "36498c31",
   "metadata": {},
   "source": [
    "## Inflated price"
   ]
  },
  {
   "cell_type": "markdown",
   "id": "48af2571",
   "metadata": {},
   "source": [
    "* As we all know about incerasing rate of prices in all the categories the same can be seen in electronic category.\n",
    "* We all know that as the phone gets older its price drops. Ex. if a phone launched in June 2023 price at 30,000 will have price of approx. 20 to 25 thosand at June 2024\n",
    "* But if it was launched in June 2023 and the production stops. And it comes to relaunch at June 2024, will the price of the mobile or electronic device be same, will increase or will decrease.\n",
    "* Here the inflation comes, where even the mobile is launched on June 2023 and is getting relaunched in 2024 the inflation is increase the price of the mobile.\n",
    "* But how much? let's see : "
   ]
  },
  {
   "cell_type": "code",
   "execution_count": 92,
   "id": "1224ea72",
   "metadata": {},
   "outputs": [],
   "source": [
    "def inflated_price(price):\n",
    "    return price + (price*0.05)\n",
    "    \n",
    "data['Inflated Price'] = data['Price'].apply(inflated_price)"
   ]
  },
  {
   "cell_type": "code",
   "execution_count": 93,
   "id": "736d3417",
   "metadata": {},
   "outputs": [
    {
     "data": {
      "text/html": [
       "<div>\n",
       "<style scoped>\n",
       "    .dataframe tbody tr th:only-of-type {\n",
       "        vertical-align: middle;\n",
       "    }\n",
       "\n",
       "    .dataframe tbody tr th {\n",
       "        vertical-align: top;\n",
       "    }\n",
       "\n",
       "    .dataframe thead th {\n",
       "        text-align: right;\n",
       "    }\n",
       "</style>\n",
       "<table border=\"1\" class=\"dataframe\">\n",
       "  <thead>\n",
       "    <tr style=\"text-align: right;\">\n",
       "      <th></th>\n",
       "      <th>Price</th>\n",
       "      <th>Inflated Price</th>\n",
       "    </tr>\n",
       "  </thead>\n",
       "  <tbody>\n",
       "    <tr>\n",
       "      <th>0</th>\n",
       "      <td>30999</td>\n",
       "      <td>32548.95</td>\n",
       "    </tr>\n",
       "    <tr>\n",
       "      <th>1</th>\n",
       "      <td>24998</td>\n",
       "      <td>26247.90</td>\n",
       "    </tr>\n",
       "    <tr>\n",
       "      <th>2</th>\n",
       "      <td>26999</td>\n",
       "      <td>28348.95</td>\n",
       "    </tr>\n",
       "    <tr>\n",
       "      <th>3</th>\n",
       "      <td>31142</td>\n",
       "      <td>32699.10</td>\n",
       "    </tr>\n",
       "    <tr>\n",
       "      <th>4</th>\n",
       "      <td>24499</td>\n",
       "      <td>25723.95</td>\n",
       "    </tr>\n",
       "    <tr>\n",
       "      <th>...</th>\n",
       "      <td>...</td>\n",
       "      <td>...</td>\n",
       "    </tr>\n",
       "    <tr>\n",
       "      <th>4577</th>\n",
       "      <td>11990</td>\n",
       "      <td>12589.50</td>\n",
       "    </tr>\n",
       "    <tr>\n",
       "      <th>4578</th>\n",
       "      <td>22990</td>\n",
       "      <td>24139.50</td>\n",
       "    </tr>\n",
       "    <tr>\n",
       "      <th>4579</th>\n",
       "      <td>41990</td>\n",
       "      <td>44089.50</td>\n",
       "    </tr>\n",
       "    <tr>\n",
       "      <th>4580</th>\n",
       "      <td>9990</td>\n",
       "      <td>10489.50</td>\n",
       "    </tr>\n",
       "    <tr>\n",
       "      <th>4581</th>\n",
       "      <td>22900</td>\n",
       "      <td>24045.00</td>\n",
       "    </tr>\n",
       "  </tbody>\n",
       "</table>\n",
       "<p>4582 rows × 2 columns</p>\n",
       "</div>"
      ],
      "text/plain": [
       "      Price  Inflated Price\n",
       "0     30999        32548.95\n",
       "1     24998        26247.90\n",
       "2     26999        28348.95\n",
       "3     31142        32699.10\n",
       "4     24499        25723.95\n",
       "...     ...             ...\n",
       "4577  11990        12589.50\n",
       "4578  22990        24139.50\n",
       "4579  41990        44089.50\n",
       "4580   9990        10489.50\n",
       "4581  22900        24045.00\n",
       "\n",
       "[4582 rows x 2 columns]"
      ]
     },
     "execution_count": 93,
     "metadata": {},
     "output_type": "execute_result"
    }
   ],
   "source": [
    "data[['Price','Inflated Price']]"
   ]
  },
  {
   "cell_type": "markdown",
   "id": "50cbf2d1",
   "metadata": {},
   "source": [
    "---------------"
   ]
  },
  {
   "cell_type": "markdown",
   "id": "7d3686d3",
   "metadata": {},
   "source": [
    "## Mobile type distribution\n",
    "We have distributed the data into 4 parts and got some important insights as follows:"
   ]
  },
  {
   "cell_type": "markdown",
   "id": "98937a61",
   "metadata": {},
   "source": [
    "* Budget smartphones. : o to 20,000\n",
    "* Expensive smartphones : more than 1,50,000\n",
    "* Sub-flagship smartphones. : 20,000 to  60,000.\n",
    "* Flagship smartphones. : 60,000 to Rs 1,50,000"
   ]
  },
  {
   "cell_type": "code",
   "execution_count": 45,
   "id": "ef6e4b78",
   "metadata": {},
   "outputs": [],
   "source": [
    "data_mobile_type = data"
   ]
  },
  {
   "cell_type": "code",
   "execution_count": 51,
   "id": "6c73ad18",
   "metadata": {},
   "outputs": [],
   "source": [
    "bins = [0,20000,60000,150000,200000]\n",
    "label = ['Budget','Sub-Flagship','Flagship','Expensive']"
   ]
  },
  {
   "cell_type": "code",
   "execution_count": 53,
   "id": "aa92ad0d",
   "metadata": {},
   "outputs": [],
   "source": [
    "data_mobile_type['Mobile Type'] = pd.cut(data_mobile_type['Price'],bins=bins,labels=label,right=True)"
   ]
  },
  {
   "cell_type": "code",
   "execution_count": 56,
   "id": "7a83aa12",
   "metadata": {},
   "outputs": [
    {
     "data": {
      "text/plain": [
       "Mobile Type\n",
       "Budget          3206\n",
       "Sub-Flagship    1131\n",
       "Flagship         224\n",
       "Expensive         21\n",
       "Name: Name, dtype: int64"
      ]
     },
     "execution_count": 56,
     "metadata": {},
     "output_type": "execute_result"
    }
   ],
   "source": [
    "data_mobile_type.groupby('Mobile Type')['Name'].count()"
   ]
  },
  {
   "cell_type": "code",
   "execution_count": 64,
   "id": "72f1c952",
   "metadata": {},
   "outputs": [],
   "source": [
    "budget_mobiles = data[data['Mobile Type']=='Budget']\n",
    "Subflagship_mobiles = data[data['Mobile Type']=='Sub-Flagship']\n",
    "Flagship_mobiles = data[data['Mobile Type']=='Flagship']\n",
    "Expensive_mobiles = data[data['Mobile Type']=='Expensive']"
   ]
  },
  {
   "cell_type": "markdown",
   "id": "30a5f8ad",
   "metadata": {},
   "source": [
    "#### top 10 Companies/Brands which have most budget mobiles  "
   ]
  },
  {
   "cell_type": "code",
   "execution_count": 72,
   "id": "eaa7316c",
   "metadata": {},
   "outputs": [
    {
     "data": {
      "text/plain": [
       "brand\n",
       "Intex        246\n",
       "Micromax     175\n",
       "Samsung      167\n",
       "vivo         155\n",
       "Lava         126\n",
       "Xiaomi       121\n",
       "Nokia        102\n",
       "Lenovo       101\n",
       "realme        95\n",
       "Panasonic     87\n",
       "Name: Name, dtype: int64"
      ]
     },
     "execution_count": 72,
     "metadata": {},
     "output_type": "execute_result"
    }
   ],
   "source": [
    "budget_mobiles.groupby('brand')['Name'].count().sort_values(ascending=False).head(10)"
   ]
  },
  {
   "cell_type": "markdown",
   "id": "3ea8d203",
   "metadata": {},
   "source": [
    "#### top 10 Companies/brands which have most sub-flagship mobiles"
   ]
  },
  {
   "cell_type": "code",
   "execution_count": 73,
   "id": "74bd8aab",
   "metadata": {},
   "outputs": [
    {
     "data": {
      "text/plain": [
       "brand\n",
       "Samsung    122\n",
       "vivo       112\n",
       "OnePlus     78\n",
       "Xiaomi      70\n",
       "OPPO        61\n",
       "Sony        49\n",
       "realme      48\n",
       "iQOO        46\n",
       "Apple       45\n",
       "HTC         44\n",
       "Name: Name, dtype: int64"
      ]
     },
     "execution_count": 73,
     "metadata": {},
     "output_type": "execute_result"
    }
   ],
   "source": [
    "Subflagship_mobiles.groupby('brand')['Name'].count().sort_values(ascending=False).head(10)"
   ]
  },
  {
   "cell_type": "markdown",
   "id": "96a6a21a",
   "metadata": {},
   "source": [
    "#### Top 10 Companies/Brands which have most flagship mobiles"
   ]
  },
  {
   "cell_type": "code",
   "execution_count": 74,
   "id": "db497c86",
   "metadata": {},
   "outputs": [
    {
     "data": {
      "text/plain": [
       "brand\n",
       "Apple      55\n",
       "Samsung    34\n",
       "Asus       18\n",
       "Google     15\n",
       "Honor      15\n",
       "Huawei     14\n",
       "vivo       12\n",
       "OPPO       10\n",
       "Xiaomi      9\n",
       "Sony        8\n",
       "Name: Name, dtype: int64"
      ]
     },
     "execution_count": 74,
     "metadata": {},
     "output_type": "execute_result"
    }
   ],
   "source": [
    "Flagship_mobiles.groupby('brand')['Name'].count().sort_values(ascending=False).head(10)"
   ]
  },
  {
   "cell_type": "markdown",
   "id": "d992123e",
   "metadata": {},
   "source": [
    "#### Top 5 Companies/Brands which have most expensive mobiles"
   ]
  },
  {
   "cell_type": "code",
   "execution_count": 76,
   "id": "b5a1e170",
   "metadata": {},
   "outputs": [
    {
     "data": {
      "text/plain": [
       "brand\n",
       "Samsung    10\n",
       "Apple       7\n",
       "Huawei      2\n",
       "Sony        1\n",
       "vivo        1\n",
       "Name: Name, dtype: int64"
      ]
     },
     "execution_count": 76,
     "metadata": {},
     "output_type": "execute_result"
    }
   ],
   "source": [
    "Expensive_mobiles.groupby('brand')['Name'].count().sort_values(ascending=False).head(5)"
   ]
  },
  {
   "cell_type": "markdown",
   "id": "6f0f3145",
   "metadata": {},
   "source": [
    "* As we can see \"Samsumg\" and \"Vivo\" come in top 5 of every category. This indicates us they they are ont a specific price range producer.\n",
    "--------------\n",
    "* \"Apple\" have devices in Sub-Flagship and Expensive category which are top 2 as per the price distribution which indicate us that Apple is a premium and expensive device producing brand\n",
    "--------------\n",
    "* Brand like \"Lava\" , \"Lenevo\" , \"Intex\" , \"Nokia\" are cheap and low priced devices producing brands"
   ]
  },
  {
   "cell_type": "markdown",
   "id": "4b2ccd6f",
   "metadata": {},
   "source": [
    "---------------"
   ]
  }
 ],
 "metadata": {
  "kernelspec": {
   "display_name": "Python 3 (ipykernel)",
   "language": "python",
   "name": "python3"
  },
  "language_info": {
   "codemirror_mode": {
    "name": "ipython",
    "version": 3
   },
   "file_extension": ".py",
   "mimetype": "text/x-python",
   "name": "python",
   "nbconvert_exporter": "python",
   "pygments_lexer": "ipython3",
   "version": "3.11.4"
  }
 },
 "nbformat": 4,
 "nbformat_minor": 5
}
